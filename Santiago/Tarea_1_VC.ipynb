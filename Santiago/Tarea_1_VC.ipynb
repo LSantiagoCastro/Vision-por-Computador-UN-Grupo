{
  "nbformat": 4,
  "nbformat_minor": 0,
  "metadata": {
    "colab": {
      "name": "Tarea 1_VC",
      "provenance": []
    },
    "kernelspec": {
      "name": "python3",
      "display_name": "Python 3"
    },
    "language_info": {
      "name": "python"
    }
  },
  "cells": [
    {
      "cell_type": "markdown",
      "source": [
        "#TAREA. VISION POR COMPUTADORA\n",
        "Leonar Santiago Castro Vizcaya\n",
        "\n"
      ],
      "metadata": {
        "id": "p1p7jteq072D"
      }
    },
    {
      "cell_type": "markdown",
      "source": [
        "#1. Operaciones mas importantes soportadas en Numpy"
      ],
      "metadata": {
        "id": "_Pn2EnHh8GmD"
      }
    },
    {
      "cell_type": "code",
      "source": [
        "import numpy as np\n",
        "from math import pi\n",
        "import matplotlib.pyplot as plt"
      ],
      "metadata": {
        "id": "q9lcN5wW88Hl"
      },
      "execution_count": null,
      "outputs": []
    },
    {
      "cell_type": "markdown",
      "source": [
        "##Trigonometricas:\n"
      ],
      "metadata": {
        "id": "HGJpFQM48KVN"
      }
    },
    {
      "cell_type": "code",
      "source": [
        "x = np.random.randint(0,360, (4,4))\n",
        "x"
      ],
      "metadata": {
        "colab": {
          "base_uri": "https://localhost:8080/"
        },
        "id": "0iXf03nJ788C",
        "outputId": "e26e6dbd-985a-45b9-9230-27629c6d7a22"
      },
      "execution_count": null,
      "outputs": [
        {
          "output_type": "execute_result",
          "data": {
            "text/plain": [
              "array([[334, 125, 151, 320],\n",
              "       [  2,  12, 209,  69],\n",
              "       [153, 245, 353, 123],\n",
              "       [122, 155,  17, 251]])"
            ]
          },
          "metadata": {},
          "execution_count": 489
        }
      ]
    },
    {
      "cell_type": "code",
      "source": [
        "# np.radians(x) Convierte angulos de grados a radianes # np.degrees(x) convierte de radianes a grados\n",
        "x = np.radians(x)\n",
        "x"
      ],
      "metadata": {
        "colab": {
          "base_uri": "https://localhost:8080/"
        },
        "id": "yKcflVwt_g9c",
        "outputId": "5df685f8-b606-455e-9fd3-23ed27129421"
      },
      "execution_count": null,
      "outputs": [
        {
          "output_type": "execute_result",
          "data": {
            "text/plain": [
              "array([[5.8293997 , 2.18166156, 2.63544717, 5.58505361],\n",
              "       [0.03490659, 0.20943951, 3.64773814, 1.20427718],\n",
              "       [2.67035376, 4.27605667, 6.16101226, 2.14675498],\n",
              "       [2.12930169, 2.70526034, 0.29670597, 4.38077642]])"
            ]
          },
          "metadata": {},
          "execution_count": 490
        }
      ]
    },
    {
      "cell_type": "code",
      "source": [
        "########### sin(x), cos(x), tan(x), arcsin(x), arcos(x), arctan(x), tambien las hiperbolicas  ###########\n",
        "tan = np.tan(x)\n",
        "tan"
      ],
      "metadata": {
        "colab": {
          "base_uri": "https://localhost:8080/"
        },
        "id": "h_EcEtDC9cF-",
        "outputId": "709457a5-4047-4556-ebd3-7ec908cfc82b"
      },
      "execution_count": null,
      "outputs": [
        {
          "output_type": "execute_result",
          "data": {
            "text/plain": [
              "array([[-0.48773259, -1.42814801, -0.55430905, -0.83909963],\n",
              "       [ 0.03492077,  0.21255656,  0.55430905,  2.60508906],\n",
              "       [-0.50952545,  2.14450692, -0.12278456, -1.53986496],\n",
              "       [-1.60033453, -0.46630766,  0.30573068,  2.90421088]])"
            ]
          },
          "metadata": {},
          "execution_count": 491
        }
      ]
    },
    {
      "cell_type": "markdown",
      "source": [
        "##Rounding  (Redondeo):\n"
      ],
      "metadata": {
        "id": "Opviy4apBhVd"
      }
    },
    {
      "cell_type": "code",
      "source": [
        "# np.round(tan, 1) Redondea los datos de un arreglo al numero de decimales dado (1)\n",
        "round=np.round(tan, 1)\n",
        "round"
      ],
      "metadata": {
        "colab": {
          "base_uri": "https://localhost:8080/"
        },
        "id": "RN_Y-qOe9Obg",
        "outputId": "707e53d7-1f5b-4c37-ecb9-8ffcf0b1a109"
      },
      "execution_count": null,
      "outputs": [
        {
          "output_type": "execute_result",
          "data": {
            "text/plain": [
              "array([[-0.5, -1.4, -0.6, -0.8],\n",
              "       [ 0. ,  0.2,  0.6,  2.6],\n",
              "       [-0.5,  2.1, -0.1, -1.5],\n",
              "       [-1.6, -0.5,  0.3,  2.9]])"
            ]
          },
          "metadata": {},
          "execution_count": 492
        }
      ]
    },
    {
      "cell_type": "code",
      "source": [
        "# np.rint(x) redondea los datos al numero entero mas cercano\n",
        "np.rint(round)"
      ],
      "metadata": {
        "colab": {
          "base_uri": "https://localhost:8080/"
        },
        "id": "ePAwQMO4B_zL",
        "outputId": "c58ce7d1-9e33-4318-8fdd-d94106a2f42d"
      },
      "execution_count": null,
      "outputs": [
        {
          "output_type": "execute_result",
          "data": {
            "text/plain": [
              "array([[-0., -1., -1., -1.],\n",
              "       [ 0.,  0.,  1.,  3.],\n",
              "       [-0.,  2., -0., -2.],\n",
              "       [-2., -0.,  0.,  3.]])"
            ]
          },
          "metadata": {},
          "execution_count": 493
        }
      ]
    },
    {
      "cell_type": "code",
      "source": [
        "#np.floor(round) devuelve el \"piso\" o el entero directamente menor \n",
        "np.floor(round)\n"
      ],
      "metadata": {
        "colab": {
          "base_uri": "https://localhost:8080/"
        },
        "id": "uhWjK3mADHK_",
        "outputId": "484f6cba-080a-49af-feec-567dfc4d5221"
      },
      "execution_count": null,
      "outputs": [
        {
          "output_type": "execute_result",
          "data": {
            "text/plain": [
              "array([[-1., -2., -1., -1.],\n",
              "       [ 0.,  0.,  0.,  2.],\n",
              "       [-1.,  2., -1., -2.],\n",
              "       [-2., -1.,  0.,  2.]])"
            ]
          },
          "metadata": {},
          "execution_count": 494
        }
      ]
    },
    {
      "cell_type": "code",
      "source": [
        "#np.ceil(round) devuelve el \"cielo\" o el entero directamente mayor\n",
        "np.ceil(round)"
      ],
      "metadata": {
        "colab": {
          "base_uri": "https://localhost:8080/"
        },
        "id": "g9Wgs9DuIoFn",
        "outputId": "85ad2e54-45ac-4ed9-f31a-43abdc26e37d"
      },
      "execution_count": null,
      "outputs": [
        {
          "output_type": "execute_result",
          "data": {
            "text/plain": [
              "array([[-0., -1., -0., -0.],\n",
              "       [ 0.,  1.,  1.,  3.],\n",
              "       [-0.,  3., -0., -1.],\n",
              "       [-1., -0.,  1.,  3.]])"
            ]
          },
          "metadata": {},
          "execution_count": 495
        }
      ]
    },
    {
      "cell_type": "code",
      "source": [
        "#np.trunc(round) devuelve enteros, omitiendo la parte decimal de los datos\n",
        "\n",
        "t = np.trunc(round)\n",
        "print(round, \"\\n\",  t)"
      ],
      "metadata": {
        "colab": {
          "base_uri": "https://localhost:8080/"
        },
        "id": "qukELn6nI9NH",
        "outputId": "ad4be9ab-51cc-4fe4-9d78-0c732081c1e2"
      },
      "execution_count": null,
      "outputs": [
        {
          "output_type": "stream",
          "name": "stdout",
          "text": [
            "[[-0.5 -1.4 -0.6 -0.8]\n",
            " [ 0.   0.2  0.6  2.6]\n",
            " [-0.5  2.1 -0.1 -1.5]\n",
            " [-1.6 -0.5  0.3  2.9]] \n",
            " [[-0. -1. -0. -0.]\n",
            " [ 0.  0.  0.  2.]\n",
            " [-0.  2. -0. -1.]\n",
            " [-1. -0.  0.  2.]]\n"
          ]
        }
      ]
    },
    {
      "cell_type": "markdown",
      "source": [
        "##Suma, Productos y diferencias:"
      ],
      "metadata": {
        "id": "zt64ra-fOAxs"
      }
    },
    {
      "cell_type": "code",
      "source": [
        "#np.sum(arr, axis) suma los elementos de una matriz por filas(axis = 1) o columnas (axis = 0)\n",
        "np.sum(t, axis = 1)"
      ],
      "metadata": {
        "colab": {
          "base_uri": "https://localhost:8080/"
        },
        "id": "-SVJSY1aJRAu",
        "outputId": "e877d3ac-80c0-4f97-92a1-a6f0359d79ee"
      },
      "execution_count": null,
      "outputs": [
        {
          "output_type": "execute_result",
          "data": {
            "text/plain": [
              "array([-1.,  2.,  1.,  1.])"
            ]
          },
          "metadata": {},
          "execution_count": 497
        }
      ]
    },
    {
      "cell_type": "code",
      "source": [
        "#np.nanprod(t) Devuelve el producto de los elementos de la matriz sobre un eje determinado\n",
        "np.nanprod(t, 0)"
      ],
      "metadata": {
        "colab": {
          "base_uri": "https://localhost:8080/"
        },
        "id": "SbGngNCBK624",
        "outputId": "b121b9b0-0c18-485e-a3f6-4d0e4195587e"
      },
      "execution_count": null,
      "outputs": [
        {
          "output_type": "execute_result",
          "data": {
            "text/plain": [
              "array([-0.,  0.,  0.,  0.])"
            ]
          },
          "metadata": {},
          "execution_count": 498
        }
      ]
    },
    {
      "cell_type": "code",
      "source": [
        "#np.diff Calcula la n-ésima diferencia discreta a lo largo del eje dado: out[i] = a[i+1] - a[i]\n",
        "print(t,\"\\n\", (np.diff(t, axis=0)))"
      ],
      "metadata": {
        "colab": {
          "base_uri": "https://localhost:8080/"
        },
        "id": "3RfvFNhOT9q4",
        "outputId": "e98e955f-bcd5-4c91-aaf8-b7d227382856"
      },
      "execution_count": null,
      "outputs": [
        {
          "output_type": "stream",
          "name": "stdout",
          "text": [
            "[[-0. -1. -0. -0.]\n",
            " [ 0.  0.  0.  2.]\n",
            " [-0.  2. -0. -1.]\n",
            " [-1. -0.  0.  2.]] \n",
            " [[ 0.  1.  0.  2.]\n",
            " [-0.  2. -0. -3.]\n",
            " [-1. -2.  0.  3.]]\n"
          ]
        }
      ]
    },
    {
      "cell_type": "code",
      "source": [
        "#np.diff Calcula la n-ésima diferencia discreta a lo largo del eje dado: out[i] = a[i+1] - a[i]\n",
        "t=np.random.randint(0,10,(1,10))\n",
        "print(t,\"\\n\", (np.diff(t, n=1, axis=1)))"
      ],
      "metadata": {
        "colab": {
          "base_uri": "https://localhost:8080/"
        },
        "id": "Zuqp8nAMOyQJ",
        "outputId": "7d1a7d7b-4fb0-4427-8c64-b1002b476012"
      },
      "execution_count": null,
      "outputs": [
        {
          "output_type": "stream",
          "name": "stdout",
          "text": [
            "[[3 9 9 1 8 8 1 8 4 0]] \n",
            " [[ 6  0 -8  7  0 -7  7 -4 -4]]\n"
          ]
        }
      ]
    },
    {
      "cell_type": "code",
      "source": [
        "#np.gradient(t) evuelve el gradiente de una matriz N-dimensional.\n",
        "x = np.array([0, 1, 2, 3, 4])\n",
        "f = x**2\n",
        "np.gradient(f, edge_order=1)"
      ],
      "metadata": {
        "colab": {
          "base_uri": "https://localhost:8080/"
        },
        "id": "4idIVI-dPaUE",
        "outputId": "088c5abe-a5e1-48f1-c4f1-27760fdcb596"
      },
      "execution_count": null,
      "outputs": [
        {
          "output_type": "execute_result",
          "data": {
            "text/plain": [
              "array([1., 2., 4., 6., 7.])"
            ]
          },
          "metadata": {},
          "execution_count": 501
        }
      ]
    },
    {
      "cell_type": "code",
      "source": [
        "#np.cross(x,y) producto cruzado de vectores\n",
        "x = [1, 2, 3]\n",
        "y = [4, 5, 6]\n",
        "np.cross(x, y)"
      ],
      "metadata": {
        "colab": {
          "base_uri": "https://localhost:8080/"
        },
        "id": "AbMWBABYVwD1",
        "outputId": "b95ebea8-2f0d-48de-e331-4aa60384b705"
      },
      "execution_count": null,
      "outputs": [
        {
          "output_type": "execute_result",
          "data": {
            "text/plain": [
              "array([-3,  6, -3])"
            ]
          },
          "metadata": {},
          "execution_count": 502
        }
      ]
    },
    {
      "cell_type": "code",
      "source": [
        "x = np.array([[1,2,3], [4,5,6]])\n",
        "y = np.array([[4,5,6], [1,2,3]])\n",
        "np.cross(x, y)\n"
      ],
      "metadata": {
        "colab": {
          "base_uri": "https://localhost:8080/"
        },
        "id": "wOt5uAtWYyTO",
        "outputId": "1ed59138-47d5-4a11-b418-1cdbd4ca8052"
      },
      "execution_count": null,
      "outputs": [
        {
          "output_type": "execute_result",
          "data": {
            "text/plain": [
              "array([[-3,  6, -3],\n",
              "       [ 3, -6,  3]])"
            ]
          },
          "metadata": {},
          "execution_count": 503
        }
      ]
    },
    {
      "cell_type": "code",
      "source": [
        "#np.trapz(y,x) Integral definida de 'y' = arreglo n-dimensional aproximado a lo largo de un solo eje por la regla trapezoidal.\n",
        "a = np.arange(6).reshape(2, 3)\n",
        "a"
      ],
      "metadata": {
        "colab": {
          "base_uri": "https://localhost:8080/"
        },
        "id": "jqcLGV58astZ",
        "outputId": "dee495c3-e0aa-431e-dfd0-105a12f63ad5"
      },
      "execution_count": null,
      "outputs": [
        {
          "output_type": "execute_result",
          "data": {
            "text/plain": [
              "array([[0, 1, 2],\n",
              "       [3, 4, 5]])"
            ]
          },
          "metadata": {},
          "execution_count": 504
        }
      ]
    },
    {
      "cell_type": "code",
      "source": [
        "np.trapz(a, axis=0) "
      ],
      "metadata": {
        "colab": {
          "base_uri": "https://localhost:8080/"
        },
        "id": "sF_puz0ucws3",
        "outputId": "e2551ffe-013e-43c9-d637-1b04a0dd1b5a"
      },
      "execution_count": null,
      "outputs": [
        {
          "output_type": "execute_result",
          "data": {
            "text/plain": [
              "array([1.5, 2.5, 3.5])"
            ]
          },
          "metadata": {},
          "execution_count": 505
        }
      ]
    },
    {
      "cell_type": "code",
      "source": [
        "np.trapz(a, axis=1)"
      ],
      "metadata": {
        "colab": {
          "base_uri": "https://localhost:8080/"
        },
        "id": "MBPUtBAzc0WV",
        "outputId": "b1e3956b-922f-4fc5-92a6-c3a9e68d5e6f"
      },
      "execution_count": null,
      "outputs": [
        {
          "output_type": "execute_result",
          "data": {
            "text/plain": [
              "array([2., 8.])"
            ]
          },
          "metadata": {},
          "execution_count": 506
        }
      ]
    },
    {
      "cell_type": "markdown",
      "source": [
        "##Exponentes y logaritmos:\n"
      ],
      "metadata": {
        "id": "wrrYx2Qoc-ZR"
      }
    },
    {
      "cell_type": "code",
      "source": [
        "X = ([1, 2, 3, 4],[5, 6, 7, 8],[9, 10, 11, 12],[13, 14, 15, 16])\n",
        "X = np.array(X)\n",
        "X"
      ],
      "metadata": {
        "colab": {
          "base_uri": "https://localhost:8080/"
        },
        "id": "7AdtgZJTHb1z",
        "outputId": "3885a137-34c2-47f3-c05d-e4ce01f1447f"
      },
      "execution_count": null,
      "outputs": [
        {
          "output_type": "execute_result",
          "data": {
            "text/plain": [
              "array([[ 1,  2,  3,  4],\n",
              "       [ 5,  6,  7,  8],\n",
              "       [ 9, 10, 11, 12],\n",
              "       [13, 14, 15, 16]])"
            ]
          },
          "metadata": {},
          "execution_count": 507
        }
      ]
    },
    {
      "cell_type": "code",
      "source": [
        "np.exp(X)"
      ],
      "metadata": {
        "id": "6Yn-S7PldIyW",
        "colab": {
          "base_uri": "https://localhost:8080/"
        },
        "outputId": "806c5b99-c49d-4e27-dd36-9cdbdb45fcb4"
      },
      "execution_count": null,
      "outputs": [
        {
          "output_type": "execute_result",
          "data": {
            "text/plain": [
              "array([[2.71828183e+00, 7.38905610e+00, 2.00855369e+01, 5.45981500e+01],\n",
              "       [1.48413159e+02, 4.03428793e+02, 1.09663316e+03, 2.98095799e+03],\n",
              "       [8.10308393e+03, 2.20264658e+04, 5.98741417e+04, 1.62754791e+05],\n",
              "       [4.42413392e+05, 1.20260428e+06, 3.26901737e+06, 8.88611052e+06]])"
            ]
          },
          "metadata": {},
          "execution_count": 508
        }
      ]
    },
    {
      "cell_type": "code",
      "source": [
        "#Calcule 2**p para todo p en la matriz de entrada.\n",
        "Y = np.exp2(X)\n",
        "print(X, \"\\n\" , np.round_(Y, decimals = 2))"
      ],
      "metadata": {
        "colab": {
          "base_uri": "https://localhost:8080/"
        },
        "id": "NzdOqcuIF56-",
        "outputId": "eccf4b0c-d976-4751-920e-74c8b64617b1"
      },
      "execution_count": null,
      "outputs": [
        {
          "output_type": "stream",
          "name": "stdout",
          "text": [
            "[[ 1  2  3  4]\n",
            " [ 5  6  7  8]\n",
            " [ 9 10 11 12]\n",
            " [13 14 15 16]] \n",
            " [[2.0000e+00 4.0000e+00 8.0000e+00 1.6000e+01]\n",
            " [3.2000e+01 6.4000e+01 1.2800e+02 2.5600e+02]\n",
            " [5.1200e+02 1.0240e+03 2.0480e+03 4.0960e+03]\n",
            " [8.1920e+03 1.6384e+04 3.2768e+04 6.5536e+04]]\n"
          ]
        }
      ]
    },
    {
      "cell_type": "code",
      "source": [
        "np.log(X) #Logaritmo natural, por elementos."
      ],
      "metadata": {
        "colab": {
          "base_uri": "https://localhost:8080/"
        },
        "id": "tYKvVifHGENc",
        "outputId": "9f978a48-2200-4561-bfba-89202c5da437"
      },
      "execution_count": null,
      "outputs": [
        {
          "output_type": "execute_result",
          "data": {
            "text/plain": [
              "array([[0.        , 0.69314718, 1.09861229, 1.38629436],\n",
              "       [1.60943791, 1.79175947, 1.94591015, 2.07944154],\n",
              "       [2.19722458, 2.30258509, 2.39789527, 2.48490665],\n",
              "       [2.56494936, 2.63905733, 2.7080502 , 2.77258872]])"
            ]
          },
          "metadata": {},
          "execution_count": 510
        }
      ]
    },
    {
      "cell_type": "code",
      "source": [
        "np.log10(X)"
      ],
      "metadata": {
        "colab": {
          "base_uri": "https://localhost:8080/"
        },
        "id": "PG7xXXO9GF7C",
        "outputId": "bb76da84-476c-44da-e141-3d415d103692"
      },
      "execution_count": null,
      "outputs": [
        {
          "output_type": "execute_result",
          "data": {
            "text/plain": [
              "array([[0.        , 0.30103   , 0.47712125, 0.60205999],\n",
              "       [0.69897   , 0.77815125, 0.84509804, 0.90308999],\n",
              "       [0.95424251, 1.        , 1.04139269, 1.07918125],\n",
              "       [1.11394335, 1.14612804, 1.17609126, 1.20411998]])"
            ]
          },
          "metadata": {},
          "execution_count": 511
        }
      ]
    },
    {
      "cell_type": "code",
      "source": [
        ""
      ],
      "metadata": {
        "id": "8tPW-wQAHK98"
      },
      "execution_count": null,
      "outputs": []
    },
    {
      "cell_type": "markdown",
      "source": [
        "##Algebra Lineal:\n",
        "numpy.linalg"
      ],
      "metadata": {
        "id": "T6mSbJuELLGe"
      }
    },
    {
      "cell_type": "code",
      "source": [
        "A = ([1, 2, 3, 4],[5, 6, 7, 8],[9, 10, 11, 12],[13, 14, 15, 16])\n",
        "A = np.asarray(A)\n",
        "B = np.arange(16)\n",
        "B.shape=(4,4)\n",
        "C = np.arange(4)\n",
        "C.shape = (4,1)"
      ],
      "metadata": {
        "id": "HAGjvbG_LS7S"
      },
      "execution_count": null,
      "outputs": []
    },
    {
      "cell_type": "code",
      "source": [
        "print(\"A= \\n\", A, \"\\n B = \\n\", B, \"\\n C = \\n\", C)"
      ],
      "metadata": {
        "colab": {
          "base_uri": "https://localhost:8080/"
        },
        "id": "L5dFW9OqLZjd",
        "outputId": "3b25bd22-ab96-492d-9aef-499215e0cd57"
      },
      "execution_count": null,
      "outputs": [
        {
          "output_type": "stream",
          "name": "stdout",
          "text": [
            "A= \n",
            " [[ 1  2  3  4]\n",
            " [ 5  6  7  8]\n",
            " [ 9 10 11 12]\n",
            " [13 14 15 16]] \n",
            " B = \n",
            " [[ 0  1  2  3]\n",
            " [ 4  5  6  7]\n",
            " [ 8  9 10 11]\n",
            " [12 13 14 15]] \n",
            " C = \n",
            " [[0]\n",
            " [1]\n",
            " [2]\n",
            " [3]]\n"
          ]
        }
      ]
    },
    {
      "cell_type": "code",
      "source": [
        "np.dot(A,B) #Producto punto o escalar"
      ],
      "metadata": {
        "colab": {
          "base_uri": "https://localhost:8080/"
        },
        "id": "wg361PqTLbBp",
        "outputId": "9ed2ab72-8df0-4496-949e-840b087407f1"
      },
      "execution_count": null,
      "outputs": [
        {
          "output_type": "execute_result",
          "data": {
            "text/plain": [
              "array([[ 80,  90, 100, 110],\n",
              "       [176, 202, 228, 254],\n",
              "       [272, 314, 356, 398],\n",
              "       [368, 426, 484, 542]])"
            ]
          },
          "metadata": {},
          "execution_count": 514
        }
      ]
    },
    {
      "cell_type": "code",
      "source": [
        "AC = np.dot(A,C)\n",
        "print(np.shape(A), np.shape(C), np.shape(AC))"
      ],
      "metadata": {
        "colab": {
          "base_uri": "https://localhost:8080/"
        },
        "id": "ctBLK-K3MrjM",
        "outputId": "29e10b70-6e2d-47bb-a108-c6230b3261f3"
      },
      "execution_count": null,
      "outputs": [
        {
          "output_type": "stream",
          "name": "stdout",
          "text": [
            "(4, 4) (4, 1) (4, 1)\n"
          ]
        }
      ]
    },
    {
      "cell_type": "code",
      "source": [
        "A = np.arange(24).reshape((2,3,4))\n",
        "b = np.arange(4)\n",
        "C = np.inner(A, b)              #Producto interno entre arreglos \n",
        "print(C.shape,\"\\n\", C)"
      ],
      "metadata": {
        "colab": {
          "base_uri": "https://localhost:8080/"
        },
        "id": "PT6L74JDPx1C",
        "outputId": "d45efeef-d0c2-431b-ef5b-2a84f9d4c5d5"
      },
      "execution_count": null,
      "outputs": [
        {
          "output_type": "stream",
          "name": "stdout",
          "text": [
            "(2, 3) \n",
            " [[ 14  38  62]\n",
            " [ 86 110 134]]\n"
          ]
        }
      ]
    },
    {
      "cell_type": "code",
      "source": [
        "np.linalg.matrix_power(X,2) #Eleve una matriz cuadrada a la potencia (entera) n ."
      ],
      "metadata": {
        "colab": {
          "base_uri": "https://localhost:8080/"
        },
        "id": "_aYovapSTdzO",
        "outputId": "08052ed9-bca7-46c6-d726-01c3a84af98f"
      },
      "execution_count": null,
      "outputs": [
        {
          "output_type": "execute_result",
          "data": {
            "text/plain": [
              "array([[ 90, 100, 110, 120],\n",
              "       [202, 228, 254, 280],\n",
              "       [314, 356, 398, 440],\n",
              "       [426, 484, 542, 600]])"
            ]
          },
          "metadata": {},
          "execution_count": 517
        }
      ]
    },
    {
      "cell_type": "code",
      "source": [
        "val, vec = np.linalg.eig(X) #Valores y vectores propios de una matriz\n",
        "print(\"Val' propios: \\n\", np.round_(val,2), \"\\n Vect' propios: \\n\", np.round_(vec,2))"
      ],
      "metadata": {
        "colab": {
          "base_uri": "https://localhost:8080/"
        },
        "id": "EeGzBedxTzM3",
        "outputId": "0539347d-5164-43bf-e0b1-30f225346eea"
      },
      "execution_count": null,
      "outputs": [
        {
          "output_type": "stream",
          "name": "stdout",
          "text": [
            "Val' propios: \n",
            " [36.21 -2.21 -0.   -0.  ] \n",
            " Vect' propios: \n",
            " [[-0.15  0.73  0.5  -0.06]\n",
            " [-0.35  0.28 -0.83 -0.32]\n",
            " [-0.55 -0.16  0.15  0.83]\n",
            " [-0.75 -0.6   0.18 -0.45]]\n"
          ]
        }
      ]
    },
    {
      "cell_type": "code",
      "source": [
        "np.linalg.norm(X) #norma vectorial o matricial"
      ],
      "metadata": {
        "colab": {
          "base_uri": "https://localhost:8080/"
        },
        "id": "tRIyhqSrXhWe",
        "outputId": "c7a5fb9e-a779-4abb-ced2-2fe98d158f97"
      },
      "execution_count": null,
      "outputs": [
        {
          "output_type": "execute_result",
          "data": {
            "text/plain": [
              "38.67815921162743"
            ]
          },
          "metadata": {},
          "execution_count": 519
        }
      ]
    },
    {
      "cell_type": "markdown",
      "source": [
        "##Estadisticas:\n"
      ],
      "metadata": {
        "id": "skN1_ZqPaW-b"
      }
    },
    {
      "cell_type": "code",
      "source": [
        "X"
      ],
      "metadata": {
        "colab": {
          "base_uri": "https://localhost:8080/"
        },
        "id": "gqhysO8lZL9m",
        "outputId": "932215ed-4624-4870-9cf4-291dc3682d6a"
      },
      "execution_count": null,
      "outputs": [
        {
          "output_type": "execute_result",
          "data": {
            "text/plain": [
              "array([[ 1,  2,  3,  4],\n",
              "       [ 5,  6,  7,  8],\n",
              "       [ 9, 10, 11, 12],\n",
              "       [13, 14, 15, 16]])"
            ]
          },
          "metadata": {},
          "execution_count": 520
        }
      ]
    },
    {
      "cell_type": "code",
      "source": [
        "print(np.amax(X), np.amin(X))"
      ],
      "metadata": {
        "colab": {
          "base_uri": "https://localhost:8080/"
        },
        "id": "wOItg4Yma5lL",
        "outputId": "20a51798-63a4-4fad-9f22-c62127ed4440"
      },
      "execution_count": null,
      "outputs": [
        {
          "output_type": "stream",
          "name": "stdout",
          "text": [
            "16 1\n"
          ]
        }
      ]
    },
    {
      "cell_type": "code",
      "source": [
        "print(np.amax(X, 1), np.amin(X,0))"
      ],
      "metadata": {
        "colab": {
          "base_uri": "https://localhost:8080/"
        },
        "id": "2HBunLgWbCIY",
        "outputId": "c7151bd3-da36-4b88-cfb2-9423a2048814"
      },
      "execution_count": null,
      "outputs": [
        {
          "output_type": "stream",
          "name": "stdout",
          "text": [
            "[ 4  8 12 16] [1 2 3 4]\n"
          ]
        }
      ]
    },
    {
      "cell_type": "code",
      "source": [
        "np.ptp(X)#Rango de la matriz xmax-xmin"
      ],
      "metadata": {
        "colab": {
          "base_uri": "https://localhost:8080/"
        },
        "id": "7zP5EIncbQ2E",
        "outputId": "3914da1b-e0ad-4a1d-8125-06d6c4605e7b"
      },
      "execution_count": null,
      "outputs": [
        {
          "output_type": "execute_result",
          "data": {
            "text/plain": [
              "15"
            ]
          },
          "metadata": {},
          "execution_count": 523
        }
      ]
    },
    {
      "cell_type": "code",
      "source": [
        "np.ptp(X, 1)#Rango por filas"
      ],
      "metadata": {
        "colab": {
          "base_uri": "https://localhost:8080/"
        },
        "id": "zlEFpLaObnIN",
        "outputId": "0b20b7b5-05ed-4775-f7fb-60a3f9bc5cbf"
      },
      "execution_count": null,
      "outputs": [
        {
          "output_type": "execute_result",
          "data": {
            "text/plain": [
              "array([3, 3, 3, 3])"
            ]
          },
          "metadata": {},
          "execution_count": 524
        }
      ]
    },
    {
      "cell_type": "code",
      "source": [
        "np.ptp(X, 0)#Rango por columnas"
      ],
      "metadata": {
        "colab": {
          "base_uri": "https://localhost:8080/"
        },
        "id": "CjNDmv7scrZ5",
        "outputId": "a256c15c-d55d-4d12-fc08-1998d6794651"
      },
      "execution_count": null,
      "outputs": [
        {
          "output_type": "execute_result",
          "data": {
            "text/plain": [
              "array([12, 12, 12, 12])"
            ]
          },
          "metadata": {},
          "execution_count": 525
        }
      ]
    },
    {
      "cell_type": "code",
      "source": [
        "np.percentile(X, 50) # Percentil q-esimo "
      ],
      "metadata": {
        "colab": {
          "base_uri": "https://localhost:8080/"
        },
        "id": "E34Qnx1Zc0hA",
        "outputId": "d2604e46-8cbd-4661-d8e1-fa831094f5c1"
      },
      "execution_count": null,
      "outputs": [
        {
          "output_type": "execute_result",
          "data": {
            "text/plain": [
              "8.5"
            ]
          },
          "metadata": {},
          "execution_count": 526
        }
      ]
    },
    {
      "cell_type": "code",
      "source": [
        "np.percentile(X, 50, 1) #Percentil q-esimo  por filas"
      ],
      "metadata": {
        "colab": {
          "base_uri": "https://localhost:8080/"
        },
        "id": "LCcx0U0SdMbL",
        "outputId": "121d191d-a1ae-49f5-d17d-d6e0182d4c29"
      },
      "execution_count": null,
      "outputs": [
        {
          "output_type": "execute_result",
          "data": {
            "text/plain": [
              "array([ 2.5,  6.5, 10.5, 14.5])"
            ]
          },
          "metadata": {},
          "execution_count": 527
        }
      ]
    },
    {
      "cell_type": "code",
      "source": [
        "np.percentile(X, 50, 0) #Percentil q-esimo  por columnas"
      ],
      "metadata": {
        "colab": {
          "base_uri": "https://localhost:8080/"
        },
        "id": "pUpoVqaed7KQ",
        "outputId": "01027014-dbd5-4534-e849-2097de1c6ef1"
      },
      "execution_count": null,
      "outputs": [
        {
          "output_type": "execute_result",
          "data": {
            "text/plain": [
              "array([ 7.,  8.,  9., 10.])"
            ]
          },
          "metadata": {},
          "execution_count": 528
        }
      ]
    },
    {
      "cell_type": "code",
      "source": [
        "np.quantile(X, 0.5 , 0) #Cuantil por columnas"
      ],
      "metadata": {
        "colab": {
          "base_uri": "https://localhost:8080/"
        },
        "id": "tfv-33speFTs",
        "outputId": "4a1bb4c3-2d63-4348-8d31-7dd909618086"
      },
      "execution_count": null,
      "outputs": [
        {
          "output_type": "execute_result",
          "data": {
            "text/plain": [
              "array([ 7.,  8.,  9., 10.])"
            ]
          },
          "metadata": {},
          "execution_count": 529
        }
      ]
    },
    {
      "cell_type": "code",
      "source": [
        "np.median(X, 1) #Mediana por filas"
      ],
      "metadata": {
        "colab": {
          "base_uri": "https://localhost:8080/"
        },
        "id": "_3CTNYAnfWlh",
        "outputId": "a1d7d701-f32f-4634-ad11-50a3e2ba80d9"
      },
      "execution_count": null,
      "outputs": [
        {
          "output_type": "execute_result",
          "data": {
            "text/plain": [
              "array([ 2.5,  6.5, 10.5, 14.5])"
            ]
          },
          "metadata": {},
          "execution_count": 530
        }
      ]
    },
    {
      "cell_type": "code",
      "source": [
        "np.mean(X[1,:]) #media aritmetica a lo latrgo de la fila 1"
      ],
      "metadata": {
        "colab": {
          "base_uri": "https://localhost:8080/"
        },
        "id": "ysFoZOqXeoUh",
        "outputId": "aa4bc239-b63b-4307-d0fc-1e59f4c0cf7d"
      },
      "execution_count": null,
      "outputs": [
        {
          "output_type": "execute_result",
          "data": {
            "text/plain": [
              "6.5"
            ]
          },
          "metadata": {},
          "execution_count": 531
        }
      ]
    },
    {
      "cell_type": "code",
      "source": [
        "np.std(X) #Desviacion estandar de la matriz"
      ],
      "metadata": {
        "colab": {
          "base_uri": "https://localhost:8080/"
        },
        "id": "1Ga9xI2cfG9a",
        "outputId": "5a4531be-53d2-4001-d1de-bf466b1d0b13"
      },
      "execution_count": null,
      "outputs": [
        {
          "output_type": "execute_result",
          "data": {
            "text/plain": [
              "4.6097722286464435"
            ]
          },
          "metadata": {},
          "execution_count": 532
        }
      ]
    },
    {
      "cell_type": "code",
      "source": [
        "np.var(X)#Varianza de la matriz"
      ],
      "metadata": {
        "colab": {
          "base_uri": "https://localhost:8080/"
        },
        "id": "dNjFynW8gkQU",
        "outputId": "2ef89fc9-c36e-478d-f69f-4cb631ddcd89"
      },
      "execution_count": null,
      "outputs": [
        {
          "output_type": "execute_result",
          "data": {
            "text/plain": [
              "21.25"
            ]
          },
          "metadata": {},
          "execution_count": 533
        }
      ]
    },
    {
      "cell_type": "code",
      "source": [
        "X = np.random.randint(0,10, (4,4))\n",
        "X"
      ],
      "metadata": {
        "colab": {
          "base_uri": "https://localhost:8080/"
        },
        "id": "d6e2uD72sYjs",
        "outputId": "01acf726-9efc-45f5-a3e7-b7edf60e9c62"
      },
      "execution_count": null,
      "outputs": [
        {
          "output_type": "execute_result",
          "data": {
            "text/plain": [
              "array([[6, 6, 8, 7],\n",
              "       [2, 6, 5, 7],\n",
              "       [1, 3, 9, 4],\n",
              "       [5, 5, 7, 2]])"
            ]
          },
          "metadata": {},
          "execution_count": 534
        }
      ]
    },
    {
      "cell_type": "code",
      "source": [
        "np.corrcoef(X) #Coeficiente de correlacion"
      ],
      "metadata": {
        "colab": {
          "base_uri": "https://localhost:8080/"
        },
        "id": "IQBmL192sm0h",
        "outputId": "be61c4d7-a15e-4659-bda2-4957dfdd5429"
      },
      "execution_count": null,
      "outputs": [
        {
          "output_type": "execute_result",
          "data": {
            "text/plain": [
              "array([[ 1.        ,  0.32232919,  0.94623276,  0.29554023],\n",
              "       [ 0.32232919,  1.        ,  0.36270084, -0.44908871],\n",
              "       [ 0.94623276,  0.36270084,  1.        ,  0.48695785],\n",
              "       [ 0.29554023, -0.44908871,  0.48695785,  1.        ]])"
            ]
          },
          "metadata": {},
          "execution_count": 535
        }
      ]
    },
    {
      "cell_type": "code",
      "source": [
        "np.correlate([1, 2, 3], [0, 1, 0.5]) #Correlacion cruzada"
      ],
      "metadata": {
        "colab": {
          "base_uri": "https://localhost:8080/"
        },
        "id": "QIE9gz_ptF2S",
        "outputId": "93c82f0f-0766-4915-d481-eed07f08e0d7"
      },
      "execution_count": null,
      "outputs": [
        {
          "output_type": "execute_result",
          "data": {
            "text/plain": [
              "array([3.5])"
            ]
          },
          "metadata": {},
          "execution_count": 536
        }
      ]
    },
    {
      "cell_type": "code",
      "source": [
        "x = [-2.1, -1,  4.3]\n",
        "y = [3,  1.1,  0.12]\n",
        "X = np.stack((x, y), axis=0)\n",
        "X"
      ],
      "metadata": {
        "colab": {
          "base_uri": "https://localhost:8080/"
        },
        "id": "8yVTHeHpt6CF",
        "outputId": "0a388c36-2800-4376-f0b5-f8f281c29f7b"
      },
      "execution_count": null,
      "outputs": [
        {
          "output_type": "execute_result",
          "data": {
            "text/plain": [
              "array([[-2.1 , -1.  ,  4.3 ],\n",
              "       [ 3.  ,  1.1 ,  0.12]])"
            ]
          },
          "metadata": {},
          "execution_count": 537
        }
      ]
    },
    {
      "cell_type": "code",
      "source": [
        "np.cov(X) #AMtriz de covarianza"
      ],
      "metadata": {
        "colab": {
          "base_uri": "https://localhost:8080/"
        },
        "id": "-j6kzT4uvgwL",
        "outputId": "4bbc7188-b016-4655-b161-48213254ba1b"
      },
      "execution_count": null,
      "outputs": [
        {
          "output_type": "execute_result",
          "data": {
            "text/plain": [
              "array([[11.71      , -4.286     ],\n",
              "       [-4.286     ,  2.14413333]])"
            ]
          },
          "metadata": {},
          "execution_count": 538
        }
      ]
    },
    {
      "cell_type": "markdown",
      "source": [
        "###Histogramas"
      ],
      "metadata": {
        "id": "VIWs8l3a6OxL"
      }
    },
    {
      "cell_type": "code",
      "source": [
        "a = np.random.randint(0,10, (4,4)) \n",
        "hist, bin_edges = np.histogram(a, density=True)\n",
        "print(hist,\"\\n\", bin_edges)"
      ],
      "metadata": {
        "colab": {
          "base_uri": "https://localhost:8080/"
        },
        "id": "JgPDNF7uvuts",
        "outputId": "4a1342c3-f16e-4ae5-9803-fae14022c180"
      },
      "execution_count": null,
      "outputs": [
        {
          "output_type": "stream",
          "name": "stdout",
          "text": [
            "[0.35714286 0.17857143 0.17857143 0.         0.         0.08928571\n",
            " 0.         0.17857143 0.26785714 0.17857143] \n",
            " [1.  1.7 2.4 3.1 3.8 4.5 5.2 5.9 6.6 7.3 8. ]\n"
          ]
        }
      ]
    },
    {
      "cell_type": "code",
      "source": [
        "plt.hist(a[0,:])\n"
      ],
      "metadata": {
        "colab": {
          "base_uri": "https://localhost:8080/"
        },
        "id": "SK0vf8jlxQAL",
        "outputId": "fa528198-c982-4e5d-c4f4-67b62da6ae27"
      },
      "execution_count": null,
      "outputs": [
        {
          "output_type": "execute_result",
          "data": {
            "text/plain": [
              "(array([1., 0., 0., 0., 0., 0., 0., 0., 1., 2.]),\n",
              " array([2. , 2.5, 3. , 3.5, 4. , 4.5, 5. , 5.5, 6. , 6.5, 7. ]),\n",
              " <a list of 10 Patch objects>)"
            ]
          },
          "metadata": {},
          "execution_count": 540
        },
        {
          "output_type": "display_data",
          "data": {
            "text/plain": [
              "<Figure size 432x288 with 1 Axes>"
            ],
            "image/png": "[encoded data removed]"
          },
          "metadata": {
            "needs_background": "light"
          }
        }
      ]
    },
    {
      "cell_type": "code",
      "source": [
        "a"
      ],
      "metadata": {
        "colab": {
          "base_uri": "https://localhost:8080/"
        },
        "id": "B8QOf7DZ0W_h",
        "outputId": "763cf7eb-5aab-40ba-afb4-f4971220034c"
      },
      "execution_count": null,
      "outputs": [
        {
          "output_type": "execute_result",
          "data": {
            "text/plain": [
              "array([[6, 7, 7, 2],\n",
              "       [1, 8, 1, 2],\n",
              "       [5, 3, 1, 1],\n",
              "       [8, 3, 6, 7]])"
            ]
          },
          "metadata": {},
          "execution_count": 541
        }
      ]
    },
    {
      "cell_type": "code",
      "source": [
        "v = ([1,2,3,2],[1,4,5,6],[1,4,5,6])"
      ],
      "metadata": {
        "id": "Cy6M5OQe0XaU"
      },
      "execution_count": null,
      "outputs": []
    },
    {
      "cell_type": "code",
      "source": [
        "v = np.array(v)\n",
        "v"
      ],
      "metadata": {
        "colab": {
          "base_uri": "https://localhost:8080/"
        },
        "id": "tqLLs7ii2ibw",
        "outputId": "88bc69d5-3abb-4dc2-8547-74b33614c982"
      },
      "execution_count": null,
      "outputs": [
        {
          "output_type": "execute_result",
          "data": {
            "text/plain": [
              "array([[1, 2, 3, 2],\n",
              "       [1, 4, 5, 6],\n",
              "       [1, 4, 5, 6]])"
            ]
          },
          "metadata": {},
          "execution_count": 543
        }
      ]
    },
    {
      "cell_type": "code",
      "source": [
        "x,y=np.histogram(v, density=True)"
      ],
      "metadata": {
        "id": "NBZpSaha2itk"
      },
      "execution_count": null,
      "outputs": []
    },
    {
      "cell_type": "code",
      "source": [
        "plt.hist(v[:,1], 4)"
      ],
      "metadata": {
        "colab": {
          "base_uri": "https://localhost:8080/"
        },
        "id": "s0xBFCk83Emu",
        "outputId": "e78d7ff4-a232-4250-9bdd-a8c3e2f0e08c"
      },
      "execution_count": null,
      "outputs": [
        {
          "output_type": "execute_result",
          "data": {
            "text/plain": [
              "(array([1., 0., 0., 2.]),\n",
              " array([2. , 2.5, 3. , 3.5, 4. ]),\n",
              " <a list of 4 Patch objects>)"
            ]
          },
          "metadata": {},
          "execution_count": 545
        },
        {
          "output_type": "display_data",
          "data": {
            "text/plain": [
              "<Figure size 432x288 with 1 Axes>"
            ],
            "image/png": "[encoded data removed]"
          },
          "metadata": {
            "needs_background": "light"
          }
        }
      ]
    },
    {
      "cell_type": "code",
      "source": [
        ""
      ],
      "metadata": {
        "id": "nmrlIZLT4F0E"
      },
      "execution_count": null,
      "outputs": []
    },
    {
      "cell_type": "markdown",
      "source": [
        "#2. KERNEL"
      ],
      "metadata": {
        "id": "IjpZRDTAtNRs"
      }
    },
    {
      "cell_type": "markdown",
      "source": [
        "##2.1 Kernel Lineal\n",
        "\n",
        "  $k(x,y) = x^T*y+c$, \n",
        " \n",
        " donde $x,y \\in \\mathbb{R}^P; c \\in \\mathbb{R} \\}$"
      ],
      "metadata": {
        "id": "JClPeXNqyeKe"
      }
    },
    {
      "cell_type": "code",
      "source": [
        "#Con muestras\n",
        "x = np.asarray([1, 4.5, 0.8, 5.7, 4.2])     #R{P} 1 Dim, P elements\n",
        "y = np.asarray([0.5, 2.5, 3.8, -5.7, -2.2]) #R{P}  1 Dim, P elements\n",
        " \n",
        "c = 6                                       #Scalar in R\n",
        "\n",
        "xT= np.transpose(x)           #R{P} 1 Dim, P elements\n",
        "dot = np.dot(xT, y)           #Scalar in R\n",
        "\n",
        "k = dot + c                   #Scalar in R\n",
        "k"
      ],
      "metadata": {
        "colab": {
          "base_uri": "https://localhost:8080/"
        },
        "id": "NiHz4DF31E_7",
        "outputId": "6f3b68a0-cc2b-41c9-a6d1-6cc0173dd92f"
      },
      "execution_count": null,
      "outputs": [
        {
          "output_type": "execute_result",
          "data": {
            "text/plain": [
              "-20.940000000000005"
            ]
          },
          "metadata": {},
          "execution_count": 546
        }
      ]
    },
    {
      "cell_type": "markdown",
      "source": [
        "Con pares de muestras de los conjuntos de muestras $X, Y \\in \\mathbb{R}^{N \\times P}$"
      ],
      "metadata": {
        "id": "BrWbW37CIrzT"
      }
    },
    {
      "cell_type": "code",
      "source": [
        "#Con conjuntos de muestras\n",
        "N = 5\n",
        "P = 5\n",
        "\n",
        "X = np.random.randn(N,P) #R{NxP} 2 Dim, Nxp Elements\n",
        "Y = np.random.randn(N,P) #R{NxP}    \"           \"\n",
        "\n",
        "OUT = np.zeros((N,N))    #R{NxP}  2 Dim, Nxp Elements\n",
        "\n",
        "for i in range(N):\n",
        "  XT = np.transpose(X[i, ...])   #R{PxN}  2 Dim, Nxp Elements\n",
        "  dot = np.dot(XT, Y)           #R{P}\n",
        "  k = dot + c                   #R\n",
        "  k\n",
        "  OUT[i, ...] = k"
      ],
      "metadata": {
        "id": "PtKa_b0hGS1y"
      },
      "execution_count": null,
      "outputs": []
    },
    {
      "cell_type": "code",
      "source": [
        "OUT"
      ],
      "metadata": {
        "colab": {
          "base_uri": "https://localhost:8080/"
        },
        "id": "OFUMqAkQKs9J",
        "outputId": "2836911b-b85e-42e6-99f2-fcd563428fa3"
      },
      "execution_count": null,
      "outputs": [
        {
          "output_type": "execute_result",
          "data": {
            "text/plain": [
              "array([[7.245493  , 5.41168317, 7.91894568, 4.8013611 , 5.17867284],\n",
              "       [7.60242932, 5.01809283, 4.13527451, 6.85586064, 6.59219868],\n",
              "       [6.03298495, 6.22814041, 4.34150453, 6.74992811, 6.03614321],\n",
              "       [6.31637894, 6.87932402, 8.14218218, 4.10288835, 5.31804955],\n",
              "       [6.14080866, 6.28512994, 7.00525357, 5.15891888, 5.17069055]])"
            ]
          },
          "metadata": {},
          "execution_count": 548
        }
      ]
    },
    {
      "cell_type": "markdown",
      "source": [
        "##2.2  Kernel Polinomial\n",
        "\n",
        "  $k(x,y) = (\\alpha*x^T*y+c)^d$, \n",
        " \n",
        " donde $x,y \\in \\mathbb{R}^P; c, d \\in \\mathbb{R} \\}$"
      ],
      "metadata": {
        "id": "D40BAoyrMjCe"
      }
    },
    {
      "cell_type": "markdown",
      "source": [
        ""
      ],
      "metadata": {
        "id": "bWzNZULpPhoX"
      }
    },
    {
      "cell_type": "code",
      "source": [
        "#Con muestras\n",
        "x = np.asarray([1, 4.5, 0.8, 5.7, 4.2])     #R{P} 1 Dim, P elements\n",
        "y = np.asarray([0.5, 2.5, 3.8, -5.7, -2.2]) #R{P}  1 Dim, P elements\n",
        " \n",
        "c = 6         #Scalar in R\n",
        "d = 2         #Scalar in R\n",
        "a = 3         #Scalar in R\n",
        "\n",
        "xT= np.transpose(x)           #R{P} 1 Dim, P elements\n",
        "axT= a*xT                     #R{P} 1 Dim, P elements\n",
        "axTy= np.dot(axT, y)             #Scalar in R\n",
        "k = (axTy + c)**d                #Scalar in R\n",
        "k"
      ],
      "metadata": {
        "colab": {
          "base_uri": "https://localhost:8080/"
        },
        "id": "s0ACclNSM9q6",
        "outputId": "2c7a574c-f7b5-4396-bb5b-31d963c67fe7"
      },
      "execution_count": null,
      "outputs": [
        {
          "output_type": "execute_result",
          "data": {
            "text/plain": [
              "5598.032400000003"
            ]
          },
          "metadata": {},
          "execution_count": 549
        }
      ]
    },
    {
      "cell_type": "markdown",
      "source": [
        "Con pares de muestras de los conjuntos de muestras $X, Y \\in \\mathbb{R}^{N \\times P}$"
      ],
      "metadata": {
        "id": "7GAutcg7OOjO"
      }
    },
    {
      "cell_type": "code",
      "source": [
        "#Con conjuntos de muestras\n",
        "N = 5\n",
        "P = 5\n",
        "\n",
        "X = np.random.randn(N,P) #R{NxP} 2 Dim, Nxp Elements\n",
        "Y = np.random.randn(N,P) #R{NxP}    \"           \"\n",
        "c = 6         #Scalar in R\n",
        "d = 2         #Scalar in R\n",
        "a = 3         #Scalar in R\n",
        "\n",
        "OUT = np.zeros((N,N))    #R{NxP}  2 Dim, Nxp Elements\n",
        "\n",
        "\n",
        "for i in range(N):\n",
        "  XT = np.transpose(X[i, ...])   #R{PxN}  2 Dim, Nxp Elements\n",
        "  aXT= a*XT                     #R{P} 1 Dim, P elements\n",
        "  aXTY= np.dot(aXT, Y)             #Scalar in R\n",
        "  k = (aXTY + c)**d                #Scalar in R\n",
        "  OUT[i, ...] = k"
      ],
      "metadata": {
        "id": "NFytpA3qN2rH"
      },
      "execution_count": null,
      "outputs": []
    },
    {
      "cell_type": "code",
      "source": [
        "OUT"
      ],
      "metadata": {
        "colab": {
          "base_uri": "https://localhost:8080/"
        },
        "id": "KjpD-4hePVWo",
        "outputId": "b05d4943-07fb-4a35-c8b0-c6c1ebdd6017"
      },
      "execution_count": null,
      "outputs": [
        {
          "output_type": "execute_result",
          "data": {
            "text/plain": [
              "array([[1.06693253e+02, 3.82625950e+02, 2.46436284e+02, 3.80336156e+01,\n",
              "        1.83610545e+00],\n",
              "       [6.09902082e+01, 1.08661428e+02, 6.44492651e+00, 1.33975503e+01,\n",
              "        8.12669115e+00],\n",
              "       [2.41879267e+01, 4.24144989e+01, 8.75756791e-02, 8.46023049e+00,\n",
              "        1.60137672e+01],\n",
              "       [2.66464504e+01, 5.23788790e+00, 9.58574896e+01, 8.30564306e+01,\n",
              "        2.46202530e+01],\n",
              "       [2.94053029e+00, 7.09101863e+01, 1.16490627e+02, 2.39185624e+01,\n",
              "        2.52665043e-01]])"
            ]
          },
          "metadata": {},
          "execution_count": 551
        }
      ]
    },
    {
      "cell_type": "code",
      "source": [
        ""
      ],
      "metadata": {
        "id": "8h6dvrhlPWGA"
      },
      "execution_count": null,
      "outputs": []
    },
    {
      "cell_type": "markdown",
      "source": [
        "##2.3 Kernel Gaussiano\n",
        "$k(x,y) = e^{\\big ( -\\frac{\\lVert x - y \\rVert_2^2}{2\\sigma^2} \\big)}$, donde $x,y \\in \\mathbb{R}^P; \\sigma \\in \\{s \\in \\mathbb{R}^+ | s \\neq 0  \\}$"
      ],
      "metadata": {
        "id": "ibcHWuRvPnZi"
      }
    },
    {
      "cell_type": "code",
      "source": [
        "#Con Muestras\n",
        "x = np.asarray([1, 4.5, 0.8, 5.7, 4.2])\n",
        "y = np.asarray([0.5, 2.5, 3.8, -5.7, -2.2])\n",
        "sigma = 1e-1\n",
        "\n",
        "\n",
        "x_y = x - y  # 1dim p elemntos\n",
        "norm = np.linalg.norm(x_y, ord=2) #scalar\n",
        "norm = norm**2 #sca\n",
        "div = -1*(norm/(2*sigma**2)) #scarlar\n",
        "k = np.exp(div) #scalar\n",
        "k"
      ],
      "metadata": {
        "colab": {
          "base_uri": "https://localhost:8080/"
        },
        "id": "GBy48ZhqP3ND",
        "outputId": "c07766b8-0817-4d8a-ff05-02cdc74530ef"
      },
      "execution_count": null,
      "outputs": [
        {
          "output_type": "execute_result",
          "data": {
            "text/plain": [
              "0.0"
            ]
          },
          "metadata": {},
          "execution_count": 552
        }
      ]
    },
    {
      "cell_type": "markdown",
      "source": [
        "Con pares de muestras de los conjuntos de muestras $X, Y \\in \\mathbb{R}^{N \\times P}$"
      ],
      "metadata": {
        "id": "jfh2OdQ7QKPp"
      }
    },
    {
      "cell_type": "code",
      "source": [
        "N = 5\n",
        "P = 5\n",
        "\n",
        "X = np.random.randn(N,P)\n",
        "Y = np.random.randn(N,P)\n",
        "\n",
        "OUT = np.zeros((N,N))\n",
        "\n",
        "for i in range(N):\n",
        "  resta = X[i,...] - Y # R{NXP}\n",
        "  norm = np.linalg.norm(resta, ord=2, axis=1) #R{N}\n",
        "  norm = norm**2 #R{N}\n",
        "  div = -1*(norm/(2*sigma**2)) #R{N}\n",
        "  k = np.exp(div) #R{N}\n",
        "  OUT[i, ...] = k"
      ],
      "metadata": {
        "id": "LybvowBrQLG1"
      },
      "execution_count": null,
      "outputs": []
    },
    {
      "cell_type": "code",
      "source": [
        "OUT"
      ],
      "metadata": {
        "colab": {
          "base_uri": "https://localhost:8080/"
        },
        "id": "7_OdVdBdQOd_",
        "outputId": "1f23415b-c574-497f-ac2d-5f3b0de7ff0c"
      },
      "execution_count": null,
      "outputs": [
        {
          "output_type": "execute_result",
          "data": {
            "text/plain": [
              "array([[2.00806076e-214, 8.59609489e-199, 9.96646880e-250,\n",
              "        9.09781901e-061, 4.80678588e-201],\n",
              "       [7.50128552e-254, 4.91306413e-173, 0.00000000e+000,\n",
              "        1.18409900e-309, 0.00000000e+000],\n",
              "       [3.90568870e-247, 3.67201848e-223, 6.67361848e-177,\n",
              "        3.62689682e-183, 1.21463729e-312],\n",
              "       [7.19080078e-292, 1.12867947e-182, 2.32388825e-215,\n",
              "        3.22649489e-148, 1.72309243e-262],\n",
              "       [6.02478649e-121, 1.92295975e-123, 2.96910546e-194,\n",
              "        5.00535181e-035, 3.23392062e-091]])"
            ]
          },
          "metadata": {},
          "execution_count": 554
        }
      ]
    },
    {
      "cell_type": "code",
      "source": [
        ""
      ],
      "metadata": {
        "id": "uCFshR7kQP2E"
      },
      "execution_count": null,
      "outputs": []
    },
    {
      "cell_type": "markdown",
      "source": [
        "##2.4 Kernel exponencial\n",
        "$k(x,y) = e^{\\big ( -\\frac{\\lVert x - y \\rVert}{2\\sigma^2} \\big)}$, donde $x, y \\in \\mathbb{R}^P; \\sigma \\in \\{s \\in \\mathbb{R}^+ | s \\neq 0  \\}$"
      ],
      "metadata": {
        "id": "gzL6qlPgQ6FF"
      }
    },
    {
      "cell_type": "code",
      "source": [
        "#Con Muestras\n",
        "x = np.asarray([1, 4.5, 0.8, 5.7, 4.2])\n",
        "y = np.asarray([0.5, 2.5, 3.8, -5.7, -2.2])\n",
        "sigma = 1e-1\n",
        "\n",
        "\n",
        "x_y = x - y  # 1dim p elemntos\n",
        "norm = np.linalg.norm(x_y, ord=2) #scalar\n",
        "\n",
        "div = -1*(norm/(2*sigma**2)) #scarlar\n",
        "k = np.exp(div) #scalar\n",
        "k"
      ],
      "metadata": {
        "colab": {
          "base_uri": "https://localhost:8080/"
        },
        "id": "hb-M4XrCRUaW",
        "outputId": "3897d60a-d5bc-4d94-ed07-9eff30b5fddf"
      },
      "execution_count": null,
      "outputs": [
        {
          "output_type": "execute_result",
          "data": {
            "text/plain": [
              "2.0469733739342733e-295"
            ]
          },
          "metadata": {},
          "execution_count": 555
        }
      ]
    },
    {
      "cell_type": "markdown",
      "source": [
        "Con pares de muestras de los conjuntos de muestras $X, Y \\in \\mathbb{R}^{N \\times P}$"
      ],
      "metadata": {
        "id": "7_YJpIynSPBL"
      }
    },
    {
      "cell_type": "code",
      "source": [
        "N = 5\n",
        "P = 5\n",
        "sigma = 1e-1\n",
        "\n",
        "X = np.random.randn(N,P)\n",
        "Y = np.random.randn(N,P)\n",
        "\n",
        "OUT = np.zeros((N,N))\n",
        "\n",
        "for i in range(N):\n",
        "  resta = X[i,...] - Y # R{NXP}\n",
        "  norm = np.linalg.norm(resta, ord=2, axis=1) #R{N}\n",
        "  \n",
        "  div = -1*(norm/(2*sigma**2)) #R{N}\n",
        "  k = np.exp(div) #R{N}\n",
        "  OUT[i, ...] = k #R{NxN}"
      ],
      "metadata": {
        "id": "IY-d-P8pSS-3"
      },
      "execution_count": null,
      "outputs": []
    },
    {
      "cell_type": "code",
      "source": [
        "OUT"
      ],
      "metadata": {
        "colab": {
          "base_uri": "https://localhost:8080/"
        },
        "id": "NxBGy8AlShYR",
        "outputId": "d9bf9277-504c-41e7-9cf0-c0aa1578fda5"
      },
      "execution_count": null,
      "outputs": [
        {
          "output_type": "execute_result",
          "data": {
            "text/plain": [
              "array([[2.02541557e-075, 1.13961028e-094, 7.43103066e-121,\n",
              "        1.79277889e-047, 4.75405165e-057],\n",
              "       [1.30532556e-052, 1.19439161e-099, 1.51845921e-068,\n",
              "        1.50380895e-037, 2.56340972e-079],\n",
              "       [5.00489776e-066, 2.31094343e-086, 5.53919649e-092,\n",
              "        5.20046249e-066, 7.77447392e-076],\n",
              "       [1.94555603e-066, 8.52415409e-089, 1.09786560e-094,\n",
              "        8.42513707e-044, 6.51959415e-060],\n",
              "       [2.25568234e-015, 3.85527592e-062, 1.24562270e-054,\n",
              "        9.73982241e-069, 7.54907480e-060]])"
            ]
          },
          "metadata": {},
          "execution_count": 557
        }
      ]
    },
    {
      "cell_type": "markdown",
      "source": [
        "##2.5 Kernel laplaciano \n",
        "$k(x,y) =  e^{\\big ( -\\frac{\\lVert x - y \\rVert}{\\sigma} \\big)}$, donde $x, y \\in \\mathbb{R}^P; \\sigma \\in \\{s \\in \\mathbb{R}^+ | s \\neq 0  \\}$"
      ],
      "metadata": {
        "id": "I5dG6NXfSwp0"
      }
    },
    {
      "cell_type": "code",
      "source": [
        "#Con Muestras\n",
        "x = np.asarray([1, 4.5, 0.8, 5.7, 4.2])\n",
        "y = np.asarray([0.5, 2.5, 3.8, -5.7, -2.2])\n",
        "sigma = 1e-1\n",
        "\n",
        "\n",
        "x_y = x - y  # 1dim p elemntos\n",
        "norm = np.linalg.norm(x_y, ord=2) #scalar\n",
        "\n",
        "div = -1*(norm/(sigma)) #scarlar\n",
        "k = np.exp(div) #scalar\n",
        "k"
      ],
      "metadata": {
        "colab": {
          "base_uri": "https://localhost:8080/"
        },
        "id": "_3-uuV51SiAy",
        "outputId": "6f225ab4-5981-4c0b-aaf9-68d60fffd8ae"
      },
      "execution_count": null,
      "outputs": [
        {
          "output_type": "execute_result",
          "data": {
            "text/plain": [
              "1.1540441895382685e-59"
            ]
          },
          "metadata": {},
          "execution_count": 558
        }
      ]
    },
    {
      "cell_type": "markdown",
      "source": [
        "Con pares de muestras de los conjuntos de muestras $X, Y \\in \\mathbb{R}^{N \\times P}$"
      ],
      "metadata": {
        "id": "xqInADdfTZjZ"
      }
    },
    {
      "cell_type": "code",
      "source": [
        "N = 5\n",
        "P = 5\n",
        "sigma = 1e-1\n",
        "\n",
        "X = np.random.randn(N,P)\n",
        "Y = np.random.randn(N,P)\n",
        "\n",
        "OUT = np.zeros((N,N))\n",
        "\n",
        "for i in range(N):\n",
        "  resta = X[i,...] - Y # R{NXP}\n",
        "  norm = np.linalg.norm(resta, ord=2, axis=1) #R{N}\n",
        "  \n",
        "  div = -1*(norm/(sigma)) #R{N}\n",
        "  k = np.exp(div) #R{N}\n",
        "  OUT[i, ...] = k #R{NxN}"
      ],
      "metadata": {
        "id": "cxddYHcpTdbu"
      },
      "execution_count": null,
      "outputs": []
    },
    {
      "cell_type": "code",
      "source": [
        "OUT"
      ],
      "metadata": {
        "colab": {
          "base_uri": "https://localhost:8080/"
        },
        "id": "wJ9amEfJTiCW",
        "outputId": "a37fdd53-2f76-43a7-e5d8-b84f2d4f693b"
      },
      "execution_count": null,
      "outputs": [
        {
          "output_type": "execute_result",
          "data": {
            "text/plain": [
              "array([[1.77952018e-17, 1.77934002e-16, 1.96818848e-19, 1.83081587e-17,\n",
              "        1.13702740e-09],\n",
              "       [2.03575701e-10, 2.56935030e-11, 1.17008384e-11, 2.81922954e-10,\n",
              "        4.51997299e-20],\n",
              "       [2.11408096e-13, 1.61889829e-11, 2.65983550e-15, 1.27944216e-11,\n",
              "        2.03804499e-07],\n",
              "       [1.87209686e-04, 5.80699186e-08, 1.72271054e-14, 1.39370014e-10,\n",
              "        2.54752166e-13],\n",
              "       [5.88016538e-17, 2.10266557e-15, 1.87012802e-19, 2.37652050e-16,\n",
              "        8.06915580e-13]])"
            ]
          },
          "metadata": {},
          "execution_count": 560
        }
      ]
    },
    {
      "cell_type": "code",
      "source": [
        ""
      ],
      "metadata": {
        "id": "p9YYUhJSTj-g"
      },
      "execution_count": null,
      "outputs": []
    },
    {
      "cell_type": "markdown",
      "source": [
        "##2.6 Kernel ANOVA\n",
        "\n",
        "#$k(x,y) = \\sum_{k=1}^{n}e^{(-\\sigma(x^k - y^k)^2)^d} $\n"
      ],
      "metadata": {
        "id": "E_tsBARwTmPp"
      }
    },
    {
      "cell_type": "code",
      "source": [
        "#Con Muestras\n",
        "x = np.asarray([1, 4.5, 0.8, 5.7, 4.2])\n",
        "y = np.asarray([0.5, 2.5, 3.8, -5.7, -2.2])\n",
        "sigma = 1e-1\n",
        "\n",
        "n = len(x)\n",
        "k=1\n",
        "d=2\n",
        "kernel = 0\n",
        "for k in range(n):\n",
        "  xk_yk2 = (x**k - y**k)**2  # 1dim p elemntos\n",
        "  _s_xk_yk2 = (-sigma*xk_yk2)**d\n",
        "\n",
        "  ker = np.exp(_s_xk_yk2) #scalar\n",
        "  kernel=kernel+ker\n",
        "kernel"
      ],
      "metadata": {
        "colab": {
          "base_uri": "https://localhost:8080/"
        },
        "id": "r5glfxOAWZ-1",
        "outputId": "75b826f8-0221-430c-b4c8-ce0fed550081"
      },
      "execution_count": null,
      "outputs": [
        {
          "output_type": "stream",
          "name": "stderr",
          "text": [
            "/usr/local/lib/python3.7/dist-packages/ipykernel_launcher.py:14: RuntimeWarning: overflow encountered in exp\n",
            "  \n"
          ]
        },
        {
          "output_type": "execute_result",
          "data": {
            "text/plain": [
              "array([5.01742797,        inf,        inf,        inf,        inf])"
            ]
          },
          "metadata": {},
          "execution_count": 561
        }
      ]
    },
    {
      "cell_type": "markdown",
      "source": [
        "Con pares de muestras de los conjuntos de muestras $X, Y \\in \\mathbb{R}^{N \\times P}$"
      ],
      "metadata": {
        "id": "9j0gVB0lZxD7"
      }
    },
    {
      "cell_type": "code",
      "source": [
        "N = 5\n",
        "P = 5\n",
        "sigma = 1e-1\n",
        "n = len(x)\n",
        "k=1\n",
        "d=2\n",
        "\n",
        "X = np.random.randn(N,P)\n",
        "Y = np.random.randn(N,P)\n",
        "\n",
        "OUT = np.zeros((N,N))\n",
        "\n",
        "for i in range(N):\n",
        " for k in range(n):\n",
        "  xk_yk2 = (X[i, ...]**k - Y**k)**2  # 1dim p elemntos\n",
        "  _s_xk_yk2 = (-sigma*xk_yk2)**d\n",
        "\n",
        "  ker = np.exp(_s_xk_yk2) #scalar\n",
        "  kernel=kernel+ker\n",
        "  OUT[i, ...] = kernel[i,...] #R{NxN}\n",
        "  OUT.shape\n",
        "\n",
        " "
      ],
      "metadata": {
        "colab": {
          "base_uri": "https://localhost:8080/"
        },
        "id": "FZ0hEA_UZGYh",
        "outputId": "a2bae34e-a195-41b2-f690-522cac7b7702"
      },
      "execution_count": null,
      "outputs": [
        {
          "output_type": "stream",
          "name": "stderr",
          "text": [
            "/usr/local/lib/python3.7/dist-packages/ipykernel_launcher.py:18: RuntimeWarning: overflow encountered in exp\n"
          ]
        }
      ]
    },
    {
      "cell_type": "markdown",
      "source": [
        "##2.7 Kernel de tangente hiperbolica (sigmoide).\n",
        "\n",
        "#$k(x,y) = {tanh(\\alpha x^Ty+c)} $\n"
      ],
      "metadata": {
        "id": "6NsgU06vawzi"
      }
    },
    {
      "cell_type": "code",
      "source": [
        "#Con muestras\n",
        "x = np.asarray([1, 4.5, 0.8, 5.7, 4.2])     #R{P} 1 Dim, P elements\n",
        "y = np.asarray([0.5, 2.5, 3.8, -5.7, -2.2]) #R{P}  1 Dim, P elements\n",
        " \n",
        "c = 6         #Scalar in R\n",
        "d = 2         #Scalar in R\n",
        "a = 1/ len(x)#Scalar in R (ALPHA)\n",
        "\n",
        "xT= np.transpose(x)           #R{P} 1 Dim, P elements\n",
        "axT= a*xT            #R{P} 1 Dim, P elements\n",
        "axTy= np.dot(axT, y) #Scalar in R\n",
        "\n",
        "tanh = np.tanh(axTy + c)   #Scalar in R     \n",
        "k = tanh             #Scalar in R\n",
        "k"
      ],
      "metadata": {
        "colab": {
          "base_uri": "https://localhost:8080/"
        },
        "id": "AbIh_b3IaXbY",
        "outputId": "d389ab9b-dc7f-47a6-eda8-cb248472e742"
      },
      "execution_count": null,
      "outputs": [
        {
          "output_type": "execute_result",
          "data": {
            "text/plain": [
              "0.545533417946405"
            ]
          },
          "metadata": {},
          "execution_count": 563
        }
      ]
    },
    {
      "cell_type": "markdown",
      "source": [
        "Con pares de muestras de los conjuntos de muestras $X, Y \\in \\mathbb{R}^{N \\times P}$"
      ],
      "metadata": {
        "id": "3XuU3aRrwU2l"
      }
    },
    {
      "cell_type": "code",
      "source": [
        "#Con conjuntos de muestras\n",
        "N = 5\n",
        "P = 5\n",
        "\n",
        "X = np.random.randn(N,P) #R{NxP} 2 Dim, Nxp Elements\n",
        "Y = np.random.randn(N,P) #R{NxP}    \"           \"\n",
        "c = 6         #Scalar in R\n",
        "d = 2         #Scalar in R\n",
        "a = 1/len(x)         #Scalar in R\n",
        "\n",
        "OUT = np.zeros((N,N))    #R{NxP}  2 Dim, Nxp Elements\n",
        "\n",
        "\n",
        "for i in range(N):\n",
        "  XT = np.transpose(X[i, ...])   #R{PxN}  2 Dim, Nxp Elements\n",
        "  aXT= a*XT                     #R{P} 1 Dim, P elements\n",
        "  aXTY= np.dot(aXT, Y)             #Scalar in R\n",
        "  tan = np.tanh(aXTY + c)               #Scalar in R\n",
        "  k = tan             #Scalar in R\n",
        "  OUT[i, ...] = k"
      ],
      "metadata": {
        "id": "-2XkDv5CutkN"
      },
      "execution_count": null,
      "outputs": []
    },
    {
      "cell_type": "code",
      "source": [
        "OUT"
      ],
      "metadata": {
        "colab": {
          "base_uri": "https://localhost:8080/"
        },
        "id": "IdsXp3u_zTHV",
        "outputId": "df2726f7-3fd6-4fbd-be77-06545ec9d293"
      },
      "execution_count": null,
      "outputs": [
        {
          "output_type": "execute_result",
          "data": {
            "text/plain": [
              "array([[0.99998687, 0.99999631, 0.99999584, 0.99993921, 0.99998291],\n",
              "       [0.99999858, 0.9999733 , 0.99998981, 0.99999638, 0.99987303],\n",
              "       [0.99998992, 0.99998435, 0.99997401, 0.99999393, 0.99998889],\n",
              "       [0.99999464, 0.99995042, 0.99998015, 0.99999872, 0.9999922 ],\n",
              "       [0.99998321, 0.99998639, 0.99999756, 0.99991441, 0.999993  ]])"
            ]
          },
          "metadata": {},
          "execution_count": 565
        }
      ]
    },
    {
      "cell_type": "markdown",
      "source": [
        "##2.8 Nucleo Cuadratico Racional.\n",
        "\n",
        "$k(x,y) = 1 - { \\frac{\\lVert x - y \\rVert^2}{\\lVert x - y \\rVert^2 + c } \\big)}$, donde $x,y \\in \\mathbb{R}^P; \\sigma \\in \\{c \\in \\mathbb{R}  \\}$"
      ],
      "metadata": {
        "id": "kDQJCjRhGtO8"
      }
    },
    {
      "cell_type": "code",
      "source": [
        "#Con Muestras\n",
        "x = np.asarray([1, 4.5, 0.8, 5.7, 4.2])\n",
        "y = np.asarray([0.5, 2.5, 3.8, -5.7, -2.2])\n",
        "\n",
        "\n",
        "x_y = x - y  # 1dim p elemntos\n",
        "norm = np.linalg.norm(x_y, ord=2) #scalar\n",
        "norm2 = norm**2\n",
        "\n",
        "div = norm2/(norm2 + c) #scarlar\n",
        "resta = 1 - div\n",
        "k = resta #scalar\n",
        "k"
      ],
      "metadata": {
        "colab": {
          "base_uri": "https://localhost:8080/"
        },
        "id": "aRl0vkvRGZZy",
        "outputId": "441ca020-4f67-4173-9745-e3354e544fce"
      },
      "execution_count": null,
      "outputs": [
        {
          "output_type": "execute_result",
          "data": {
            "text/plain": [
              "0.03155071777882945"
            ]
          },
          "metadata": {},
          "execution_count": 566
        }
      ]
    },
    {
      "cell_type": "markdown",
      "source": [
        "Con pares de muestras de los conjuntos de muestras $X, Y \\in \\mathbb{R}^{N \\times P}$"
      ],
      "metadata": {
        "id": "UJnLMbtlCF44"
      }
    },
    {
      "cell_type": "code",
      "source": [
        "N = 5\n",
        "P = 5\n",
        "sigma = 1e-1\n",
        "\n",
        "X = np.random.randn(N,P)\n",
        "Y = np.random.randn(N,P)\n",
        "\n",
        "OUT = np.zeros((N,N))\n",
        "\n",
        "for i in range(N):\n",
        "  X_Y = X[i,...] - Y # R{NXP}\n",
        "  norm = np.linalg.norm(X_Y, ord=2, axis=1) #R{N}\n",
        "  norm2 = norm**2\n",
        "  \n",
        "  div = norm2/(norm2 + c) #R{N}\n",
        "  resta = 1 - div\n",
        "  k = resta #R{N}\n",
        "  OUT[i, ...] = k #R{NxN}"
      ],
      "metadata": {
        "id": "ufXyl9KGCGjV"
      },
      "execution_count": null,
      "outputs": []
    },
    {
      "cell_type": "code",
      "source": [
        "OUT"
      ],
      "metadata": {
        "colab": {
          "base_uri": "https://localhost:8080/"
        },
        "id": "2dEo6LthC3Ca",
        "outputId": "af0534f5-3441-479b-81e3-f8ce496d78b5"
      },
      "execution_count": null,
      "outputs": [
        {
          "output_type": "execute_result",
          "data": {
            "text/plain": [
              "array([[0.50697662, 0.38338693, 0.45547576, 0.57029569, 0.49641056],\n",
              "       [0.27770356, 0.27863789, 0.49220922, 0.63978531, 0.47788272],\n",
              "       [0.49547828, 0.47804646, 0.44838751, 0.70351558, 0.5522121 ],\n",
              "       [0.4799595 , 0.45129112, 0.37592813, 0.38422429, 0.30040446],\n",
              "       [0.32623408, 0.31504363, 0.54056001, 0.35791282, 0.34602745]])"
            ]
          },
          "metadata": {},
          "execution_count": 568
        }
      ]
    },
    {
      "cell_type": "code",
      "source": [
        ""
      ],
      "metadata": {
        "id": "6wrGcuX7DD08"
      },
      "execution_count": null,
      "outputs": []
    },
    {
      "cell_type": "markdown",
      "source": [
        "##2.9 Nucleo multicuadratico\n",
        "$k(x,y) = \\sqrt{\\lVert x - y \\rVert^2 + c^2}$, donde $x,y \\in \\mathbb{R}^P;  \\{c \\in \\mathbb{R}  \\}$"
      ],
      "metadata": {
        "id": "KEV00vMBDIjz"
      }
    },
    {
      "cell_type": "code",
      "source": [
        "#Con Muestras\n",
        "x = np.asarray([1, 4.5, 0.8, 5.7, 4.2])\n",
        "y = np.asarray([0.5, 2.5, 3.8, -5.7, -2.2])\n",
        "\n",
        "\n",
        "x_y = x - y  # 1dim p elemntos\n",
        "norm = np.linalg.norm(x_y, ord=2) #scalar\n",
        "norm2 = norm**2\n",
        "\n",
        "suma = norm2 + c**2 #scarlar\n",
        "raiz = np.sqrt(suma)\n",
        "k = raiz #scalar\n",
        "k"
      ],
      "metadata": {
        "colab": {
          "base_uri": "https://localhost:8080/"
        },
        "id": "j4ApYONdEyVB",
        "outputId": "32666ead-a0a9-4e7d-ac2b-975e96ec46fe"
      },
      "execution_count": null,
      "outputs": [
        {
          "output_type": "execute_result",
          "data": {
            "text/plain": [
              "14.83812656638297"
            ]
          },
          "metadata": {},
          "execution_count": 569
        }
      ]
    },
    {
      "cell_type": "markdown",
      "source": [
        "Con pares de muestras de los conjuntos de muestras $X, Y \\in \\mathbb{R}^{N \\times P}$"
      ],
      "metadata": {
        "id": "9xruUZquFNH0"
      }
    },
    {
      "cell_type": "code",
      "source": [
        "N = 5\n",
        "P = 5\n",
        "\n",
        "X = np.random.randn(N,P)\n",
        "Y = np.random.randn(N,P)\n",
        "\n",
        "OUT = np.zeros((N,N))\n",
        "\n",
        "for i in range(N):\n",
        "  X_Y = X[i,...] - Y # R{NXP}\n",
        "  norm = np.linalg.norm(X_Y, ord=2, axis=1) #R{N}\n",
        "  norm2 = norm**2\n",
        "  \n",
        "  suma = norm2 + c**2 #R{N}\n",
        "  raiz = np.sqrt(suma)\n",
        "  k = raiz #R{N}\n",
        "  OUT[i, ...] = k #R{NxN}"
      ],
      "metadata": {
        "id": "Tjooczo-FPrF"
      },
      "execution_count": null,
      "outputs": []
    },
    {
      "cell_type": "code",
      "source": [
        "OUT"
      ],
      "metadata": {
        "colab": {
          "base_uri": "https://localhost:8080/"
        },
        "id": "-kt0OI5IFcbQ",
        "outputId": "a806bc0a-89f1-4f46-d768-e14f10c00a7a"
      },
      "execution_count": null,
      "outputs": [
        {
          "output_type": "execute_result",
          "data": {
            "text/plain": [
              "array([[6.2594765 , 6.25028537, 6.91576389, 6.7650792 , 6.79370581],\n",
              "       [6.912902  , 7.21548128, 6.89798663, 6.92724673, 7.44948679],\n",
              "       [6.43301182, 6.61278984, 6.59890505, 6.6219747 , 7.18873808],\n",
              "       [7.01361956, 6.98346399, 7.2509603 , 6.3793481 , 7.08012769],\n",
              "       [6.61656332, 6.82326958, 6.73874882, 6.44827974, 6.75632822]])"
            ]
          },
          "metadata": {},
          "execution_count": 571
        }
      ]
    },
    {
      "cell_type": "markdown",
      "source": [
        "##2.10 Nucleo multicuadratico inverso\n",
        "\n",
        "$k(x,y) ={ \\frac{1}{\\sqrt{\\lVert x - y \\rVert^2 + c^2}} \\big)}$, donde $x,y \\in \\mathbb{R}^P; \\{c \\in \\mathbb{R}  \\}$"
      ],
      "metadata": {
        "id": "2k6HygiwGBB6"
      }
    },
    {
      "cell_type": "code",
      "source": [
        "#Con Muestras\n",
        "x = np.asarray([1, 4.5, 0.8, 5.7, 4.2])\n",
        "y = np.asarray([0.5, 2.5, 3.8, -5.7, -2.2])\n",
        "\n",
        "\n",
        "x_y = x - y  # 1dim p elemntos\n",
        "norm = np.linalg.norm(x_y, ord=2) #scalar\n",
        "norm2 = norm**2\n",
        "\n",
        "suma = norm2 + c**2 #scarlar\n",
        "raiz = np.sqrt(suma)\n",
        "k = 1/raiz #scalar\n",
        "k"
      ],
      "metadata": {
        "colab": {
          "base_uri": "https://localhost:8080/"
        },
        "id": "G1DelqQjFd1k",
        "outputId": "0a374c82-baf2-477f-b3a6-58739d6ecc1e"
      },
      "execution_count": null,
      "outputs": [
        {
          "output_type": "execute_result",
          "data": {
            "text/plain": [
              "0.06739395270192564"
            ]
          },
          "metadata": {},
          "execution_count": 572
        }
      ]
    },
    {
      "cell_type": "markdown",
      "source": [
        "Con pares de muestras de los conjuntos de muestras $X, Y \\in \\mathbb{R}^{N \\times P}$"
      ],
      "metadata": {
        "id": "Io9brjZhGoMw"
      }
    },
    {
      "cell_type": "code",
      "source": [
        "N = 5\n",
        "P = 5\n",
        "\n",
        "X = np.random.randn(N,P)\n",
        "Y = np.random.randn(N,P)\n",
        "\n",
        "OUT = np.zeros((N,N))\n",
        "\n",
        "for i in range(N):\n",
        "  X_Y = X[i,...] - Y # R{NXP}\n",
        "  norm = np.linalg.norm(X_Y, ord=2, axis=1) #R{N}\n",
        "  norm2 = norm**2\n",
        "  \n",
        "  suma = norm2 + c**2 #R{N}\n",
        "  raiz = np.sqrt(suma)\n",
        "  k = 1/raiz #R{N}\n",
        "  OUT[i, ...] = k #R{NxN}"
      ],
      "metadata": {
        "id": "foFjhZTHGoWA"
      },
      "execution_count": null,
      "outputs": []
    },
    {
      "cell_type": "code",
      "source": [
        "OUT"
      ],
      "metadata": {
        "colab": {
          "base_uri": "https://localhost:8080/"
        },
        "id": "fz8IJAjaHRON",
        "outputId": "1eaa7ddf-ff79-48a2-f74a-2d9a5ddcfe52"
      },
      "execution_count": null,
      "outputs": [
        {
          "output_type": "execute_result",
          "data": {
            "text/plain": [
              "array([[0.15442354, 0.14641227, 0.15051465, 0.15523115, 0.16122118],\n",
              "       [0.13804851, 0.14164018, 0.13033985, 0.12520283, 0.13508033],\n",
              "       [0.16010302, 0.14979254, 0.15201464, 0.14258043, 0.15696075],\n",
              "       [0.15891284, 0.14475165, 0.1571463 , 0.15253188, 0.16403256],\n",
              "       [0.15147666, 0.15674841, 0.15425608, 0.14343131, 0.1520424 ]])"
            ]
          },
          "metadata": {},
          "execution_count": 574
        }
      ]
    },
    {
      "cell_type": "code",
      "source": [
        ""
      ],
      "metadata": {
        "id": "r6dLPZs4HRlq"
      },
      "execution_count": null,
      "outputs": []
    },
    {
      "cell_type": "markdown",
      "source": [
        "#CLASE KERNEL:"
      ],
      "metadata": {
        "id": "ubRpyWrYHa01"
      }
    },
    {
      "cell_type": "code",
      "source": [
        "class Kernel():\n",
        "  \"\"\"\n",
        "  Esta Clase permite evaluar los 10 kernels aneriores\n",
        "\n",
        "  \"\"\"\n",
        "  def __init__(self, a, c, d): #constructor\n",
        "    pass\n",
        "\n",
        "############ Kernel Lineal #####################\n",
        "\n",
        "  def lineal_muestras(self, x , y):  #Metodo kernel lineal para muestras en R^P\n",
        "    \"\"\"\n",
        "    Retorna kernel lineal para un par de muestras x e y en R^p\n",
        "    R^p -> R\n",
        "\n",
        "    \"\"\"\n",
        "    xT= np.transpose(x)           #R{P} 1 Dim, P elements\n",
        "    dot = np.dot(xT, y)           #Scalar in R\n",
        "    k = dot + c                   #Scalar in R\n",
        "    return k\n",
        "\n",
        "  def lineal_conj_muestras(self, X, Y):  #Metodo kernel lineal para conjuntos de muestras de tamaño NxP\n",
        "    \"\"\"\n",
        "    Retorna kernel lineal para los conjuntos de muestras X e Y en R^NxP\n",
        "    R^NxP -> R^NxN\n",
        "\n",
        "    \"\"\"\n",
        "    OUT = np.zeros((N,N))    #R{NxP}  2 Dim, Nxp Elements\n",
        "\n",
        "    for i in range(N):\n",
        "      XT = np.transpose(X[i, ...])   #R{PxN}  2 Dim, Nxp Elements\n",
        "      dot = np.dot(XT, Y)           #R{P}\n",
        "      k = dot + c                   #R\n",
        "      k\n",
        "      OUT[i, ...] = k\n",
        "    return OUT\n",
        "\n",
        "########## Kernel polinomial ###################\n",
        "\n",
        "  def pol_muestras(self, x , y):\n",
        "    \"\"\"\n",
        "    Retorna kernel polinomial para un par de muestras x e y en R^p\n",
        "    R^p -> R\n",
        "    \"\"\"\n",
        "    xT= np.transpose(x)           #R{P} 1 Dim, P elements\n",
        "    axT= a*xT                     #R{P} 1 Dim, P elements\n",
        "    axTy= np.dot(axT, y)             #Scalar in R\n",
        "    k = (axTy + c)**d                #Scalar in R\n",
        "    return k\n",
        "\n",
        "  def pol_conj_muestras(self, X, Y):\n",
        "    \"\"\"\n",
        "    Retorna kernel polinomial para los conjuntos de muestras X e Y en R^NxP\n",
        "    R^NxP -> R^NxN\n",
        "    \"\"\"\n",
        "    OUT = np.zeros((N,N))    #R{NxP}  2 Dim, Nxp Elements\n",
        "    for i in range(N):\n",
        "      XT = np.transpose(X[i, ...])   #R{PxN}  2 Dim, Nxp Elements\n",
        "      aXT= a*XT                     #R{P} 1 Dim, P elements\n",
        "      aXTY= np.dot(aXT, Y)             #Scalar in R\n",
        "      k = (aXTY + c)**d                #Scalar in R\n",
        "      OUT[i, ...] = k\n",
        "    return OUT\n",
        "  \n",
        "\n",
        "########## Kernel Gaussiano ####################\n",
        "\n",
        "  def gaus_muestras(self, x, y, sigma):\n",
        "    \"\"\"\n",
        "    Retorna kernel gaussiano para un par de muestras x e y en R^p\n",
        "    R^p -> R\n",
        "    \"\"\"\n",
        "  \n",
        "    x_y = x - y  # 1dim p elemntos\n",
        "    norm = np.linalg.norm(x_y, ord=2) #scalar\n",
        "    norm = norm**2 #sca\n",
        "    div = -1*(norm/(2*sigma**2)) #scarlar\n",
        "    k = np.exp(div) #scalar\n",
        "    return k\n",
        "\n",
        "  def gaus_conj_muestras(self, X, Y, sigma):\n",
        "    \"\"\"\n",
        "    Retorna kernel gaussiano para los conjuntos de muestras X e Y en R^NxP\n",
        "    R^NxP -> R^NxN\n",
        "    \"\"\"\n",
        "\n",
        "    OUT = np.zeros(np.shape(X))\n",
        "    for i in range(N):\n",
        "      resta = X[i,...] - Y # R{NXP}\n",
        "      norm = np.linalg.norm(resta, ord=2, axis=1) #R{N}\n",
        "      norm = norm**2 #R{N}\n",
        "      div = -1*(norm/(2*sigma**2)) #R{N}\n",
        "      k = np.exp(div) #R{N}\n",
        "      OUT[i, ...] = k\n",
        "    return OUT\n",
        "  \n",
        "########## Kernel Exponencial ##################\n",
        "\n",
        "  def exp_muestras(self, x, y, sigma):\n",
        "    \"\"\"\n",
        "    Retorna kernel exponencial para un par de muestras x e y en R^p\n",
        "    R^p -> R\n",
        "    \"\"\"\n",
        "    x_y = x - y  # 1dim p elemntos\n",
        "    norm = np.linalg.norm(x_y, ord=2) #scalar\n",
        "    div = -1*(norm/(2*sigma**2)) #scarlar\n",
        "    k = np.exp(div) #scalar\n",
        "    return k\n",
        "\n",
        "  def exp_conj_muestras(self, X, Y, sigma):\n",
        "    \"\"\"\n",
        "    Retorna kernel exponencial para los conjuntos de muestras X e Y en R^NxP\n",
        "    R^NxP -> R^NxN\n",
        "    \"\"\"\n",
        "    OUT = np.zeros(np.shape(X))\n",
        "    for i in range(len(X[...,0])):\n",
        "      resta = X[i,...] - Y # R{NXP}\n",
        "      norm = np.linalg.norm(resta, ord=2, axis=1) #R{N}\n",
        "  \n",
        "      div = -1*(norm/(2*sigma**2)) #R{N}\n",
        "      k = np.exp(div) #R{N}\n",
        "      OUT[i, ...] = k #R{NxN}\n",
        "    return OUT\n",
        "    \n",
        "########## Kernel Laplaciano ###################\n",
        "\n",
        "  def laplace_muestras(self, x, y, sigma):\n",
        "    \"\"\"\n",
        "    Retorna kernel laplaciano para un par de muestras x e y en R^p\n",
        "    R^p -> R\n",
        "    \"\"\"\n",
        "    x_y = x - y  # 1dim p elemntos\n",
        "    norm = np.linalg.norm(x_y, ord=2) #scalar\n",
        "\n",
        "    div = -1*(norm/(sigma)) #scarlar\n",
        "    k = np.exp(div) #scalar\n",
        "    return k\n",
        "\n",
        "  def laplace_conj_muestras(self, X, Y, sigma):\n",
        "    \"\"\"\n",
        "    Retorna kernel laplaciano para los conjuntos de muestras X e Y en R^NxP\n",
        "    R^NxP -> R^NxN\n",
        "    \"\"\"\n",
        "    OUT = np.zeros(np.shape(X))\n",
        "    for i in range(len(X[...,0])):\n",
        "      resta = X[i,...] - Y # R{NXP}\n",
        "      norm = np.linalg.norm(resta, ord=2, axis=1) #R{N}\n",
        "      div = -1*(norm/(sigma)) #R{N}\n",
        "      k = np.exp(div) #R{N}\n",
        "      OUT[i, ...] = k #R{NxN}\n",
        "    return OUT\n",
        "  \n",
        "########## Kernel Anova ########################\n",
        "\n",
        "  def anova_muestras(self, x, y, sigma):\n",
        "    \"\"\"\n",
        "    Retorna kernel anova para un par de muestras x e y en R^p\n",
        "    R^p -> R\n",
        "    \"\"\"\n",
        "    n = len(x)\n",
        "    k=1\n",
        "    d=2\n",
        "    kernell = 0\n",
        "    for k in range(len(x)):\n",
        "      xk_yk2 = (x**k - y**k)**2  # 1dim p elemntos\n",
        "      _s_xk_yk2 = (-sigma*xk_yk2)**d\n",
        "      ker = np.exp(_s_xk_yk2) #scalar\n",
        "      kernell = kernell + ker\n",
        "    return kernell\n",
        "\n",
        "  def anova_conj_muestras(self, X, Y, sigma):\n",
        "    \"\"\"\n",
        "    Retorna kernel anova para los conjuntos de muestras X e Y en R^NxP\n",
        "    R^NxP -> R^NxN\n",
        "    \"\"\"\n",
        "    OUT = np.zeros(np.shape(X))\n",
        "    kernell = 0\n",
        "    for i in range(len(X[...,0])):\n",
        "      for k in range(len(X[...,0])):\n",
        "       xk_yk2 = (X[i, ...]**k - Y**k)**2  # 1dim p elemntos\n",
        "       _s_xk_yk2 = (-sigma*xk_yk2)**d\n",
        "       ker = np.exp(_s_xk_yk2) #scalar\n",
        "       kernell=kernell+ker\n",
        "       OUT[i, ...] = kernell[i,...] #R{NxN}\n",
        "    return OUT\n",
        "\n",
        "########## Kernel Tangente hiperbolica (sigmoide) #########\n",
        "\n",
        "  def tanh_muestras(self, x, y):\n",
        "    \"\"\"\n",
        "    Retorna kernel tangente hiperbolico para un par de muestras x e y en R^p\n",
        "    R^p -> R\n",
        "    \"\"\"\n",
        "    a = 1/ len(x)#Scalar in R (ALPHA)\n",
        "    xT= np.transpose(x)           #R{P} 1 Dim, P elements\n",
        "    axT= a*xT            #R{P} 1 Dim, P elements\n",
        "    axTy= np.dot(axT, y) #Scalar in R\n",
        "\n",
        "    tanh = np.tanh(axTy + c)   #Scalar in R     \n",
        "    k = tanh             #Scalar in R\n",
        "    return k\n",
        "\n",
        "  def tanh_conj_muestras(self, X, Y):\n",
        "    \"\"\"\n",
        "    Retorna kernel tangente hiperbolico para los conjuntos de muestras X e Y en R^NxP\n",
        "    R^NxP -> R^NxN\n",
        "    \"\"\"\n",
        "    OUT = np.zeros(np.shape(X))\n",
        "    a = 1/len(x)         #Scalar in R\n",
        "    for i in range(len(X[...,0])):\n",
        "      XT = np.transpose(X[i, ...])   #R{PxN}  2 Dim, Nxp Elements\n",
        "      aXT= a*XT                     #R{P} 1 Dim, P elements\n",
        "      aXTY= np.dot(aXT, Y)             #Scalar in R\n",
        "      tan = np.tanh(aXTY + c)               #Scalar in R\n",
        "      k = tan             #Scalar in R\n",
        "      OUT[i, ...] = k\n",
        "    return OUT\n",
        "\n",
        "########## Kernel cuadratico racional ############\n",
        "  def cuad_racional_muestras(self, x, y):\n",
        "    \"\"\"\n",
        "    Retorna kernel cuadratico racional para un par de muestras x e y en R^p\n",
        "    R^p -> R\n",
        "    \"\"\"\n",
        "    x_y = x - y  # 1dim p elemntos\n",
        "    norm = np.linalg.norm(x_y, ord=2) #scalar\n",
        "    norm2 = norm**2\n",
        "\n",
        "    div = norm2/(norm2 + c) #scarlar\n",
        "    resta = 1 - div\n",
        "    k = resta #scalar\n",
        "    return k\n",
        "\n",
        "  def cuad_racional_conj_muestras(self, X, Y):\n",
        "    \"\"\"\n",
        "    Retorna kernel cuadratico racional para los conjuntos de muestras X e Y en R^NxP\n",
        "    R^NxP -> R^NxN\n",
        "    \"\"\"\n",
        "    OUT = np.zeros(np.shape(X))\n",
        "    for i in range(len(X[...,0])):\n",
        "      X_Y = X[i,...] - Y # R{NXP}\n",
        "      norm = np.linalg.norm(X_Y, ord=2, axis=1) #R{N}\n",
        "      norm2 = norm**2\n",
        "  \n",
        "      div = norm2/(norm2 + c) #R{N}\n",
        "      resta = 1 - div\n",
        "      k = resta #R{N}\n",
        "      OUT[i, ...] = k #R{NxN}\n",
        "    return OUT\n",
        "\n",
        "########## Kernel multicuadratico ################\n",
        "  def multicuadratico_muestras(self, x, y):\n",
        "    \"\"\"\n",
        "    Retorna kernel multicuadratico para un par de muestras x e y en R^p\n",
        "    R^p -> R\n",
        "    \"\"\"\n",
        "    x_y = x - y  # 1dim p elemntos\n",
        "    norm = np.linalg.norm(x_y, ord=2) #scalar\n",
        "    norm2 = norm**2\n",
        "\n",
        "    suma = norm2 + c**2 #scarlar\n",
        "    raiz = np.sqrt(suma)\n",
        "    k = raiz #scalar\n",
        "    return k\n",
        "\n",
        "  def multicuadratico_conj_muestras(self, X, Y):\n",
        "    \"\"\"\n",
        "    Retorna kernel multicuadratico para los conjuntos de muestras X e Y en R^NxP\n",
        "    R^NxP -> R^NxN\n",
        "    \"\"\"\n",
        "    OUT = np.zeros(np.shape(X))\n",
        "    for i in range(len(X[...,0])):\n",
        "      X_Y = X[i,...] - Y # R{NXP}\n",
        "      norm = np.linalg.norm(X_Y, ord=2, axis=1) #R{N}\n",
        "      norm2 = norm**2\n",
        "  \n",
        "      suma = norm2 + c**2 #R{N}\n",
        "      raiz = np.sqrt(suma)\n",
        "      k = raiz #R{N}\n",
        "      OUT[i, ...] = k #R{NxN}\n",
        "    return OUT\n",
        "\n",
        "########## Kernel Multicuadratico inverso ######\n",
        "  def multicuadratico_inv_muestras(self, x, y):\n",
        "    \"\"\"\n",
        "    Retorna kernel multicuadratico inverso para un par de muestras x e y en R^p\n",
        "    R^p -> R\n",
        "    \"\"\"\n",
        "    x_y = x - y  # 1dim p elemntos\n",
        "    norm = np.linalg.norm(x_y, ord=2) #scalar\n",
        "    norm2 = norm**2\n",
        "\n",
        "    suma = norm2 + c**2 #scarlar\n",
        "    raiz = np.sqrt(suma)\n",
        "    k = 1/raiz #scalar\n",
        "    return k\n",
        "\n",
        "  def multicuadratico_inv_conj_muestars(self, X, Y):\n",
        "    \"\"\"\n",
        "    Retorna kernel multicuadratico inverso para los conjuntos de muestras X e Y en R^NxP\n",
        "    R^NxP -> R^NxN\n",
        "    \"\"\"\n",
        "    OUT = np.zeros(np.shape(X))\n",
        "    for i in range(len(X[...,0])):\n",
        "      X_Y = X[i,...] - Y # R{NXP}\n",
        "      norm = np.linalg.norm(X_Y, ord=2, axis=1) #R{N}\n",
        "      norm2 = norm**2\n",
        "  \n",
        "      suma = norm2 + c**2 #R{N}\n",
        "      raiz = np.sqrt(suma)\n",
        "      k = 1/raiz #R{N}\n",
        "      OUT[i, ...] = k #R{NxN}\n",
        "    return OUT\n",
        "  \n",
        "\n"
      ],
      "metadata": {
        "id": "rFckteFoHpbT"
      },
      "execution_count": null,
      "outputs": []
    },
    {
      "cell_type": "markdown",
      "source": [
        "##Llamado a la clase:"
      ],
      "metadata": {
        "id": "h3L5seepPysj"
      }
    },
    {
      "cell_type": "code",
      "source": [
        "kernel = Kernel(6, 2, 2) #CREO EL OBJETO DE CLASE KERNEL atributos (alpha, c, d)"
      ],
      "metadata": {
        "id": "grC1mv2JCGpe"
      },
      "execution_count": null,
      "outputs": []
    },
    {
      "cell_type": "code",
      "source": [
        "x = np.asarray([1.1, 3.5, 1.8, 3.7, 5.2])     #R{P} 1 Dim, P elements   MUESTRAS\n",
        "y = np.asarray([0.5, 1.5, 4.8, -3.7, -6.2]) #R{P}  1 Dim, P elements  MUESTRAS\n",
        "X = np.random.randn(5,5) #R{NxP} 2 Dim, Nxp Elements CONJ_MUESTRAS\n",
        "Y = np.random.randn(5,5) #R{NxP}   \"\"                  \"\""
      ],
      "metadata": {
        "id": "K5fDNP61CrOl"
      },
      "execution_count": null,
      "outputs": []
    },
    {
      "cell_type": "markdown",
      "source": [
        "###Kernel lineal"
      ],
      "metadata": {
        "id": "VEZegjz5P8LV"
      }
    },
    {
      "cell_type": "code",
      "source": [
        "kernel.lineal_muestras(x,y)"
      ],
      "metadata": {
        "colab": {
          "base_uri": "https://localhost:8080/"
        },
        "id": "Ok3Z3AZkClh0",
        "outputId": "00543b69-4198-4d82-b8f2-484aecb0f3e0"
      },
      "execution_count": null,
      "outputs": [
        {
          "output_type": "execute_result",
          "data": {
            "text/plain": [
              "-25.490000000000002"
            ]
          },
          "metadata": {},
          "execution_count": 578
        }
      ]
    },
    {
      "cell_type": "code",
      "source": [
        "kernel.lineal_conj_muestras(X, Y)"
      ],
      "metadata": {
        "colab": {
          "base_uri": "https://localhost:8080/"
        },
        "id": "WjtWyWYVDFLp",
        "outputId": "6bcdef98-ced6-461a-d226-8fa46ea6cbdd"
      },
      "execution_count": null,
      "outputs": [
        {
          "output_type": "execute_result",
          "data": {
            "text/plain": [
              "array([[ 6.57821625,  1.98339243,  3.7109718 ,  8.15966354,  8.30613515],\n",
              "       [ 6.46496366,  7.13415098,  5.4370795 ,  7.15996353,  7.45159857],\n",
              "       [ 5.6587106 , -2.06196756,  4.7581231 ,  8.12008572,  5.37181534],\n",
              "       [ 6.0466929 ,  1.99580806,  3.58186464,  7.34110971,  8.16588285],\n",
              "       [ 4.31959356,  2.30195342,  7.8005191 ,  7.65158997,  4.23121729]])"
            ]
          },
          "metadata": {},
          "execution_count": 579
        }
      ]
    },
    {
      "cell_type": "markdown",
      "source": [
        "###Kernel Polinomial"
      ],
      "metadata": {
        "id": "d5KCtz8WQGTE"
      }
    },
    {
      "cell_type": "code",
      "source": [
        "kernel.pol_muestras(x, y)"
      ],
      "metadata": {
        "colab": {
          "base_uri": "https://localhost:8080/"
        },
        "id": "3MHYigawQGlU",
        "outputId": "b2e8ac7c-acbf-4d56-a321-684d409666e3"
      },
      "execution_count": null,
      "outputs": [
        {
          "output_type": "execute_result",
          "data": {
            "text/plain": [
              "0.08880400000000002"
            ]
          },
          "metadata": {},
          "execution_count": 580
        }
      ]
    },
    {
      "cell_type": "code",
      "source": [
        "kernel.pol_conj_muestras(X, Y)"
      ],
      "metadata": {
        "colab": {
          "base_uri": "https://localhost:8080/"
        },
        "id": "m2LXEzdOQGpa",
        "outputId": "678e215e-cf7a-4f57-934a-b1e9ed7b9b6d"
      },
      "execution_count": null,
      "outputs": [
        {
          "output_type": "execute_result",
          "data": {
            "text/plain": [
              "array([[37.40109236, 27.00546729, 30.71591833, 41.36975835, 41.74745475],\n",
              "       [37.12456043, 38.77341428, 34.66166599, 38.83773309, 39.56812211],\n",
              "       [35.18556458, 19.2510907 , 33.08118576, 41.26799628, 34.50814145],\n",
              "       [36.11215017, 27.03128147, 30.43037028, 39.29060632, 41.38576077],\n",
              "       [32.07997517, 27.67171016, 40.4509206 , 40.0729259 , 31.88006519]])"
            ]
          },
          "metadata": {},
          "execution_count": 581
        }
      ]
    },
    {
      "cell_type": "markdown",
      "source": [
        "###Kernel Gaussiano"
      ],
      "metadata": {
        "id": "SzFPkMpjQG6M"
      }
    },
    {
      "cell_type": "code",
      "source": [
        "kernel.gaus_muestras(x, y, 1e-1)"
      ],
      "metadata": {
        "colab": {
          "base_uri": "https://localhost:8080/"
        },
        "id": "YsR9eVltQHD4",
        "outputId": "dece5896-85e2-47c1-fe29-0eca48184527"
      },
      "execution_count": null,
      "outputs": [
        {
          "output_type": "execute_result",
          "data": {
            "text/plain": [
              "0.0"
            ]
          },
          "metadata": {},
          "execution_count": 582
        }
      ]
    },
    {
      "cell_type": "code",
      "source": [
        "kernel.gaus_conj_muestras(X, Y, 1e-1)"
      ],
      "metadata": {
        "colab": {
          "base_uri": "https://localhost:8080/"
        },
        "id": "45Ru-sffQHHm",
        "outputId": "d5ba9d93-bf07-4d3e-d94c-a3f9fe5b902a"
      },
      "execution_count": null,
      "outputs": [
        {
          "output_type": "execute_result",
          "data": {
            "text/plain": [
              "array([[0.00000000e+000, 6.41167617e-191, 3.08555339e-166,\n",
              "        5.45338060e-296, 0.00000000e+000],\n",
              "       [4.59461084e-175, 8.28388479e-100, 1.47402274e-075,\n",
              "        4.94337902e-119, 8.06436718e-124],\n",
              "       [0.00000000e+000, 8.76786625e-275, 5.56593423e-290,\n",
              "        0.00000000e+000, 0.00000000e+000],\n",
              "       [1.92271691e-232, 9.63075255e-099, 5.88768996e-089,\n",
              "        1.21106988e-233, 0.00000000e+000],\n",
              "       [4.97528692e-204, 8.52103202e-198, 4.41633237e-187,\n",
              "        1.65817577e-282, 0.00000000e+000]])"
            ]
          },
          "metadata": {},
          "execution_count": 583
        }
      ]
    },
    {
      "cell_type": "markdown",
      "source": [
        "###Kernel Exponencial"
      ],
      "metadata": {
        "id": "rtmyryK-Shvh"
      }
    },
    {
      "cell_type": "code",
      "source": [
        "kernel.exp_muestras(x, y, 1e-1)"
      ],
      "metadata": {
        "colab": {
          "base_uri": "https://localhost:8080/"
        },
        "id": "8-FhaUMzQHYt",
        "outputId": "16f35cd2-a06f-4dad-904f-ac6bb7420b62"
      },
      "execution_count": null,
      "outputs": [
        {
          "output_type": "execute_result",
          "data": {
            "text/plain": [
              "2.4267551257884713e-306"
            ]
          },
          "metadata": {},
          "execution_count": 584
        }
      ]
    },
    {
      "cell_type": "code",
      "source": [
        "kernel.exp_conj_muestras(X, Y, 1e-1)"
      ],
      "metadata": {
        "colab": {
          "base_uri": "https://localhost:8080/"
        },
        "id": "rVErtYfLQHdU",
        "outputId": "80f86beb-e44a-479a-807c-a240379f0967"
      },
      "execution_count": null,
      "outputs": [
        {
          "output_type": "execute_result",
          "data": {
            "text/plain": [
              "array([[3.53002984e-086, 5.43260920e-065, 1.12167445e-060,\n",
              "        8.46781035e-081, 3.85892373e-092],\n",
              "       [2.96475460e-062, 4.12455819e-047, 4.89091277e-041,\n",
              "        2.06479828e-051, 1.99304800e-052],\n",
              "       [2.66602610e-100, 7.19105515e-078, 5.58122872e-080,\n",
              "        1.37627305e-102, 7.95683481e-110],\n",
              "       [1.16377671e-071, 7.33564640e-047, 1.69474510e-044,\n",
              "        7.62636919e-072, 1.19683102e-085],\n",
              "       [3.60577063e-067, 3.83322963e-066, 2.43638620e-064,\n",
              "        5.98894011e-079, 1.13425856e-097]])"
            ]
          },
          "metadata": {},
          "execution_count": 585
        }
      ]
    },
    {
      "cell_type": "markdown",
      "source": [
        "###Kernel Laplaciano"
      ],
      "metadata": {
        "id": "LVPPwXYAQHmg"
      }
    },
    {
      "cell_type": "code",
      "source": [
        "kernel.laplace_muestras(x,y, 1e-1)"
      ],
      "metadata": {
        "colab": {
          "base_uri": "https://localhost:8080/"
        },
        "id": "rjSVJ5sAQHsw",
        "outputId": "16f0f62a-f925-4127-95de-012bb11eeccd"
      },
      "execution_count": null,
      "outputs": [
        {
          "output_type": "execute_result",
          "data": {
            "text/plain": [
              "7.533645686478147e-62"
            ]
          },
          "metadata": {},
          "execution_count": 586
        }
      ]
    },
    {
      "cell_type": "code",
      "source": [
        "kernel.laplace_conj_muestras(X, Y, 1e-1)"
      ],
      "metadata": {
        "colab": {
          "base_uri": "https://localhost:8080/"
        },
        "id": "AGBp_EYqQHzI",
        "outputId": "d0cf34e5-d7bb-4c21-facb-12d04786539b"
      },
      "execution_count": null,
      "outputs": [
        {
          "output_type": "execute_result",
          "data": {
            "text/plain": [
              "array([[8.11999338e-18, 1.40281917e-13, 1.02323024e-12, 9.67284491e-17,\n",
              "        5.21546745e-19],\n",
              "       [4.94763611e-13, 5.28537112e-10, 8.66718334e-09, 7.29416404e-11,\n",
              "        4.56986691e-11],\n",
              "       [1.21667022e-20, 3.72699254e-16, 1.41041190e-16, 4.24366332e-21,\n",
              "        1.51407737e-22],\n",
              "       [6.50390116e-15, 5.93045040e-10, 1.76124948e-09, 5.97672901e-15,\n",
              "        1.03658893e-17],\n",
              "       [5.14516870e-14, 8.25492187e-14, 1.89386591e-13, 2.26709643e-16,\n",
              "        4.08265247e-20]])"
            ]
          },
          "metadata": {},
          "execution_count": 587
        }
      ]
    },
    {
      "cell_type": "markdown",
      "source": [
        "###Kernel ANOVA\n"
      ],
      "metadata": {
        "id": "GZFtR-ShQIAp"
      }
    },
    {
      "cell_type": "code",
      "source": [
        "kernel.anova_muestras(x, y, 1e-1)"
      ],
      "metadata": {
        "colab": {
          "base_uri": "https://localhost:8080/"
        },
        "id": "TLqEnWFtQIHM",
        "outputId": "491cf427-edf0-46e2-c243-107f3a7eeab4"
      },
      "execution_count": null,
      "outputs": [
        {
          "output_type": "stream",
          "name": "stderr",
          "text": [
            "/usr/local/lib/python3.7/dist-packages/ipykernel_launcher.py:167: RuntimeWarning: overflow encountered in exp\n"
          ]
        },
        {
          "output_type": "execute_result",
          "data": {
            "text/plain": [
              "array([5.0705519,       inf,       inf,       inf,       inf])"
            ]
          },
          "metadata": {},
          "execution_count": 588
        }
      ]
    },
    {
      "cell_type": "code",
      "source": [
        "kernel.anova_conj_muestras(X, Y, 1e-1)"
      ],
      "metadata": {
        "colab": {
          "base_uri": "https://localhost:8080/"
        },
        "id": "SW-W207IQIJm",
        "outputId": "42364c5b-5de1-4caa-9442-f13f031177c7"
      },
      "execution_count": null,
      "outputs": [
        {
          "output_type": "stream",
          "name": "stderr",
          "text": [
            "/usr/local/lib/python3.7/dist-packages/ipykernel_launcher.py:182: RuntimeWarning: overflow encountered in exp\n"
          ]
        },
        {
          "output_type": "execute_result",
          "data": {
            "text/plain": [
              "array([[5.06426210e+000, 1.53392310e+065, 5.00003542e+000,\n",
              "        5.79709232e+002, 5.07267404e+000],\n",
              "       [1.00938168e+001, 1.12748070e+001, 1.02752997e+001,\n",
              "        5.71953699e+002, 1.00001409e+001],\n",
              "       [            inf, 2.17372771e+001, 1.52452100e+001,\n",
              "        5.46450260e+002, 1.50726153e+001],\n",
              "       [            inf, 2.75436409e+050, 2.02464025e+001,\n",
              "        6.61124034e+158, 2.00695328e+001],\n",
              "       [            inf, 3.01427832e+001, 8.80437586e+014,\n",
              "        5.77999363e+001, 1.54292742e+008]])"
            ]
          },
          "metadata": {},
          "execution_count": 589
        }
      ]
    },
    {
      "cell_type": "markdown",
      "source": [
        "###Kernel Tangente Hiperbolica (sigmoide)"
      ],
      "metadata": {
        "id": "DpRaaSVaQIRc"
      }
    },
    {
      "cell_type": "code",
      "source": [
        "kernel.tanh_muestras(x, y)"
      ],
      "metadata": {
        "colab": {
          "base_uri": "https://localhost:8080/"
        },
        "id": "_o9W7sxzQIXq",
        "outputId": "522fb8ae-3552-469b-ec96-ec17d533d980"
      },
      "execution_count": null,
      "outputs": [
        {
          "output_type": "execute_result",
          "data": {
            "text/plain": [
              "-0.28948127398573614"
            ]
          },
          "metadata": {},
          "execution_count": 590
        }
      ]
    },
    {
      "cell_type": "code",
      "source": [
        "kernel.tanh_conj_muestras(X, Y)"
      ],
      "metadata": {
        "colab": {
          "base_uri": "https://localhost:8080/"
        },
        "id": "2_xo60p3QIac",
        "outputId": "cead8494-e039-43fc-d3b5-cd021c3035c9"
      },
      "execution_count": null,
      "outputs": [
        {
          "output_type": "execute_result",
          "data": {
            "text/plain": [
              "array([[0.99999025, 0.99993873, 0.9999693 , 0.99999482, 0.99999511],\n",
              "       [0.9999898 , 0.99999219, 0.99998461, 0.99999227, 0.99999312],\n",
              "       [0.99998591, 0.99969102, 0.99997981, 0.99999474, 0.9999842 ],\n",
              "       [0.99998794, 0.99993903, 0.99996767, 0.99999281, 0.99999483],\n",
              "       [0.99997593, 0.99994606, 0.99999402, 0.99999365, 0.99997507]])"
            ]
          },
          "metadata": {},
          "execution_count": 591
        }
      ]
    },
    {
      "cell_type": "markdown",
      "source": [
        "###Kernel cuadratico Racional"
      ],
      "metadata": {
        "id": "ca--Pe0kQIhj"
      }
    },
    {
      "cell_type": "code",
      "source": [
        "kernel.cuad_racional_muestras(x, y)"
      ],
      "metadata": {
        "colab": {
          "base_uri": "https://localhost:8080/"
        },
        "id": "6xK_83HeQImh",
        "outputId": "705e9c5b-45fc-48ff-c8b0-44a998f87694"
      },
      "execution_count": null,
      "outputs": [
        {
          "output_type": "execute_result",
          "data": {
            "text/plain": [
              "0.02940023520188162"
            ]
          },
          "metadata": {},
          "execution_count": 592
        }
      ]
    },
    {
      "cell_type": "code",
      "source": [
        "kernel.cuad_racional_conj_muestras(X, Y)"
      ],
      "metadata": {
        "colab": {
          "base_uri": "https://localhost:8080/"
        },
        "id": "g6lBeEbYQIo9",
        "outputId": "13008cc2-309d-405e-f3d7-98d4fc42a6de"
      },
      "execution_count": null,
      "outputs": [
        {
          "output_type": "execute_result",
          "data": {
            "text/plain": [
              "array([[0.27925215, 0.40653952, 0.44046241, 0.30616339, 0.25292993],\n",
              "       [0.42769922, 0.56802669, 0.63518158, 0.52410025, 0.51419778],\n",
              "       [0.22199738, 0.32222038, 0.31054839, 0.21425196, 0.19204516],\n",
              "       [0.35990815, 0.57067749, 0.59623512, 0.3587183 , 0.28176468],\n",
              "       [0.39056251, 0.39799975, 0.41146726, 0.31618111, 0.23137686]])"
            ]
          },
          "metadata": {},
          "execution_count": 593
        }
      ]
    },
    {
      "cell_type": "markdown",
      "source": [
        "###Kernel Multicuadratico"
      ],
      "metadata": {
        "id": "JdYf9L0-cefv"
      }
    },
    {
      "cell_type": "code",
      "source": [
        "kernel.multicuadratico_muestras(x, y)"
      ],
      "metadata": {
        "colab": {
          "base_uri": "https://localhost:8080/"
        },
        "id": "P_A36IDXGlXr",
        "outputId": "5007b615-cf4e-44a9-c8db-796583a53f86"
      },
      "execution_count": null,
      "outputs": [
        {
          "output_type": "execute_result",
          "data": {
            "text/plain": [
              "15.299673199124221"
            ]
          },
          "metadata": {},
          "execution_count": 594
        }
      ]
    },
    {
      "cell_type": "code",
      "source": [
        "kernel.multicuadratico_conj_muestras(X, Y)"
      ],
      "metadata": {
        "colab": {
          "base_uri": "https://localhost:8080/"
        },
        "id": "NaIpe4K2Glx0",
        "outputId": "f067bc0e-c6ae-4f8b-f606-8442067e8132"
      },
      "execution_count": null,
      "outputs": [
        {
          "output_type": "execute_result",
          "data": {
            "text/plain": [
              "array([[7.17537165, 6.69019526, 6.60469892, 7.04254067, 7.32952829],\n",
              "       [6.63540128, 6.36889974, 6.28061444, 6.43802699, 6.45512679],\n",
              "       [7.55164524, 6.9728614 , 7.02286695, 7.61606273, 7.82576844],\n",
              "       [6.83161182, 6.36504668, 6.32954534, 6.83565772, 7.16200847],\n",
              "       [6.73516574, 6.71382054, 6.67697252, 6.99831877, 7.47875124]])"
            ]
          },
          "metadata": {},
          "execution_count": 595
        }
      ]
    },
    {
      "cell_type": "markdown",
      "source": [
        "###Kernel Multicuadratico Inverso"
      ],
      "metadata": {
        "id": "0-GMfqyxcvJw"
      }
    },
    {
      "cell_type": "code",
      "source": [
        "kernel.multicuadratico_inv_muestras(x, y)"
      ],
      "metadata": {
        "colab": {
          "base_uri": "https://localhost:8080/"
        },
        "id": "EqigmSblcvX6",
        "outputId": "ea15a954-c893-48e4-bd86-f425a9771f0f"
      },
      "execution_count": null,
      "outputs": [
        {
          "output_type": "execute_result",
          "data": {
            "text/plain": [
              "0.06536087320200026"
            ]
          },
          "metadata": {},
          "execution_count": 596
        }
      ]
    },
    {
      "cell_type": "code",
      "source": [
        "kernel.multicuadratico_inv_conj_muestars(X, Y)"
      ],
      "metadata": {
        "colab": {
          "base_uri": "https://localhost:8080/"
        },
        "id": "AGU26TuIcvbD",
        "outputId": "2393105b-9063-401a-9a66-a49219255601"
      },
      "execution_count": null,
      "outputs": [
        {
          "output_type": "execute_result",
          "data": {
            "text/plain": [
              "array([[0.1393656 , 0.14947247, 0.15140736, 0.14199421, 0.13643443],\n",
              "       [0.15070679, 0.15701299, 0.15922009, 0.15532709, 0.15491562],\n",
              "       [0.13242147, 0.14341315, 0.14239199, 0.13130144, 0.12778298],\n",
              "       [0.14637834, 0.15710804, 0.15798923, 0.1462917 , 0.13962564],\n",
              "       [0.14847445, 0.14894649, 0.14976848, 0.14289146, 0.13371216]])"
            ]
          },
          "metadata": {},
          "execution_count": 597
        }
      ]
    }
  ]
}