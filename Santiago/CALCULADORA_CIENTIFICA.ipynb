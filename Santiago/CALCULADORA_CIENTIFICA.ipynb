{
  "nbformat": 4,
  "nbformat_minor": 0,
  "metadata": {
    "colab": {
      "name": "CALCULADORA CIENTIFICA",
      "provenance": [],
      "collapsed_sections": []
    },
    "kernelspec": {
      "name": "python3",
      "display_name": "Python 3"
    },
    "language_info": {
      "name": "python"
    }
  },
  "cells": [
    {
      "cell_type": "markdown",
      "source": [
        "**Calculadora cientifica**"
      ],
      "metadata": {
        "id": "WBA0n7USuzFJ"
      }
    },
    {
      "cell_type": "code",
      "source": [
        "import numpy as np\n",
        "import math as ma\n",
        "class CalculadoraCientifica2: #Crear Clase\n",
        "  \"\"\" \n",
        "  Calculadora cientifica para sumar, restar, multiplicar, dividir, hallar logaritmo, potencias, raices cuadradas\n",
        "  \"\"\"\n",
        "  def __init__(self): #CONTRUCTOR \n",
        "   pass\n",
        " \n",
        "  def sum(): #METODOS...\n",
        "    print(\"Digite los numeros a sumar:\")\n",
        "    a=int(input())\n",
        "    b=int(input())\n",
        "    return a+b\n",
        "  \n",
        "  def res(): \n",
        "    print(\"Digite los numeros a restar:\")\n",
        "    a=int(input())\n",
        "    b=int(input())\n",
        "    return a-b\n",
        "\n",
        "  def mul(): \n",
        "    print(\"Digite los numeros a multiplicar:\")\n",
        "    a=int(input())\n",
        "    b=int(input())\n",
        "    return a*b\n",
        "\n",
        "  def div():\n",
        "    a=int(input(\"Digite el dividendo:\"))\n",
        "    b=int(input(\"Digite el Divisor\"))\n",
        "    return a/b\n",
        "\n",
        "  def log():\n",
        "    a=int(input(\"Digita el argumento (numero del cual quieres el logaritmo en base 10):\"))\n",
        "    return np.log10(a)\n",
        "\n",
        "  def exp():\n",
        "    a=int(input(\"digite el exponencial\"))\n",
        "    return np.exp(a)\n",
        "\n",
        "  def sqrt():\n",
        "    a=int(input(\"Digite el numero para hallar su raiz cuadrada\"))\n",
        "    return np.sqrt(a)\n",
        "\n",
        "  def pot():\n",
        "    print(\"ingrese la base de la potencia y luego el exponente: \")\n",
        "    a= int(input())\n",
        "    b= int(input())\n",
        "    return a**b\n",
        "\n",
        "  def tri():\n",
        "    a = int(input(\"¿Desea calcular la razon trigonometrica de un angulo en: 1)Radianes o 2)Grados?\"))\n",
        "    while a!= 1 and a!=2:\n",
        "      a = int(input(\"¿Desea calcular la razon trigonometrica de un angulo en: 1)Radianes o 2)Grados?\"))\n",
        "    \n",
        "    if a==1:\n",
        "      x=int(input(\"ingrese el angulo en radianes al cualquiere hallar sus razones trigonometricas Sen, cos y tan respectivamente: \"))\n",
        "      return(np.sin(x), np.cos(x), np.tan(x))\n",
        "\n",
        "    else: \n",
        "      x=int(input(\"ingrese el angulo en grados al cual quiere hallar sus razones trigonometricas Sen, cos y tan respectivamente: \"))\n",
        "      y=(x*np.pi)/180\n",
        "      return(np.sin(y), np.cos(y), np.tan(y))\n",
        "\n",
        "\n",
        "\n",
        "  \n"
      ],
      "metadata": {
        "id": "h4THUG_du2xx"
      },
      "execution_count": null,
      "outputs": []
    },
    {
      "cell_type": "code",
      "source": [
        "operacion = CalculadoraCientifica"
      ],
      "metadata": {
        "id": "AmNvbZ0L0KuF"
      },
      "execution_count": null,
      "outputs": []
    },
    {
      "cell_type": "code",
      "source": [
        "resultado = operacion.sum() \n",
        "print(\"el resultado de la suma es\", resultado)"
      ],
      "metadata": {
        "colab": {
          "base_uri": "https://localhost:8080/"
        },
        "id": "754vZr9a0aT_",
        "outputId": "0d32abb2-4c42-4b49-da73-f30223bda91d"
      },
      "execution_count": null,
      "outputs": [
        {
          "output_type": "stream",
          "name": "stdout",
          "text": [
            "Digite los numeros a sumar:\n",
            "1\n",
            "2\n",
            "el resultado de la suma es 3\n"
          ]
        }
      ]
    },
    {
      "cell_type": "code",
      "source": [
        "resultado = operacion.res()\n",
        "print(\"el resultado de la resta es\", resultado)"
      ],
      "metadata": {
        "colab": {
          "base_uri": "https://localhost:8080/"
        },
        "id": "jmM_f3J5B5xs",
        "outputId": "8988d8df-48f8-4458-c46a-78d013f5abab"
      },
      "execution_count": null,
      "outputs": [
        {
          "output_type": "stream",
          "name": "stdout",
          "text": [
            "Digite los numeros a restar:\n",
            "9\n",
            "6\n",
            "el resultado de la resta es 3\n"
          ]
        }
      ]
    },
    {
      "cell_type": "code",
      "source": [
        "resultado = operacion.mul()\n",
        "print(\"el resultado de la multiplicacion es\", resultado)"
      ],
      "metadata": {
        "colab": {
          "base_uri": "https://localhost:8080/"
        },
        "id": "cMoBtnrsIu2l",
        "outputId": "66eddbcf-fdf5-4de8-8408-791abac3ad23"
      },
      "execution_count": null,
      "outputs": [
        {
          "output_type": "stream",
          "name": "stdout",
          "text": [
            "Digite los numeros a multiplicar:\n",
            "4\n",
            "4\n",
            "el resultado de la multiplicacion es 16\n"
          ]
        }
      ]
    },
    {
      "cell_type": "code",
      "source": [
        "resultado = operacion.div()\n",
        "print(\"el resultado de la division es\", resultado)"
      ],
      "metadata": {
        "colab": {
          "base_uri": "https://localhost:8080/"
        },
        "id": "ivx4OmW-IvDm",
        "outputId": "21832925-a934-42bd-f947-04b9c31f6e58"
      },
      "execution_count": null,
      "outputs": [
        {
          "output_type": "stream",
          "name": "stdout",
          "text": [
            "Digite el dividendo:5\n",
            "Digite el Divisor5\n",
            "el resultado de la division es 1.0\n"
          ]
        }
      ]
    },
    {
      "cell_type": "code",
      "source": [
        "resultado = operacion.log()\n",
        "print(\"el resultado del logaritmo es\", resultado)"
      ],
      "metadata": {
        "colab": {
          "base_uri": "https://localhost:8080/"
        },
        "id": "o-OHBC3qIveT",
        "outputId": "c2509203-d0a7-4e91-8535-12bcd71d2f7d"
      },
      "execution_count": null,
      "outputs": [
        {
          "output_type": "stream",
          "name": "stdout",
          "text": [
            "Digita el argumento (numero del cual quieres el logaritmo en base 10):2\n",
            "el resultado del logaritmo es 0.3010299956639812\n"
          ]
        }
      ]
    },
    {
      "cell_type": "code",
      "source": [
        "resultado = operacion.exp()\n",
        "print(\"el resultado del exp es\", resultado)"
      ],
      "metadata": {
        "colab": {
          "base_uri": "https://localhost:8080/"
        },
        "id": "XVHDARreJUkz",
        "outputId": "3f9f7c62-1bf8-4599-ca6c-54cfc6d2f339"
      },
      "execution_count": null,
      "outputs": [
        {
          "output_type": "stream",
          "name": "stdout",
          "text": [
            "digite el exponencial2\n",
            "el resultado del exp es 7.38905609893065\n"
          ]
        }
      ]
    },
    {
      "cell_type": "code",
      "source": [
        "resultado = operacion.sqrt()\n",
        "print(\"el resultado de la raiz cuadrada es\", resultado)"
      ],
      "metadata": {
        "colab": {
          "base_uri": "https://localhost:8080/"
        },
        "id": "g4aYipfLJrfy",
        "outputId": "8cf7759a-8c4c-44dc-acc3-c896b125a66f"
      },
      "execution_count": null,
      "outputs": [
        {
          "output_type": "stream",
          "name": "stdout",
          "text": [
            "Digite el numero para hallar su raiz cuadrada4\n",
            "el resultado de la raiz cuadrada es 2.0\n"
          ]
        }
      ]
    },
    {
      "cell_type": "code",
      "source": [
        "resultado = operacion.pot()\n",
        "print(\"el resultado de la potencia es\", resultado)"
      ],
      "metadata": {
        "colab": {
          "base_uri": "https://localhost:8080/"
        },
        "id": "Gv9BBC5BJuEx",
        "outputId": "c9a535ba-06dc-4495-b8a4-24f983a0b259"
      },
      "execution_count": null,
      "outputs": [
        {
          "output_type": "stream",
          "name": "stdout",
          "text": [
            "ingrese la base de la potencia y luego el exponente: \n",
            "4\n",
            "2\n",
            "el resultado de la potencia es 16\n"
          ]
        }
      ]
    },
    {
      "cell_type": "code",
      "source": [
        "resultado = operacion.tri()\n",
        "print(\"el resultado de las razones trigonometricas es\", resultado)"
      ],
      "metadata": {
        "colab": {
          "base_uri": "https://localhost:8080/"
        },
        "id": "L_tnMZUVRVMd",
        "outputId": "fb040d1d-af04-4028-c550-671217d1251e"
      },
      "execution_count": null,
      "outputs": [
        {
          "output_type": "stream",
          "name": "stdout",
          "text": [
            "¿Desea calcular la razon trigonometrica de un angulo en: 1)Radianes o 2)Grados?2\n",
            "ingrese el angulo en grados al cual quiere hallar sus razones trigonometricas Sen, cos y tan respectivamente: 60\n",
            "el resultado de las razones trigonometricas es (0.8660254037844386, 0.5000000000000001, 1.7320508075688767)\n"
          ]
        }
      ]
    }
  ]
}