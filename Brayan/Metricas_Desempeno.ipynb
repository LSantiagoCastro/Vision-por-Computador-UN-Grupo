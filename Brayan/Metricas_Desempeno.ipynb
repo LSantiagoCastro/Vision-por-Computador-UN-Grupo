{
  "nbformat": 4,
  "nbformat_minor": 0,
  "metadata": {
    "colab": {
      "name": "Metricas_Desempeno.ipynb",
      "provenance": []
    },
    "kernelspec": {
      "name": "python3",
      "display_name": "Python 3"
    },
    "language_info": {
      "name": "python"
    }
  },
  "cells": [
    {
      "cell_type": "markdown",
      "source": [
        "**Brayan Valencia Quintero**\n",
        "\n",
        "Tarea Procesamiento Digital de Imagenes"
      ],
      "metadata": {
        "id": "Q3pjaA3EARXt"
      }
    },
    {
      "cell_type": "markdown",
      "source": [
        "# **Metrica de desempeño  de huber**\n",
        "\n",
        "En estadística, la pérdida de Huber es una función de pérdida utilizada en la regresión robusta, que es menos sensible a los valores atípicos de los datos que la pérdida de error al cuadrado. A veces también se utiliza una variante para la clasificación\n",
        "\n",
        "La función de pérdida de Huber describe la penalización incurrida por un procedimiento de estimación f . Huber (1964) define la función de pérdida por partes \n",
        "\n",
        "$$L_\\delta(a)= \\left\\lbrace\n",
        "\\begin{array}{ll}\n",
        "\\frac{1}{2}a^2 \\ \\ \\ \\ \\ para \\ \\ \\ |a|\\le δ & \\\\\n",
        "\\delta *(|a|-\\frac{1}{2}\\delta) \\ \\ \\ \\ de \\ lo  \\ contrario\n",
        "\\end{array}\n",
        "\\right.$$\n",
        "\n",
        "Esta función es cuadrática para valores pequeños de a y lineal para valores grandes, con valores y pendientes iguales de las diferentes secciones en los dos puntos donde $|a|=\\delta$. La variable a a menudo se refiere a los residuos, es decir, a la diferencia entre los valores observados y predichos.$a = y-f(x)$, por lo que el primero se puede expandir a\n",
        "\n",
        "$$L_\\delta(y, f(x))= \\left\\lbrace\n",
        "\\begin{array}{ll}\n",
        "\\frac{1}{2}(y-f(x))^2 \\ \\ \\ \\ \\ para \\ \\ \\ |y-f(x)|\\le δ & \\\\\n",
        "\\delta *(|y-f(x)|-\\frac{1}{2}\\delta) \\ \\ \\ \\ de \\ lo  \\ contrario\n",
        "\\end{array}\n",
        "\\right.$$\n",
        "\n",
        "**La función de pérdida de Huber se utiliza en estadísticas robustas , estimación M y modelado aditivo**"
      ],
      "metadata": {
        "id": "NI7GGsGTAe-e"
      }
    },
    {
      "cell_type": "markdown",
      "source": [
        "# **Area bajo la curva ROC**\n",
        "\n",
        "La curva AUC - ROC es una medida de rendimiento para los problemas de clasificación en varias configuraciones de umbral. ROC es una curva de probabilidad y AUC representa el grado o medida de separabilidad. Indica cuánto es capaz el modelo de distinguir entre clases. Cuanto mayor sea el AUC, mejor será el modelo para predecir 0 clases como 0 y 1 clases como 1. Por analogía, cuanto mayor sea el AUC, mejor será el modelo para distinguir entre pacientes con la enfermedad y sin enfermedad.\n",
        "\n",
        "La curva ROC se traza con TPR contra FPR, donde TPR está en el eje y y FPR está en el eje x.\n",
        "\n"
      ],
      "metadata": {
        "id": "rr_lKx0lYqSz"
      }
    },
    {
      "cell_type": "markdown",
      "source": [
        "![Sin título.png](data:image/png;base64,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)"
      ],
      "metadata": {
        "id": "P2cfzkHblC8Y"
      }
    },
    {
      "cell_type": "markdown",
      "source": [
        "**Definición de términos utilizados en la curva AUC y ROC.**\n",
        "\n",
        "TPR (Tasa de verdaderos positivos) / Recuperación / Sensibilidad\n",
        "\n",
        "$$TPR/Recall/Sensitivity=\\frac{TP}{TP+FN}$$\n",
        "\n",
        "\n",
        "**especificidad**\n",
        "\n",
        "$$Specificity= \\frac{TN}{TN+FP}$$\n",
        "\n",
        "**FPR**\n",
        "\n",
        "$$FPR=1- Specificity$$\n",
        "\n",
        "$$=\\frac{FP}{TN+FP}$$\n",
        "\n"
      ],
      "metadata": {
        "id": "ayzKDkU_lIgZ"
      }
    },
    {
      "cell_type": "markdown",
      "source": [
        "La curva ROC se comenzó a utilizar durante la Segunda Guerra Mundial para el análisis de señales de radar, a partir de lo cual se desarrolló la Teoría de Detección de Señales. Después del ataque a Pearl Harbor en 1941, el ejército de los Estados Unidos comenzó un programa de investigación para detectar correctamente los aparatos japoneses a partir de sus señales de radar.\n",
        "\n",
        "En los años 50, las curvas ROC se utilizaron en Psicofísica para evaluar la capacidad de detección de humanos (y también de no humanos) en señales débiles. En medicina el análisis ROC se ha utilizado de forma muy extensa en epidemiología e investigación médica, de tal modo que se encuentra muy relacionado con la medicina basada en la evidencia. En radiología, el análisis ROC es la técnica de preferencia para evaluar nuevas técnicas de diagnóstico por imagen.\n",
        "\n",
        "Más recientemente, las curvas ROC se han mostrado muy útiles para la evaluación de técnicas de aprendizaje automático. La primera aplicación de las ROC en esta área fue por Spackman, quien demostró el valor de las curvas ROC para la comparación de diferentes algoritmos de clasificación."
      ],
      "metadata": {
        "id": "cxw9BW-DeqnU"
      }
    },
    {
      "cell_type": "markdown",
      "source": [
        "# **Como se generalizan las medidas de desempeño para clasificacion binaria anteriormete vistas a tareas multi-clase y multi-salida**\n",
        "\n",
        "\n",
        "Los datos se tratan entonces como una coleccion de problemas binarios, uno para cada clase. Luego, hay varias formas de promediar los cálculos de métricas binarias en el conjunto de clases.\n",
        "\n",
        "Formas: seccion(3.3.2.1) https://scikit-learn.org/stable/modules/model_evaluation.html#scoring-parameter\n",
        "\n",
        "\n"
      ],
      "metadata": {
        "id": "syPNmMfXmOQ5"
      }
    },
    {
      "cell_type": "markdown",
      "source": [
        "**Presicion**\n",
        "\n",
        "En la clasificación multietiqueta, la función devuelve la precisión del subconjunto. Si todo el conjunto de etiquetas pronosticadas para una muestra coincide estrictamente con el verdadero conjunto de etiquetas, entonces la precisión del subconjunto es 1,0; de lo contrario es 0.0.\n"
      ],
      "metadata": {
        "id": "4DeHH1h3fz-e"
      }
    },
    {
      "cell_type": "markdown",
      "source": [
        "![presicion multiclase.PNG](data:image/png;base64,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)"
      ],
      "metadata": {
        "id": "UunjQ1gCDqCR"
      }
    },
    {
      "cell_type": "markdown",
      "source": [
        "**^y** : Valores predichos de las muestras\n",
        "\n",
        "**y** : Valor verdadero correspondiente\n",
        "\n",
        "\n",
        "```\n",
        "#Funcion accuracy_score de sklearn.metrics\n",
        ">>> import numpy as np\n",
        ">>> from sklearn.metrics import accuracy_score\n",
        ">>> y_pred = [0, 2, 1, 3]\n",
        ">>> y_true = [0, 1, 2, 3]\n",
        ">>> accuracy_score(y_true, y_pred)\n",
        "0.5\n",
        ">>> accuracy_score(y_true, y_pred, normalize=False)\n",
        "2\n",
        "```\n",
        "\n",
        "En el caso de multiples etiquetas con indicadores de etiqueta binarias:\n",
        "```\n",
        ">>> accuracy_score(np.array([[0, 1], [1, 1]]), np.ones((2, 2)))\n",
        "0.5\n",
        "```"
      ],
      "metadata": {
        "id": "O05gM8zSgGpY"
      }
    },
    {
      "cell_type": "markdown",
      "source": [
        "**Matriz de Confusion**\n",
        "\n",
        "Evalúa la precisión de la clasificación calculando la matriz de confusión con cada fila correspondiente a la clase verdadera."
      ],
      "metadata": {
        "id": "yCHZEA81gOMC"
      }
    },
    {
      "cell_type": "code",
      "source": [
        "from sklearn.metrics import confusion_matrix \n",
        "from sklearn.metrics import ConfusionMatrixDisplay\n",
        "import matplotlib as plt\n",
        "y_true = [2, 0, 2, 2, 0, 1,3]\n",
        "y_pred = [0, 0, 2, 2, 0, 2,3]\n",
        "k=confusion_matrix(y_true, y_pred)\n",
        "d = ConfusionMatrixDisplay(confusion_matrix=k)\n",
        "d.plot()\n"
      ],
      "metadata": {
        "colab": {
          "base_uri": "https://localhost:8080/",
          "height": 300
        },
        "id": "UNrihcQ2gbA_",
        "outputId": "94123aff-cbe9-4124-c1f9-d7c0b4ef6908"
      },
      "execution_count": 1,
      "outputs": [
        {
          "output_type": "execute_result",
          "data": {
            "text/plain": [
              "<sklearn.metrics._plot.confusion_matrix.ConfusionMatrixDisplay at 0x7f44629e7490>"
            ]
          },
          "metadata": {},
          "execution_count": 1
        },
        {
          "output_type": "display_data",
          "data": {
            "text/plain": [
              "<Figure size 432x288 with 2 Axes>"
            ],
            "image/png": "[encoded data removed]"
          },
          "metadata": {
            "needs_background": "light"
          }
        }
      ]
    },
    {
      "cell_type": "markdown",
      "source": [
        "**ROC-AUC**\n",
        "\n",
        "En clasificacion multiclase se admiten dos estrategias de promedio: el algoritmo uno contra uno que calcula el promedio de las puntuaciones de AUC de ROC por pares, y el algoritmo uno contra el resto que calcula el promedio de las puntuaciones de AUC de ROC para cada clase frente a todas las demás clases. En ambos casos, las etiquetas pronosticadas se proporcionan en una matriz con valores de 0 al numero de clases y las puntuaciones corresponden a las estimaciones de probabilidad de que una muestra pertenece a una clase particular."
      ],
      "metadata": {
        "id": "bZlGBLUZgeh7"
      }
    },
    {
      "cell_type": "markdown",
      "source": [
        "**Uno contra uno:**\n",
        "\n",
        "Calcula el AUC promedio de todas las posibles combinaciones de clases por pares."
      ],
      "metadata": {
        "id": "bc9R6Mq9gnK5"
      }
    },
    {
      "cell_type": "markdown",
      "source": [
        "![auc uno a uno.PNG](data:image/png;base64,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)"
      ],
      "metadata": {
        "id": "O31GfgwakkSi"
      }
    },
    {
      "cell_type": "markdown",
      "source": [
        "c: Numero de clases \n",
        "\n",
        "AUC( j | k ): AUC con clase j como clase positiva y la clase k como clase negativa."
      ],
      "metadata": {
        "id": "vqOVgO4ng0SA"
      }
    },
    {
      "cell_type": "markdown",
      "source": [
        "**Uno contra el resto:**\n",
        "\n",
        " Calcula el AUC de cada clase contra el resto"
      ],
      "metadata": {
        "id": "QMuOltdxg4Du"
      }
    },
    {
      "cell_type": "markdown",
      "source": [
        "![auc uno contra todos.PNG](data:image/png;base64,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)"
      ],
      "metadata": {
        "id": "zKCE-ESxlOdJ"
      }
    },
    {
      "cell_type": "markdown",
      "source": [
        "#Clase con Metricas sin librerias:"
      ],
      "metadata": {
        "id": "EbqPcaSvhEuq"
      }
    },
    {
      "cell_type": "code",
      "source": [
        "#librerias necesarias\n",
        "import numpy as np\n",
        "import random\n",
        "import matplotlib.pyplot as plt"
      ],
      "metadata": {
        "id": "omXG9RJfhGxZ"
      },
      "execution_count": 2,
      "outputs": []
    },
    {
      "cell_type": "code",
      "source": [
        "class Metricas:\n",
        "  \"\"\"\n",
        "  metric class without using libraries\n",
        "  mse\n",
        "  msa\n",
        "  precision\n",
        "  exactitud\n",
        "  exahustividad\n",
        "  loss_Huber\n",
        "  AUC\n",
        "  Matriz_confusion\n",
        "\n",
        "  \"\"\"\n",
        "\n",
        "  def __init__(self):\n",
        "    pass\n",
        "\n",
        "  def mse(self, Y, Y_): # Error cuadratico medio\n",
        "    self.Y = Y\n",
        "    self.Y_ = Y_\n",
        "\n",
        "    N = len(self.Y)\n",
        "    total = 0\n",
        "    if Y.shape != self.Y_.shape or self.Y.ndim != self.Y_.ndim or self.Y_.ndim != 1 or self.Y.ndim != 1: #Validacion tamaño y dimension\n",
        "      print(\"El tamaño de los arreglos debe ser el mismo y la dimension debe ser igual una en cada caso.\")\n",
        "    else:\n",
        "      for i in range(N):\n",
        "              \n",
        "        loss = self.Y[i] - self.Y_[i]       \n",
        "        mse = (loss)**2\n",
        "        total += mse\n",
        "    return total/N\n",
        "  \n",
        "  def mae(self,Y, Y_): #Error Absoluto Medio\n",
        "    self.Y = Y\n",
        "    self.Y_ = Y_\n",
        "    N = len(self.Y)\n",
        "    if Y.shape != self.Y_.shape or self.Y.ndim != self.Y_.ndim or self.Y_.ndim != 1 or self.Y.ndim != 1: #Validacion tamaño y dimension\n",
        "      print(\"El tamaño de los arreglos debe ser el mismo y la dimension debe ser igual una en cada caso.\")\n",
        "    else:     \n",
        "      total = 0\n",
        "      for i in range(N):\n",
        "          \n",
        "        loss = abs(self.Y[i] - self.Y_[i])       \n",
        "        total += loss\n",
        "    return total/N\n",
        "\n",
        "  def exactitud(self, Y, Y_, n_clases):\n",
        "    N = Y.shape[1]\n",
        "    self.Y = Y\n",
        "    self.Y_ = Y_\n",
        "    clases = np.arange(0,n_clases,1)\n",
        "    #= np.arange(0,1,0.1)\n",
        "   \n",
        "    for i in range(N):\n",
        "      count_clase=0      \n",
        "      for j in range(N):      \n",
        "        comp= self.Y[i]==self.Y_[j]\n",
        "        if Y[i]==Y_[j]:         \n",
        "          count_clase += 1\n",
        "      clases[Y[i]-1] = count_clase\n",
        "      suma = np.sum(clases)\n",
        "    return print(\"Exactitud: \", suma/N, \"conteo por clases: \", clases)\n",
        "\n",
        "\n",
        "  def loss_Huber(self, Y, Y_, delta): #delta: R+ que determina los rangos de la funcion por partes.\n",
        "\n",
        "    self.Y = Y\n",
        "    self.Y_ = Y_\n",
        "    self.delta = delta\n",
        "  \n",
        "\n",
        "    if Y.shape != self.Y_.shape or self.Y.ndim != self.Y_.ndim or self.Y_.ndim != 1 or self.Y.ndim != 1: #Validacion tamaño y dimension\n",
        "      print(\"El tamaño de los arreglos debe ser el mismo y la dimension debe ser igual una en cada caso.\")\n",
        "\n",
        "    else:\n",
        "      \n",
        "      N = len(self.Y)\n",
        "      total = 0\n",
        "      for i in range(N):\n",
        "        \n",
        "        if abs(self.Y[i] - self.Y_[i]) <= self.delta:\n",
        "          loss = self.Y[i] - self.Y_[i]       \n",
        "          loss_huber = (loss/2)**2\n",
        "          total += loss_huber\n",
        "\n",
        "        else:\n",
        "          loss = self.Y[i] - self.Y_[i]     \n",
        "          loss_huber = self.delta*(abs(self.Y[i] - self.Y_[i])-(1/2)*self.delta)\n",
        "          total = total + loss_huber\n",
        "  \n",
        "    return total/N\n",
        "\n",
        "  def AUC_bin(self, Y, Y_ ):\n",
        "    #pend. Validacion o binarizacion de las entradas np.where(a>1)\n",
        "\n",
        "    N = len(Y_)\n",
        "    Matriz = np.zeros((2,2)) \n",
        "    VP = 0\n",
        "    VN = 0\n",
        "    FP = 0\n",
        "    FN = 0\n",
        "    umbral = np.arange(0,1,0.1)\n",
        "    y = np.zeros(len(umbral))\n",
        "    x = np.zeros(len(umbral))\n",
        "    ciclo = 0\n",
        "    vector_du = np.zeros(10)\n",
        "    vector_du.fill(0.1)\n",
        "\n",
        "    Y_bin = np.zeros(len(Y))\n",
        "\n",
        "    if Y.shape != Y_.shape or Y.ndim != Y_.ndim or Y_.ndim != 1 or Y.ndim != 1: #Validacion\n",
        "      print(\"El tamaño de los arreglos debe ser el mismo y la dimension debe ser igual una en cada caso.\")\n",
        "    else:\n",
        "        for j in umbral:  #Variacion del umbral 0.0 - 1.0\n",
        "          \n",
        "          Y_bin[np.where(Y_ >= j)] = 1 #Binarizacion del conjunto de valores de prediccion \n",
        "          Y_bin[np.where(Y_ < j)] = 0  # \"\"\n",
        "\n",
        "          for i in range(N):# Recorrido completo de los vectores\n",
        "            if Y[i]==1 and Y_bin[i]==1:\n",
        "              VP += 1\n",
        "            elif Y[i]==1 and Y_bin[i]==0:\n",
        "              FN += 1\n",
        "            elif Y[i]==0 and Y_bin[i]==0:\n",
        "              VN += 1\n",
        "            else:\n",
        "              FP += 1\n",
        "\n",
        "            Matriz[1,1] = VP\n",
        "            Matriz[0,1] = FN\n",
        "            Matriz[1,0] = FP\n",
        "            Matriz[0,0] = VN\n",
        "\n",
        "          if (VP + FN) != 0:\n",
        "            VPR = VP/(VP+FN)#Razon de verdaderos postivos (Sensibilidad -Recall)\n",
        "            y[ciclo] = VPR\n",
        "          else: \n",
        "            VPR = 0\n",
        "            y[ciclo] = VPR\n",
        "          if (FP+VN)!=0:\n",
        "            FPR=FP/(FP+VN)#Razon de falsos postivos (1 - Especifidad )\n",
        "            x[ciclo] = FPR\n",
        "          else: \n",
        "            FPR = 0\n",
        "            x[ciclo] = FPR\n",
        "          ciclo += 1 \n",
        "\n",
        "        Area = np.dot(y,vector_du.reshape(-1)) \n",
        "        \n",
        "        plt.title(str(Area))   \n",
        "        plt.rcParams[\"figure.figsize\"] = (4, 4)\n",
        "        plt.plot(x,y)\n",
        "        \n",
        "        \n",
        "        \n",
        "        \n",
        "\n",
        "  def Matriz_confusion(self, Y, Y_, n_clases=2):\n",
        "    \n",
        "    N = Y.shape[1]\n",
        "    Matriz = np.zeros((n_clases,n_clases)) \n",
        "    M=np.concatenate((Y, Y_))\n",
        "    true  = np.asarray([True, True])\n",
        "    for i in range(N):\n",
        "      count=0\n",
        "      for j in range(N):\n",
        "        comp = M[:,i]==M[:,j]\n",
        "        if comp[0]==True and comp[1]==True:\n",
        "          count +=1 \n",
        "      f = M[1,i]\n",
        "      c = M[0,i]\n",
        "      Matriz[f,c]=count\n",
        "\n",
        "    plt.imshow(Matriz)\n",
        "\n",
        "    for i in range(n_clases):\n",
        "      for j in range(n_clases):\n",
        "        text = int(Matriz[i,j])\n",
        "        plt.text(i, j, text, fontsize=10, color='black')\n",
        "        \n",
        "\n",
        "    plt.yticks(range(0, n_clases, 1))\n",
        "    plt.xticks(range(0, n_clases, 1))\n",
        "    plt.xlabel(\"Predicted label\")\n",
        "    plt.ylabel(\"True label\")  \n",
        "    plt.colorbar()\n",
        "    plt.show()"
      ],
      "metadata": {
        "id": "aZ9K8cxphP1G"
      },
      "execution_count": 3,
      "outputs": []
    },
    {
      "cell_type": "markdown",
      "source": [
        "#Prueba"
      ],
      "metadata": {
        "id": "c-MPQyIcihCU"
      }
    },
    {
      "cell_type": "markdown",
      "source": [
        "Error cuadratico medio MSE"
      ],
      "metadata": {
        "id": "G3vIdmC_imMI"
      }
    },
    {
      "cell_type": "code",
      "source": [
        "desempeño = Metricas()\n",
        "\n",
        "X = np.array([ 1,    1,   0,   0 , 0,   1,   0,   1,   1]) # y true\n",
        "X_ = np.array([0.9, 0.9, 0.2, 0.1, 0.5, 300, 0.1, 0.7,0.6]) #y predict\n",
        "\n",
        "desempeño.mse(X,X_)"
      ],
      "metadata": {
        "colab": {
          "base_uri": "https://localhost:8080/"
        },
        "id": "cLD9dkhxiqzR",
        "outputId": "a4ff9e93-6758-4ae4-c3af-2103e380a0ea"
      },
      "execution_count": 4,
      "outputs": [
        {
          "output_type": "execute_result",
          "data": {
            "text/plain": [
              "9933.50888888889"
            ]
          },
          "metadata": {},
          "execution_count": 4
        }
      ]
    },
    {
      "cell_type": "markdown",
      "source": [
        "Error absoluto medio MAE"
      ],
      "metadata": {
        "id": "dCo6-bysisx4"
      }
    },
    {
      "cell_type": "code",
      "source": [
        "desempeño = Metricas()\n",
        "\n",
        "X = np.array([ 1,    1,   0,   0 , 0,   1,   0,   1,   1]) # y true\n",
        "X_ = np.array([0.9, 0.9, 0.2, 0.1, 0.5, 300, 0.1, 0.7,0.6]) #y predict\n",
        "\n",
        "desempeño.mae(X,X_)"
      ],
      "metadata": {
        "colab": {
          "base_uri": "https://localhost:8080/"
        },
        "id": "g7xZ1_lnivf1",
        "outputId": "66c137d8-276b-4a91-9ab3-66c65a71f68e"
      },
      "execution_count": 5,
      "outputs": [
        {
          "output_type": "execute_result",
          "data": {
            "text/plain": [
              "33.422222222222224"
            ]
          },
          "metadata": {},
          "execution_count": 5
        }
      ]
    },
    {
      "cell_type": "markdown",
      "source": [
        "Exactitud"
      ],
      "metadata": {
        "id": "iMaxJXGLixXh"
      }
    },
    {
      "cell_type": "code",
      "source": [
        "# desempeño = Metricas()\n",
        "\n",
        "# X = np.array([[1, 1, 2, 1, 0, 2, 0, 1, 1, 1,3]]) # y true\n",
        "# X_ = np.array([[1, 1, 2, 1, 0, 2, 0, 1, 1,1,3]]) # y predict \n",
        "\n",
        "# desempeño.exactitud(X,X_,4)"
      ],
      "metadata": {
        "id": "cxu_qaZmizla"
      },
      "execution_count": 6,
      "outputs": []
    },
    {
      "cell_type": "markdown",
      "source": [
        "Loss- Huber"
      ],
      "metadata": {
        "id": "7S19FJn2i20C"
      }
    },
    {
      "cell_type": "code",
      "source": [
        "X = np.array([ 1,    1,   0,   0 , 0,   1,   0,   1,   1]) # y true\n",
        "X_ = np.array([0.9, 0.9, 0.2, 0.1, 0.5, 0.8, 0.1, 0.7,0.6]) #y predict\n",
        "\n",
        "desempeño = Metricas()\n",
        "desempeño.loss_Huber(X, X_, 0.2)"
      ],
      "metadata": {
        "colab": {
          "base_uri": "https://localhost:8080/"
        },
        "id": "XCWLZZKui4o3",
        "outputId": "f8158755-7965-44ef-fd66-a7fc02f9fe77"
      },
      "execution_count": 7,
      "outputs": [
        {
          "output_type": "execute_result",
          "data": {
            "text/plain": [
              "0.023333333333333334"
            ]
          },
          "metadata": {},
          "execution_count": 7
        }
      ]
    },
    {
      "cell_type": "markdown",
      "source": [
        "ROC - AUC (binario)"
      ],
      "metadata": {
        "id": "i3two4q1i7Ox"
      }
    },
    {
      "cell_type": "code",
      "source": [
        "X = np.array([ 1,    1,   0,   0 , 0,   1,   0,   1,   1]) # y true\n",
        "X_ = np.array([0.9, 0.9, 0.2, 0.1, 0.6, 0.5, 0.1, 0.7,0.6]) #y predict\n",
        "#X_ = np.array([ 1,    1,   0,   0 , 0,   1,   0,   1,   1]) # y true\n",
        "desempeño = Metricas()\n",
        "desempeño.AUC_bin(X, X_)"
      ],
      "metadata": {
        "colab": {
          "base_uri": "https://localhost:8080/",
          "height": 281
        },
        "id": "Un9WD_tBi8B2",
        "outputId": "bfe948f1-7f0c-4193-f54a-dc0d0046d26a"
      },
      "execution_count": 8,
      "outputs": [
        {
          "output_type": "display_data",
          "data": {
            "text/plain": [
              "<Figure size 432x288 with 1 Axes>"
            ],
            "image/png": "[encoded data removed]"
          },
          "metadata": {
            "needs_background": "light"
          }
        }
      ]
    },
    {
      "cell_type": "markdown",
      "source": [
        "Matriz de confusion multiclase"
      ],
      "metadata": {
        "id": "pXnA0yGmjAg5"
      }
    },
    {
      "cell_type": "code",
      "source": [
        "X = np.array([[1, 1, 2, 1, 0, 2, 0, 1, 1, 1,3]]) # y true\n",
        "X_ = np.array([[1, 1, 2, 1, 0, 2, 0, 1, 1,1,3]]) # y predict \n",
        "desempeño.Matriz_confusion(X,X_,4)"
      ],
      "metadata": {
        "colab": {
          "base_uri": "https://localhost:8080/",
          "height": 264
        },
        "id": "nOnvCbLFjIbG",
        "outputId": "bccbb6c0-96b5-493b-8af7-227b39a6326d"
      },
      "execution_count": 9,
      "outputs": [
        {
          "output_type": "display_data",
          "data": {
            "text/plain": [
              "<Figure size 288x288 with 2 Axes>"
            ],
            "image/png": "[encoded data removed]"
          },
          "metadata": {
            "needs_background": "light"
          }
        }
      ]
    },
    {
      "cell_type": "markdown",
      "source": [
        "#Clase con Metricas usando los paquetes de Sklearn."
      ],
      "metadata": {
        "id": "vq9IqP_zjLJd"
      }
    },
    {
      "cell_type": "code",
      "source": [
        "from os import EX_CANTCREAT\n",
        "from sklearn.metrics import recall_score\n",
        "from sklearn.metrics import confusion_matrix\n",
        "from sklearn.metrics import multilabel_confusion_matrix\n",
        "from sklearn.metrics import accuracy_score\n",
        "from sklearn.metrics import precision_score\n",
        "from sklearn.metrics import f1_score\n",
        "from sklearn.metrics import roc_auc_score\n",
        "from sklearn.metrics import mean_absolute_error\n",
        "from sklearn.metrics import mean_squared_error\n"
      ],
      "metadata": {
        "id": "UZe2NFElrC4W"
      },
      "execution_count": 10,
      "outputs": []
    },
    {
      "cell_type": "code",
      "source": [
        "\n",
        "\n",
        "class Metricas2:\n",
        "  \"\"\"\n",
        "  metric class with sklearn libraries\n",
        "  MSE\n",
        "  MAE\n",
        "  Exactitud\n",
        "  loss_Huber\n",
        "  AUC\n",
        "  Sensibilidad\n",
        "  Precision\n",
        "  F1_score\n",
        "  Matriz_confusion\n",
        "  \"\"\"\n",
        "\n",
        "  def __init__(self):\n",
        "    pass\n",
        "\n",
        "  def mse(self, Y, Y_): # Error cuadratico medio\n",
        "    mse = mean_squared_error(Y, Y_)\n",
        "    return(round(mse,2))\n",
        "   \n",
        "  \n",
        "  def mae(self,Y, Y_): #Error Absoluto Medio\n",
        "    mae = mean_absolute_error(Y, Y_)\n",
        "    return(mae)\n",
        "   \n",
        "  def exactitud(self, Y, Y_, n_clases):\n",
        "    exact = accuracy_score(Y, Y_)\n",
        "    return(exact)    \n",
        "\n",
        "  #def loss_Huber(self, Y, Y_, delta): #delta: R+ que determina los rangos de la funcion por partes.\n",
        "\n",
        "  def AUC_bin(self, Y, Y_ ):\n",
        "    auc = roc_auc_score(Y, Y_)\n",
        "    return(auc)\n",
        "\n",
        "  def sensibilidad(self, Y, Y_):\n",
        "    sens = recall_score(Y, Y_)\n",
        "    return(sens)\n",
        "  \n",
        "  def precision(self, Y, Y_):\n",
        "    precision = precision_score(Y,Y_)\n",
        "    return(precision)\n",
        "    \n",
        "    \n",
        "  def f1_score(self, Y, Y_):\n",
        "    f1 = f1_score(Y, Y_)\n",
        "    return(f1)   \n",
        "\n",
        "\n",
        "  def Multilabel_Matriz_confusion(self, Y, Y_, n_clases=2):\n",
        "    mat = multilabel_confusion_matrix(Y,Y_)\n",
        "    return mat\n",
        "\n",
        "  def Matriz_confusion(self, Y, Y_, n_clases=2):\n",
        "    mat = confusion_matrix(Y,Y_)\n",
        "    plt.imshow(mat)\n",
        "    for i in range(n_clases):\n",
        "      for j in range(n_clases):\n",
        "        text = int(mat[i,j])\n",
        "        plt.text(i, j, text, fontsize=10, color='black')\n",
        "    plt.yticks(range(0, n_clases, 1))\n",
        "    plt.xticks(range(0, n_clases, 1))\n",
        "    plt.xlabel(\"Predicted label\")\n",
        "    plt.ylabel(\"True label\")  \n",
        "    plt.colorbar()\n",
        "    plt.show()"
      ],
      "metadata": {
        "id": "nYVR7MkcjM5j"
      },
      "execution_count": 11,
      "outputs": []
    },
    {
      "cell_type": "markdown",
      "source": [
        "**Prueba**"
      ],
      "metadata": {
        "id": "ZXAxUM--rYvL"
      }
    },
    {
      "cell_type": "markdown",
      "source": [
        "Error cuadratico medio MSE"
      ],
      "metadata": {
        "id": "A_Hs9l00rbFW"
      }
    },
    {
      "cell_type": "code",
      "source": [
        "desempeño = Metricas2()\n",
        "\n",
        "X = np.array([ 1,    1,   0,   0 , 0,   1,   0,   1,   1]) # y true\n",
        "X_ = np.array([0.9, 0.9, 0.2, 0.1, 0.5, 300, 0.1, 0.7,0.6]) #y predict\n",
        "\n",
        "desempeño.mse(X,X_)"
      ],
      "metadata": {
        "colab": {
          "base_uri": "https://localhost:8080/"
        },
        "id": "YinkMoLmqXbh",
        "outputId": "75489639-878f-45cd-d72c-780583c2e62e"
      },
      "execution_count": 12,
      "outputs": [
        {
          "output_type": "execute_result",
          "data": {
            "text/plain": [
              "9933.51"
            ]
          },
          "metadata": {},
          "execution_count": 12
        }
      ]
    },
    {
      "cell_type": "markdown",
      "source": [
        "Error absoluto medio MAE"
      ],
      "metadata": {
        "id": "obALKkW8rfEa"
      }
    },
    {
      "cell_type": "code",
      "source": [
        "desempeño = Metricas2()\n",
        "\n",
        "X = np.array([ 1,    1,   0,   0 , 0,   1,   0,   1,   1]) # y true\n",
        "X_ = np.array([0.9, 0.9, 0.2, 0.1, 0.5, 300, 0.1, 0.7,0.6]) #y predict\n",
        "\n",
        "desempeño.mae(X,X_)"
      ],
      "metadata": {
        "colab": {
          "base_uri": "https://localhost:8080/"
        },
        "id": "bkPFFc95rmrH",
        "outputId": "60f00123-e4de-44a2-fff5-6890c708a25a"
      },
      "execution_count": 13,
      "outputs": [
        {
          "output_type": "execute_result",
          "data": {
            "text/plain": [
              "33.42222222222222"
            ]
          },
          "metadata": {},
          "execution_count": 13
        }
      ]
    },
    {
      "cell_type": "markdown",
      "source": [
        "Exactitud"
      ],
      "metadata": {
        "id": "BFJMTH3Nrso9"
      }
    },
    {
      "cell_type": "code",
      "source": [
        "# desempeño = Metricas2()\n",
        "\n",
        "# X = np.array([[1, 1, 2, 1, 0, 2, 0, 1, 1, 1,3]]) # y true\n",
        "# X_ = np.array([[1, 1, 2, 1, 0, 2, 0, 1, 1,1,3]]) # y predict \n",
        "\n",
        "# desempeño.exactitud(X,X_,4)"
      ],
      "metadata": {
        "id": "2bs93nDbrvzg"
      },
      "execution_count": 14,
      "outputs": []
    },
    {
      "cell_type": "markdown",
      "source": [
        "AUC"
      ],
      "metadata": {
        "id": "TuS5OoDgsHxz"
      }
    },
    {
      "cell_type": "code",
      "source": [
        "X = np.array([ 1,    1,   0,   0 , 0,   1,   0,   1,   1]) # y true\n",
        "X_ = np.array([0.9, 0.9, 0.2, 0.1, 0.6, 0.5, 0.1, 0.7,0.6]) #y predict\n",
        "#X_ = np.array([ 1,    1,   0,   0 , 0,   1,   0,   1,   1]) # y true\n",
        "desempeño = Metricas2()\n",
        "desempeño.AUC_bin(X, X_)"
      ],
      "metadata": {
        "colab": {
          "base_uri": "https://localhost:8080/"
        },
        "id": "nv7oApE0sMXG",
        "outputId": "bbecf18b-3c0e-4c5b-ab25-0cfaa09297bb"
      },
      "execution_count": 15,
      "outputs": [
        {
          "output_type": "execute_result",
          "data": {
            "text/plain": [
              "0.925"
            ]
          },
          "metadata": {},
          "execution_count": 15
        }
      ]
    },
    {
      "cell_type": "markdown",
      "source": [
        "Matriz de confusion multiclase"
      ],
      "metadata": {
        "id": "ScCn5_LJsymS"
      }
    },
    {
      "cell_type": "code",
      "source": [
        "X = np.array([2, 0, 2, 2, 0, 1]) # y true\n",
        "X_ = np.array([0, 0, 2, 2, 0, 2]) # y predict \n",
        "\n",
        "\n",
        "desempeño = Metricas2()\n",
        "desempeño.Multilabel_Matriz_confusion(X,X_)"
      ],
      "metadata": {
        "colab": {
          "base_uri": "https://localhost:8080/"
        },
        "id": "CNG6h4xAsb68",
        "outputId": "ea3fd200-9b7a-48e5-b774-9913479819f4"
      },
      "execution_count": 16,
      "outputs": [
        {
          "output_type": "execute_result",
          "data": {
            "text/plain": [
              "array([[[3, 1],\n",
              "        [0, 2]],\n",
              "\n",
              "       [[5, 0],\n",
              "        [1, 0]],\n",
              "\n",
              "       [[2, 1],\n",
              "        [1, 2]]])"
            ]
          },
          "metadata": {},
          "execution_count": 16
        }
      ]
    },
    {
      "cell_type": "markdown",
      "source": [
        "#Clase con Metricas usando los paquetes de Keras."
      ],
      "metadata": {
        "id": "OFVyfa4sVzCy"
      }
    },
    {
      "cell_type": "code",
      "source": [
        "#from tensorflow import metrics\n",
        "from keras import metrics\n",
        "import keras as k\n"
      ],
      "metadata": {
        "id": "hmmk-5FraqD6"
      },
      "execution_count": 23,
      "outputs": []
    },
    {
      "cell_type": "code",
      "source": [
        "class Metricas3:\n",
        "  \"\"\"\n",
        "  metric class with keras libraries\n",
        "  MSE\n",
        "  MAE\n",
        "  Exactitud\n",
        "  loss_Huber\n",
        "  AUC\n",
        "  Sensibilidad\n",
        "  Precision\n",
        "  F1_score\n",
        "  Matriz_confusion\n",
        "  \"\"\"\n",
        "\n",
        "  def __init__(self):\n",
        "    pass\n",
        "\n",
        "  def mse(self, Y, Y_): # Error cuadratico medio\n",
        "    mse = metrics.mean_squared_error(Y, Y_)\n",
        "    return(mse)\n",
        "   \n",
        "  \n",
        "  def mae(self,Y, Y_): #Error Absoluto Medio\n",
        "    mae = metrics.mean_absolute_error(Y, Y_)\n",
        "    return(mae)\n",
        "   \n",
        "  def exactitud(self, Y, Y_, n_clases):\n",
        "    exact = metrics.binary_accuracy(Y, Y_)\n",
        "    return(exact)    \n",
        "\n",
        "  #def loss_Huber(self, Y, Y_, delta): #delta: R+ que determina los rangos de la funcion por partes.\n",
        "\n",
        "  def AUC_bin(self, Y, Y_ ):\n",
        "    auc = metrics.AUC(Y, Y_)\n",
        "    return(auc)\n",
        "\n",
        "  def sensibilidad(self, Y, Y_):\n",
        "    Y =  K.ones_like(Y)\n",
        "    positives =  K.sum(K.round(K.clip(Y* Y_, 0, 1)))\n",
        "    all_positives = K.sum(K.round(K.clip(Y, 0, 1)))\n",
        "    sens = positives / (all_positives + K.epsilon())\n",
        "    return(sens)\n",
        "\n",
        " \n",
        "  def precision(self, Y, Y_):\n",
        "    Y =K.ones_like(Y) \n",
        "    positives = K.sum(K.round(K.clip(Y * Y_, 0, 1)))\n",
        "    predicted_positives = K.sum(K.round(K.clip(Y, 0, 1)))\n",
        "    precision =positives / (predicted_positives + K.epsilon())\n",
        "\n",
        "    return(precision)\n",
        "\n",
        "   \n",
        "\n",
        "  def Matriz_confusion(self, Y, Y_, n_clases=2):\n",
        "    mat = metrics.confusion_matrix(Y,Y_)\n",
        "    return mat"
      ],
      "metadata": {
        "id": "FeXhtTuYV02h"
      },
      "execution_count": 24,
      "outputs": []
    },
    {
      "cell_type": "markdown",
      "source": [
        "**Pruebas**"
      ],
      "metadata": {
        "id": "yWnKapIEjlmM"
      }
    },
    {
      "cell_type": "markdown",
      "source": [
        "Error cuadratico medio MSE"
      ],
      "metadata": {
        "id": "vGEwb680jqbM"
      }
    },
    {
      "cell_type": "code",
      "source": [
        "desempeño = Metricas3()\n",
        "\n",
        "X = np.array([ 1,    1,   0,   0 , 0,   1,   0,   1,   1]) # y true\n",
        "X_ = np.array([0.9, 0.9, 0.2, 0.1, 0.5, 300, 0.1, 0.7,0.6]) #y predict\n",
        "\n",
        "desempeño.mse(X,X_)"
      ],
      "metadata": {
        "colab": {
          "base_uri": "https://localhost:8080/"
        },
        "id": "d7zYzrLgdC3W",
        "outputId": "5039b708-b2fe-4655-c1cc-e3019bf9772b"
      },
      "execution_count": 19,
      "outputs": [
        {
          "output_type": "execute_result",
          "data": {
            "text/plain": [
              "<tf.Tensor: shape=(), dtype=float64, numpy=9933.50888888889>"
            ]
          },
          "metadata": {},
          "execution_count": 19
        }
      ]
    },
    {
      "cell_type": "markdown",
      "source": [
        "Error absoluto medio MAE"
      ],
      "metadata": {
        "id": "yjP3YAYfjwGM"
      }
    },
    {
      "cell_type": "code",
      "source": [
        "desempeño = Metricas3()\n",
        "\n",
        "X = np.array([ 1,    1,   0,   0 , 0,   1,   0,   1,   1]) # y true\n",
        "X_ = np.array([0.9, 0.9, 0.2, 0.1, 0.5, 300, 0.1, 0.7,0.6]) #y predict\n",
        "\n",
        "desempeño.mae(X,X_)"
      ],
      "metadata": {
        "colab": {
          "base_uri": "https://localhost:8080/"
        },
        "id": "r3T_Z_Fbjw2J",
        "outputId": "405d6d08-8037-441b-84e6-8b8ae8225b97"
      },
      "execution_count": 28,
      "outputs": [
        {
          "output_type": "execute_result",
          "data": {
            "text/plain": [
              "<tf.Tensor: shape=(), dtype=float64, numpy=33.42222222222222>"
            ]
          },
          "metadata": {},
          "execution_count": 28
        }
      ]
    },
    {
      "cell_type": "markdown",
      "source": [
        "AUC"
      ],
      "metadata": {
        "id": "JhmIqsynj7N9"
      }
    },
    {
      "cell_type": "code",
      "source": [
        "X = np.array([ 1,    1,   0,   0 , 0,   1,   0,   1,   1]) # y true\n",
        "X_ = np.array([0.9, 0.9, 0.2, 0.1, 0.6, 0.5, 0.1, 0.7,0.6]) #y predict\n",
        "#X_ = np.array([ 1,    1,   0,   0 , 0,   1,   0,   1,   1]) # y true\n",
        "desempeño = Metricas3()\n",
        "desempeño.AUC_bin(X, X_)"
      ],
      "metadata": {
        "colab": {
          "base_uri": "https://localhost:8080/"
        },
        "id": "O4pVXartj6i8",
        "outputId": "a8fc220e-e4dc-4bf4-e80e-62c0a41222c3"
      },
      "execution_count": 29,
      "outputs": [
        {
          "output_type": "execute_result",
          "data": {
            "text/plain": [
              "0.925"
            ]
          },
          "metadata": {},
          "execution_count": 29
        }
      ]
    },
    {
      "cell_type": "markdown",
      "source": [
        "Matriz de confusion multiclase"
      ],
      "metadata": {
        "id": "AyRQOCiKkFCl"
      }
    },
    {
      "cell_type": "code",
      "source": [
        "X = np.array([[1, 0, 1], [0, 1, 0]])# y true\n",
        "X_ = np.array([[1, 0, 0],   [0, 1, 1]]) # y predict \n",
        "\n",
        "\n",
        "\n",
        "desempeño = Metricas3()\n",
        "desempeño.Matriz_confusion(X,X_)"
      ],
      "metadata": {
        "colab": {
          "base_uri": "https://localhost:8080/",
          "height": 304
        },
        "id": "S3tPuIpAWTNY",
        "outputId": "0c92149d-7efc-4b0c-dfe9-84c3c460232a"
      },
      "execution_count": 30,
      "outputs": [
        {
          "output_type": "error",
          "ename": "AttributeError",
          "evalue": "ignored",
          "traceback": [
            "\u001b[0;31m---------------------------------------------------------------------------\u001b[0m",
            "\u001b[0;31mAttributeError\u001b[0m                            Traceback (most recent call last)",
            "\u001b[0;32m<ipython-input-30-15e47c01a1af>\u001b[0m in \u001b[0;36m<module>\u001b[0;34m()\u001b[0m\n\u001b[1;32m      5\u001b[0m \u001b[0;34m\u001b[0m\u001b[0m\n\u001b[1;32m      6\u001b[0m \u001b[0mdesempeño\u001b[0m \u001b[0;34m=\u001b[0m \u001b[0mMetricas3\u001b[0m\u001b[0;34m(\u001b[0m\u001b[0;34m)\u001b[0m\u001b[0;34m\u001b[0m\u001b[0;34m\u001b[0m\u001b[0m\n\u001b[0;32m----> 7\u001b[0;31m \u001b[0mdesempeño\u001b[0m\u001b[0;34m.\u001b[0m\u001b[0mMatriz_confusion\u001b[0m\u001b[0;34m(\u001b[0m\u001b[0mX\u001b[0m\u001b[0;34m,\u001b[0m\u001b[0mX_\u001b[0m\u001b[0;34m)\u001b[0m\u001b[0;34m\u001b[0m\u001b[0;34m\u001b[0m\u001b[0m\n\u001b[0m",
            "\u001b[0;32m<ipython-input-24-af7cf8752d7a>\u001b[0m in \u001b[0;36mMatriz_confusion\u001b[0;34m(self, Y, Y_, n_clases)\u001b[0m\n\u001b[1;32m     55\u001b[0m \u001b[0;34m\u001b[0m\u001b[0m\n\u001b[1;32m     56\u001b[0m   \u001b[0;32mdef\u001b[0m \u001b[0mMatriz_confusion\u001b[0m\u001b[0;34m(\u001b[0m\u001b[0mself\u001b[0m\u001b[0;34m,\u001b[0m \u001b[0mY\u001b[0m\u001b[0;34m,\u001b[0m \u001b[0mY_\u001b[0m\u001b[0;34m,\u001b[0m \u001b[0mn_clases\u001b[0m\u001b[0;34m=\u001b[0m\u001b[0;36m2\u001b[0m\u001b[0;34m)\u001b[0m\u001b[0;34m:\u001b[0m\u001b[0;34m\u001b[0m\u001b[0;34m\u001b[0m\u001b[0m\n\u001b[0;32m---> 57\u001b[0;31m     \u001b[0mmat\u001b[0m \u001b[0;34m=\u001b[0m \u001b[0mmetrics\u001b[0m\u001b[0;34m.\u001b[0m\u001b[0mconfusion_matrix\u001b[0m\u001b[0;34m(\u001b[0m\u001b[0mY\u001b[0m\u001b[0;34m,\u001b[0m\u001b[0mY_\u001b[0m\u001b[0;34m)\u001b[0m\u001b[0;34m\u001b[0m\u001b[0;34m\u001b[0m\u001b[0m\n\u001b[0m\u001b[1;32m     58\u001b[0m     \u001b[0;32mreturn\u001b[0m \u001b[0mmat\u001b[0m\u001b[0;34m\u001b[0m\u001b[0;34m\u001b[0m\u001b[0m\n",
            "\u001b[0;31mAttributeError\u001b[0m: module 'keras.metrics' has no attribute 'confusion_matrix'"
          ]
        }
      ]
    }
  ]
}