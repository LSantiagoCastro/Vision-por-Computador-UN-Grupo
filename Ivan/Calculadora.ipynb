{
  "nbformat": 4,
  "nbformat_minor": 0,
  "metadata": {
    "colab": {
      "name": "Calculadora.ipynb",
      "provenance": []
    },
    "kernelspec": {
      "name": "python3",
      "display_name": "Python 3"
    },
    "language_info": {
      "name": "python"
    }
  },
  "cells": [
    {
      "cell_type": "markdown",
      "source": [
        "Calculadora Cientifica\n"
      ],
      "metadata": {
        "id": "zX-BgS6c1dwm"
      }
    },
    {
      "cell_type": "code",
      "source": [
        "import math\n",
        "class CalculadoraCientifica1:\n",
        "  \"\"\"calculator\"\"\"\n",
        "  def __init__(self):\n",
        "      pass\n",
        "    \n",
        "  def sumar():   \n",
        "    a = int(input(\"Ingrese el primer numero a sumar: \"))\n",
        "    b = int(input(\"Ingrese el segundo numero a sumar: \")) \n",
        "    return a+b\n",
        "    \n",
        "  def restar(): \n",
        "    a = int(input(\"Ingrese el primer numero a restar: \"))\n",
        "    b = int(input(\"Ingrese el segundo numero a restar: \"))    \n",
        "    return a-b\n",
        "  \n",
        "  def multiplicar():\n",
        "    a = int(input(\"Ingrese el primer numero a multiplicar: \"))\n",
        "    b = int(input(\"Ingrese el segundo numero a multiplicar \")) \n",
        "\n",
        "    return a*b\n",
        "  \n",
        "  def dividir():\n",
        "    a = int(input(\"Ingrese el primer numero a dividir: \"))\n",
        "    b = int(input(\"Ingrese el segundo numero a dividir \")) \n",
        "    return a/b\n",
        "  \n",
        "  def logaritmo():\n",
        "    a = int(input(\"Indique el numero al que le desea sacar el logaritmo: \"))\n",
        "    b = int(input(\"Indique la base del logaritmo: \"))\n",
        "    loga = math.log(a, b)\n",
        "    return loga\n",
        "\n",
        "  def potencia():\n",
        "    a = int(input(\"Indique el numero que desea elevar: \"))\n",
        "    b = int(input(\"Indique la potencia\"))   \n",
        "    return a**b\n",
        "\n",
        "  def exp():\n",
        "    a = int(input(\"Indique el exponencial: \"))    \n",
        "    return math.exp(a)\n",
        "\n",
        "  def trigonometria():\n",
        "    a = int(input(\"Desea ingresar datos en: \\n 1. Radianes \\n 2.Radianes \"))  \n",
        "    while a!=1 and a!=2:\n",
        "      print(\"La opcion ingresada es incorrecta, intente nuevamente\") \n",
        "      a = 0 \n",
        "      a = int(input(\"Desea ingresar datos en: \\n 1.Radianes \\n 2.Grados \")) \n",
        "    if a == 1:\n",
        "      print(\"Ha seleccionado radianes\")\n",
        "      i = int(input(\"Ingrese el numero al que desea aplicar las funciones trigonometricas: \"))\n",
        "      sen = math.sin(i)\n",
        "      cos = math.cos(i)\n",
        "      tan = math.tan(i)\n",
        "    else:\n",
        "      print(\"Ha seleccionado grados\")\n",
        "      i = int(input(\"Ingrese el numero al que desea aplicar las funciones trigonometricas: \"))\n",
        "      radianes = (i* math.pi)/180\n",
        "     \n",
        "      sen = math.sin(radianes)\n",
        "      cos = math.cos(radianes)\n",
        "      tan = math.tan(radianes)\n",
        "      \n",
        "    return sen, cos, tan"
      ],
      "metadata": {
        "id": "PLapSZk11hG9"
      },
      "execution_count": 1,
      "outputs": []
    },
    {
      "cell_type": "code",
      "source": [
        "cal = CalculadoraCientifica1"
      ],
      "metadata": {
        "id": "xKZz_BqbNnpQ"
      },
      "execution_count": 2,
      "outputs": []
    },
    {
      "cell_type": "code",
      "source": [
        "sum = cal.sumar()\n",
        "print(\"El resultado es: \",sum)"
      ],
      "metadata": {
        "id": "XfwpNCbG72rE",
        "colab": {
          "base_uri": "https://localhost:8080/"
        },
        "outputId": "106046a6-a3de-41fa-b6b6-c6f46567027a"
      },
      "execution_count": 3,
      "outputs": [
        {
          "output_type": "stream",
          "name": "stdout",
          "text": [
            "Ingrese el primer numero a sumar: 3\n",
            "Ingrese el segundo numero a sumar: 4\n",
            "El resultado es:  7\n"
          ]
        }
      ]
    },
    {
      "cell_type": "code",
      "source": [
        "res = cal.restar()\n",
        "print(\"El resultado es: \",res)"
      ],
      "metadata": {
        "id": "Ds81zCawY1wp",
        "colab": {
          "base_uri": "https://localhost:8080/"
        },
        "outputId": "5e9e90ea-ceef-4260-c3c8-5fac794ec1a4"
      },
      "execution_count": 4,
      "outputs": [
        {
          "output_type": "stream",
          "name": "stdout",
          "text": [
            "Ingrese el primer numero a restar: 7\n",
            "Ingrese el segundo numero a restar: 0\n",
            "El resultado es:  7\n"
          ]
        }
      ]
    },
    {
      "cell_type": "code",
      "source": [
        "mul = cal.multiplicar()\n",
        "print(\"El resultado es: \",mul)"
      ],
      "metadata": {
        "id": "8peVhuyn_rvA"
      },
      "execution_count": null,
      "outputs": []
    },
    {
      "cell_type": "code",
      "source": [
        "div = cal.dividir()\n",
        "print(\"El resultado es: \",div)"
      ],
      "metadata": {
        "id": "NyWwG1jMZEyi"
      },
      "execution_count": null,
      "outputs": []
    },
    {
      "cell_type": "code",
      "source": [
        "log = cal.logaritmo()\n",
        "print(\"El resultado es: \",log)"
      ],
      "metadata": {
        "id": "HDyhhCqeZMT0"
      },
      "execution_count": null,
      "outputs": []
    },
    {
      "cell_type": "code",
      "source": [
        "exp = cal.exp()\n",
        "print(\"El resultado es: \",exp)"
      ],
      "metadata": {
        "id": "8CdgjMJMZWEz"
      },
      "execution_count": null,
      "outputs": []
    },
    {
      "cell_type": "code",
      "source": [
        "seno,coseno,tangente = cal.trigonometria()\n",
        "print (\" seno\", a, \"\\n coseno\", b, \"\\n tangente\",c)"
      ],
      "metadata": {
        "id": "fTqN47nP_dbD"
      },
      "execution_count": null,
      "outputs": []
    },
    {
      "cell_type": "code",
      "source": [
        ""
      ],
      "metadata": {
        "id": "OgM307VR32pt"
      },
      "execution_count": null,
      "outputs": []
    }
  ]
}