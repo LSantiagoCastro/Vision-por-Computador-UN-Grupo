{
  "nbformat": 4,
  "nbformat_minor": 0,
  "metadata": {
    "colab": {
      "name": "BBB",
      "provenance": [],
      "collapsed_sections": []
    },
    "kernelspec": {
      "name": "python3",
      "display_name": "Python 3"
    },
    "language_info": {
      "name": "python"
    }
  },
  "cells": [
    {
      "cell_type": "markdown",
      "source": [
        "#Perceptrón"
      ],
      "metadata": {
        "id": "SKjq95GHDnyX"
      }
    },
    {
      "cell_type": "markdown",
      "source": [
        "##Definición\n",
        "\n",
        "El perceptrón es un algoritmo que aprende una función de clasificación binaria, funcion que mapea una entrada $\\mathbf{x}$ que es una vector de valores reales, a un valor de salida $\\mathbf{f(x)}$ que es un unico valor binario.\n",
        "\n",
        "$f(h)= \\begin{cases}1 & \\text { if } \\mathbf{w} \\cdot \\mathbf{x}+b>0 \\\\ 0 & \\text { otherwise }\\end{cases}$\n",
        "\n",
        "$\\mathbf{w}$ es un vector de pesos, valores reales.\n",
        "\n",
        " $h = \\mathbf{w} \\cdot \\mathbf{x}$ es el producto punto $\\sum_{i=1}^{m} w_{i} x_{i}$, $m$ es el numero de entradas al perceptrón y $b$ es el sesgo.\n",
        "\n",
        "$f(h)$ permite clasificar $\\mathbf{x}$ como una instancia positiva o negativa, para un problema de clasificación binaria. "
      ],
      "metadata": {
        "id": "48dlxD-Dy9Wq"
      }
    },
    {
      "cell_type": "code",
      "source": [
        "import numpy as np\n",
        "import matplotlib.pyplot as plt"
      ],
      "metadata": {
        "id": "ZNtcviUWS-x2"
      },
      "execution_count": null,
      "outputs": []
    },
    {
      "cell_type": "code",
      "source": [
        "class Conjuntos:\n",
        "  \"\"\"\n",
        "  Esta clase contiene dos grupos diferentes el conjunto A y el conjunto B\n",
        "  del conjunto A y conjunto B se separa el 70% para entrenamiento \n",
        "  y el 30 % para prueba\n",
        "  \"\"\"\n",
        "  def __init__(self):\n",
        "    pass\n",
        "  def GrupoA(self):\n",
        "    self.A=np.array([[1,8],[1,9],[2,10],[2,12],[3,8],[4,7],[4,10],[5,4],[5,9],[6,11],[7,9],[8,11],[8,12],[9,12],[2,7],[3,5],[7,12],[1,10],[3,11],[6,8]]) #Grupo A\n",
        "    return self.A\n",
        "  def GrupoB(self): \n",
        "    self.B=np.array([[10,8],[11,2],[13,3],[12,3],[12.5,10],[14,4],[14,8],[15,12],[15,6],[16,2],[16,6],[16,9],[18,5],[19,4],[13,2],[15,1],[17,4],[18,3],[19,2],[12,6]]) #Grupo  B\n",
        "    return self.B \n",
        "  def ConjEntrenA(self):    \n",
        "    self.Ae=self.A[0:14,...] #conjunto de entrenamiento a\n",
        "    return self.Ae \n",
        "  def ConjEntrenB(self):\n",
        "    self.Be=self.B[0:14,...] #conjunto de entrenamiento b\n",
        "    return self.Be \n",
        "  def ConjPrueA(self):\n",
        "    self.Ap=self.A[14:20,...] #conjunto de prueba a\n",
        "    return self.Ap \n",
        "  def ConjPrueB(self):   \n",
        "    self.Bp=self.B[14:20,...] #conjunto de prueba b\n",
        "    return self.Bp\n",
        "  def PlotAe(self):\n",
        "    self.PAe=plt.plot(self.Ae[...,0],self.Ae[...,1], 'o', color='blue')\n",
        "    d=plt.title('Conjunto de entrenamiento A')\n",
        "    e=plt.ylabel('caracteristica 2')\n",
        "    f=plt.xlabel('caracteristica 1')\n",
        "    g=plt.grid()      \n",
        "    return self.PAe\n",
        "  def PlotBe(self):\n",
        "    self.PBe=plt.plot(self.Be[...,0],self.Be[...,1], 'o', color='red')\n",
        "    d=plt.title('Conjunto de entrenamiento B')\n",
        "    e=plt.ylabel('caracteristica 2')\n",
        "    f=plt.xlabel('caracteristica 1')\n",
        "    g=plt.grid() \n",
        "    return self.PBe\n",
        "  def PlotAp(self):\n",
        "    self.PAp=plt.plot(self.Ap[...,0],self.Ap[...,1], 'x', color='blue')\n",
        "    d=plt.title('Conjunto de prueba A')\n",
        "    e=plt.ylabel('caracteristica 2')\n",
        "    f=plt.xlabel('caracteristica 1')\n",
        "    g=plt.grid()  \n",
        "    return self.PAp\n",
        "  def PlotBp(self):\n",
        "    self.PBp=plt.plot(self.Bp[...,0],self.Bp[...,1], 'x', color='red')\n",
        "    d=plt.title('Conjunto de prueba B')\n",
        "    e=plt.ylabel('caracteristica 2')\n",
        "    f=plt.xlabel('caracteristica 1')\n",
        "    g=plt.grid()     \n",
        "    return self.PBp\n",
        "  def PlotAll(self):    \n",
        "    self.PAe=plt.plot(self.Ae[...,0],self.Ae[...,1], 'o', color='blue')\n",
        "    self.PBe=plt.plot(self.Be[...,0],self.Be[...,1], 'o', color='red')\n",
        "    self.PAp=plt.plot(self.Ap[...,0],self.Ap[...,1], 'x', color='blue')\n",
        "    self.PBp=plt.plot(self.Bp[...,0],self.Bp[...,1], 'x', color='red')\n",
        "    d=plt.title('Conjunto Total')\n",
        "    e=plt.ylabel('caracteristica 2')\n",
        "    f=plt.xlabel('caracteristica 1')\n",
        "    g=plt.grid()    \n",
        "    return self.PAe,self.PBe,self.PAp,self.PBp"
      ],
      "metadata": {
        "id": "wbTAg7wCeP54"
      },
      "execution_count": null,
      "outputs": []
    },
    {
      "cell_type": "code",
      "source": [
        "Conjs=Conjuntos()\n",
        "A=Conjs.GrupoA()\n",
        "B=Conjs.GrupoB()\n",
        "Ae=Conjs.ConjEntrenA()\n",
        "Be=Conjs.ConjEntrenB()\n",
        "Ap=Conjs.ConjPrueA()\n",
        "Bp=Conjs.ConjPrueB()\n",
        "\n",
        "PAe=Conjs.PlotAe\n",
        "PBe=Conjs.PlotBe\n",
        "PAp=Conjs.PlotAp\n",
        "PBp=Conjs.PlotBp\n",
        "PAll=Conjs.PlotAll\n",
        "\n",
        "\n",
        "#PAll=Conjs.PlotAll()\n"
      ],
      "metadata": {
        "id": "Txq6dCTejySJ"
      },
      "execution_count": null,
      "outputs": []
    },
    {
      "cell_type": "code",
      "source": [
        "fig=plt.figure(figsize=(15,4))\n",
        "\n",
        "ax_1=fig.add_subplot(241)\n",
        "PAe()\n",
        "\n",
        "ax_2=fig.add_subplot(245)\n",
        "PBe()\n",
        "\n",
        "ax_3=fig.add_subplot(242)\n",
        "PAp()\n",
        "\n",
        "ax_4=fig.add_subplot(246)\n",
        "\n",
        "PBp()\n",
        "\n",
        "ax_4=fig.add_subplot(122)\n",
        "\n",
        "PAll()\n",
        "fig.suptitle(\"Figure with multiple Subplots\")\n",
        "plt.show()"
      ],
      "metadata": {
        "colab": {
          "base_uri": "https://localhost:8080/",
          "height": 308
        },
        "id": "iUxolnjV4ZWA",
        "outputId": "89e7dbca-5cb8-4e09-db4f-d0c13e59be6a"
      },
      "execution_count": null,
      "outputs": [
        {
          "output_type": "display_data",
          "data": {
            "text/plain": [
              "<Figure size 1080x288 with 5 Axes>"
            ],
            "image/png": "[encoded data removed]"
          },
          "metadata": {
            "needs_background": "light"
          }
        }
      ]
    },
    {
      "cell_type": "code",
      "source": [
        "class Perceptron:\n",
        "  \"\"\"\n",
        "  f_x  =  y_hat  =   {1   si  x.w  +  b > 0 ; 0 otherwhise\n",
        "  x : vector de entradas\n",
        "  w : vector de pesos\n",
        "  x.w : porducto punto\n",
        "  b  :  bias\n",
        "  f_x :salida del perceptron\n",
        "\n",
        "  interpetación del perceptrón siguiendo los pasos:\n",
        "  1.Determinar el Forward Pass\n",
        "  2.Determinar el error respecto a la etiqueta \n",
        "  3.Modificar los pesos\n",
        "  4.Termino de error\n",
        "  5.Determinar el incremento\n",
        "  6.Actualizar los pesos \n",
        "\n",
        "  \"\"\"\n",
        "  def __init__(self, x1,x2,d1):\n",
        "    self.x1=x1\n",
        "    self.x2=x2\n",
        "    self.x=np.array([self.x1,self.x2])\n",
        "\n",
        "    self.d1 = d1 #Este valor es la etiqueta \n",
        "    \n",
        "    self.r = 0.4 # learning rate\n",
        "  \n",
        "  def Pesos(self,w1,w2):\n",
        "    self.w1=w1\n",
        "    self.w2=w2\n",
        "    #self.w1=random.uniform (-1, 1)\n",
        "    #self.w2=random.uniform (-1, 1)\n",
        "    self.w=np.array([self.w1,self.w2])\n",
        "    return self.w1,self.w2\n",
        "\n",
        "  def SumaPonderada(self):\n",
        "    h = np.dot(self.x,self.w) #h\n",
        "    return h  \n",
        "  #Forward pass:\n",
        "  def SalidaPerceptron(self):  \n",
        "    h = np.dot(self.x,self.w) #h\n",
        "    #f_h =1 / (1 + np.exp(-h)) # sigmoid\n",
        "    #def step(self, h):\n",
        "      #return 1 if h > 0 else 0\n",
        "    f_h= 1 if h > 0 else 0  #f_h  step\n",
        "    #return step(self, h)\n",
        "    return f_h\n",
        "    #Loss  \n",
        "  def NuevosPesos(self):\n",
        "    h = np.dot(self.x,self.w) #h o p\n",
        "    f_h= 1 if h > 0 else 0 #f_h  step\n",
        "    w1=self.w1 + self.r*(self.d1-f_h)*self.x1\n",
        "    w2=self.w2 + self.r*(self.d1-f_h)*self.x2\n",
        "    return w1 , w2\n",
        "\n",
        "  def Error(self):\n",
        "    h = np.dot(self.x,self.w) #h\n",
        "    f_h= 1 if h > 0 else 0  #f_h  step\n",
        "    #E1 = -1*self.y*np.log(f_h)\n",
        "    E = (self.d1 - f_h)*(self.d1 - f_h)\n",
        "    return E "
      ],
      "metadata": {
        "id": "_ZLlPgi5qa88"
      },
      "execution_count": null,
      "outputs": []
    },
    {
      "cell_type": "code",
      "source": [
        "Ae.shape"
      ],
      "metadata": {
        "colab": {
          "base_uri": "https://localhost:8080/"
        },
        "id": "nsj721hKrnC2",
        "outputId": "de53010f-4ea8-4b5f-f7f7-2f75af1cb8c1"
      },
      "execution_count": null,
      "outputs": [
        {
          "output_type": "execute_result",
          "data": {
            "text/plain": [
              "(14, 2)"
            ]
          },
          "metadata": {},
          "execution_count": 2165
        }
      ]
    },
    {
      "cell_type": "markdown",
      "source": [
        "## Aprendizaje\n",
        "$r \\in (0,1)$ es la tasa de aprendizaje.\n",
        "\n",
        "$\\hat{y}=f(\\mathbf{h}) \\in $ {$0,1$} es la salida del perceptrón para un vector de entrada.\n",
        "\n",
        "$perc =\\left\\{\\left(\\mathbf{x}_{1}, d_{1}\\right), \\ldots,\\left(\\mathbf{x}_{s}, d_{s}\\right)\\right\\}$  es el conjunto de entrenamiento de $s$ muestras:\n",
        "* $\\mathbf{x}_{j}$ es el vector de entrada n-dimensional.\n",
        "* $d_{j}$ es el valor de salida deseado para esa entrada o etiqueta.\n",
        "\n",
        "$x_{j, i}$ es el valor de la $i$ característica del $j$ vector de entrada del perceptrón. \n",
        "\n",
        "$w_{i}$ es el valor de del peso $i$ en el vector de pesos\n",
        "\n",
        "\n",
        "Para cada ejemplo j en el conjunto de entrenamiento $conj$ se realizan los siguientes pasos:\n",
        "\n",
        "* Se calcula la salida \n",
        "\n",
        "$\\begin{aligned} \\hat{y_{j}}(t) &=f\\left[\\mathbf{w}(t) \\cdot \\mathbf{x}_{j}\\right] \\\\ &=f\\left[w_{0}(t) x_{j, 0}+w_{1}(t) x_{j, 1}+w_{2}(t) x_{j, 2}+\\cdots+w_{n}(t) x_{j, n}\\right] \\end{aligned}$\n",
        "\n",
        "* Se actualiza los pesos\n",
        "\n",
        "$w_{i}(t+1)=w_{i}(t)+r \\cdot\\left(d_{j}-y_{j}(t)\\right) x_{j, i}$"
      ],
      "metadata": {
        "id": "fBOwHPj5zUzk"
      }
    },
    {
      "cell_type": "code",
      "source": [
        "h=[]\n",
        "w=[]\n",
        "y_hat=[]\n",
        "ww=[]\n",
        "E=[]\n",
        "www=[]\n",
        "hhh=[]\n",
        "yyy_hat=[]\n",
        "wwwww=[]\n",
        "EEE=[]\n",
        "for j in Ae : \n",
        "  perc=Perceptron(j[0],j[1],1)\n",
        "  w=np.append(w,perc.Pesos(np.random.uniform(-0.05, 0.05),np.random.uniform(-0.05, 0.05)))\n",
        "  #w=np.append(w,perc.Pesos(0.5,-0.5))\n",
        "  h=np.append(h,perc.SumaPonderada())\n",
        "  y_hat=np.append(y_hat,perc.SalidaPerceptron())\n",
        "  ww=np.append(ww,perc.NuevosPesos())\n",
        "  E=np.append(E,perc.Error())\n",
        "  www=np.append(www,perc.Pesos(perc.NuevosPesos()[0],perc.NuevosPesos()[1]))\n",
        "  hhh=np.append(hhh,perc.SumaPonderada())\n",
        "  yyy_hat=np.append(yyy_hat,perc.SalidaPerceptron())\n",
        "  wwwww=np.append(wwwww,perc.NuevosPesos())\n",
        "  EEE=np.append(EEE,perc.Error())\n",
        "\n",
        "for j in Be : \n",
        "  perc=Perceptron(j[0],j[1],0)\n",
        "  w=np.append(w,perc.Pesos(np.random.uniform(-0.05, 0.05),np.random.uniform(-0.05, 0.05)))\n",
        "  #w=np.append(w,perc.Pesos(0.5,-0.5))\n",
        "  h=np.append(h,perc.SumaPonderada())\n",
        "  y_hat=np.append(y_hat,perc.SalidaPerceptron())\n",
        "  ww=np.append(ww,perc.NuevosPesos())\n",
        "  E=np.append(E,perc.Error())\n",
        "  www=np.append(www,perc.Pesos(perc.NuevosPesos()[0],perc.NuevosPesos()[1]))\n",
        "  hhh=np.append(hhh,perc.SumaPonderada())\n",
        "  yyy_hat=np.append(yyy_hat,perc.SalidaPerceptron())\n",
        "  wwwww=np.append(wwwww,perc.NuevosPesos())\n",
        "  EEE=np.append(EEE,perc.Error())"
      ],
      "metadata": {
        "id": "Z5A-GqCBrK7z"
      },
      "execution_count": null,
      "outputs": []
    },
    {
      "cell_type": "code",
      "source": [
        "w.shape=(28,2)\n",
        "w # pesos iniciales para cada una de las muestras "
      ],
      "metadata": {
        "colab": {
          "base_uri": "https://localhost:8080/"
        },
        "id": "OA-nDI0vtZ1G",
        "outputId": "0549a13f-12d2-4078-97dc-a8bb3b7595bf"
      },
      "execution_count": null,
      "outputs": [
        {
          "output_type": "execute_result",
          "data": {
            "text/plain": [
              "array([[ 0.03131977, -0.04786995],\n",
              "       [-0.00193971,  0.00429657],\n",
              "       [ 0.0441988 ,  0.02642285],\n",
              "       [ 0.03537855, -0.03217294],\n",
              "       [-0.00703493, -0.01211585],\n",
              "       [-0.03313597,  0.02930962],\n",
              "       [ 0.02708679,  0.02692674],\n",
              "       [ 0.01308643, -0.03345245],\n",
              "       [-0.01854532, -0.04790936],\n",
              "       [-0.04485483, -0.00227378],\n",
              "       [-0.04977002,  0.02955467],\n",
              "       [-0.00758557,  0.01522609],\n",
              "       [ 0.018263  ,  0.01553558],\n",
              "       [-0.02737769,  0.0051428 ],\n",
              "       [ 0.04381928,  0.01770458],\n",
              "       [ 0.02579257,  0.04937542],\n",
              "       [-0.01978777, -0.03545939],\n",
              "       [-0.03529792, -0.04968449],\n",
              "       [ 0.04599271,  0.00301203],\n",
              "       [-0.02945157,  0.02595529],\n",
              "       [-0.02092118, -0.005441  ],\n",
              "       [-0.00711564, -0.02817953],\n",
              "       [-0.01195631,  0.04475673],\n",
              "       [-0.0340858 , -0.02609519],\n",
              "       [-0.03302332,  0.01681493],\n",
              "       [-0.04610642, -0.04013444],\n",
              "       [ 0.01612076,  0.01319864],\n",
              "       [ 0.01435199,  0.04861314]])"
            ]
          },
          "metadata": {},
          "execution_count": 2167
        }
      ]
    },
    {
      "cell_type": "code",
      "source": [
        "h # suma ponderada de las caracteristicas de cad una de las entradas con sus respectivos pesos iniciales"
      ],
      "metadata": {
        "colab": {
          "base_uri": "https://localhost:8080/"
        },
        "id": "wdn4IjB2u1z5",
        "outputId": "600defdb-369a-4280-9088-d66ab5f00df0"
      },
      "execution_count": null,
      "outputs": [
        {
          "output_type": "execute_result",
          "data": {
            "text/plain": [
              "array([-0.35163981,  0.03672946,  0.35262605, -0.31531813, -0.11803157,\n",
              "        0.07262346,  0.37761453, -0.06837767, -0.52391078, -0.29414063,\n",
              "       -0.08239811,  0.10680245,  0.33253093, -0.18468565,  0.57982941,\n",
              "        0.38246915, -0.36361921, -0.57262848,  0.60502921, -0.30850085,\n",
              "       -0.33642455, -0.44488899,  0.08919565, -0.59756319, -0.42748355,\n",
              "       -1.09891268,  0.35616678,  0.46714037])"
            ]
          },
          "metadata": {},
          "execution_count": 2168
        }
      ]
    },
    {
      "cell_type": "code",
      "source": [
        "y_hat # Salida del perceptro pra cada una de las muestras "
      ],
      "metadata": {
        "colab": {
          "base_uri": "https://localhost:8080/"
        },
        "id": "rN1bnstRvZEU",
        "outputId": "bc8f42fc-d6c3-4d6e-82ab-42c776f9fec3"
      },
      "execution_count": null,
      "outputs": [
        {
          "output_type": "execute_result",
          "data": {
            "text/plain": [
              "array([0., 1., 1., 0., 0., 1., 1., 0., 0., 0., 0., 1., 1., 0., 1., 1., 0.,\n",
              "       0., 1., 0., 0., 0., 1., 0., 0., 0., 1., 1.])"
            ]
          },
          "metadata": {},
          "execution_count": 2169
        }
      ]
    },
    {
      "cell_type": "code",
      "source": [
        "ww.shape = (28,2)\n",
        "ww #nuevos pesos"
      ],
      "metadata": {
        "colab": {
          "base_uri": "https://localhost:8080/"
        },
        "id": "U54cBTrcxlle",
        "outputId": "88e031df-451e-4b65-922e-2d339a4ac49d"
      },
      "execution_count": null,
      "outputs": [
        {
          "output_type": "execute_result",
          "data": {
            "text/plain": [
              "array([[ 4.31319767e-01,  3.15213005e+00],\n",
              "       [-1.93970692e-03,  4.29657362e-03],\n",
              "       [ 4.41987973e-02,  2.64228451e-02],\n",
              "       [ 8.35378545e-01,  4.76782706e+00],\n",
              "       [ 1.19296507e+00,  3.18788415e+00],\n",
              "       [-3.31359697e-02,  2.93096198e-02],\n",
              "       [ 2.70867928e-02,  2.69267355e-02],\n",
              "       [ 2.01308643e+00,  1.56654755e+00],\n",
              "       [ 1.98145468e+00,  3.55209064e+00],\n",
              "       [ 2.35514517e+00,  4.39772622e+00],\n",
              "       [ 2.75022998e+00,  3.62955467e+00],\n",
              "       [-7.58557404e-03,  1.52260948e-02],\n",
              "       [ 1.82630016e-02,  1.55355768e-02],\n",
              "       [ 3.57262231e+00,  4.80514280e+00],\n",
              "       [-3.95618072e+00, -3.18229542e+00],\n",
              "       [-4.37420743e+00, -7.50624580e-01],\n",
              "       [-1.97877722e-02, -3.54593896e-02],\n",
              "       [-3.52979180e-02, -4.96844892e-02],\n",
              "       [-4.95400729e+00, -3.99698797e+00],\n",
              "       [-2.94515706e-02,  2.59552859e-02],\n",
              "       [-2.09211793e-02, -5.44100489e-03],\n",
              "       [-7.11563899e-03, -2.81795338e-02],\n",
              "       [-6.01195631e+00, -2.35524327e+00],\n",
              "       [-3.40858001e-02, -2.60951937e-02],\n",
              "       [-3.30233222e-02,  1.68149348e-02],\n",
              "       [-4.61064193e-02, -4.01344408e-02],\n",
              "       [-7.18387924e+00, -1.98680136e+00],\n",
              "       [-7.58564801e+00, -1.55138686e+00]])"
            ]
          },
          "metadata": {},
          "execution_count": 2170
        }
      ]
    },
    {
      "cell_type": "code",
      "source": [
        "E # error de la salida del perceptron contra el valor deseado"
      ],
      "metadata": {
        "colab": {
          "base_uri": "https://localhost:8080/"
        },
        "id": "oJ0zH6TqyK-x",
        "outputId": "07223c8a-db1a-4d76-c4dd-2ddbd99f65f5"
      },
      "execution_count": null,
      "outputs": [
        {
          "output_type": "execute_result",
          "data": {
            "text/plain": [
              "array([1., 0., 0., 1., 1., 0., 0., 1., 1., 1., 1., 0., 0., 1., 1., 1., 0.,\n",
              "       0., 1., 0., 0., 0., 1., 0., 0., 0., 1., 1.])"
            ]
          },
          "metadata": {},
          "execution_count": 2171
        }
      ]
    },
    {
      "cell_type": "code",
      "source": [
        "hhh # nuevas sumas ponderadas"
      ],
      "metadata": {
        "colab": {
          "base_uri": "https://localhost:8080/"
        },
        "id": "OdUTeqvnyX8Z",
        "outputId": "a9e26c1c-8e3e-4145-86f0-fe3c79b2c15c"
      },
      "execution_count": null,
      "outputs": [
        {
          "output_type": "execute_result",
          "data": {
            "text/plain": [
              "array([ 2.56483602e+01,  3.67294556e-02,  3.52626046e-01,  5.88846819e+01,\n",
              "        2.90819684e+01,  7.26234601e-02,  3.77614526e-01,  1.63316223e+01,\n",
              "        4.18760892e+01,  6.25058594e+01,  5.19176019e+01,  1.06802450e-01,\n",
              "        3.32530935e-01,  8.98153143e+01, -6.50201706e+01, -4.96175309e+01,\n",
              "       -3.63619207e-01, -5.72628483e-01, -1.01894971e+02, -3.08500845e-01,\n",
              "       -3.36424549e-01, -4.44888990e-01, -1.04310804e+02, -5.97563189e-01,\n",
              "       -4.27483546e-01, -1.09891268e+00, -1.39243833e+02, -1.50332860e+02])"
            ]
          },
          "metadata": {},
          "execution_count": 2172
        }
      ]
    },
    {
      "cell_type": "code",
      "source": [
        "yyy_hat # nuevas salidas "
      ],
      "metadata": {
        "colab": {
          "base_uri": "https://localhost:8080/"
        },
        "id": "MxNRsWIUygqS",
        "outputId": "7fcf5d0d-7d52-416e-a253-71c0a0e57a6e"
      },
      "execution_count": null,
      "outputs": [
        {
          "output_type": "execute_result",
          "data": {
            "text/plain": [
              "array([1., 1., 1., 1., 1., 1., 1., 1., 1., 1., 1., 1., 1., 1., 0., 0., 0.,\n",
              "       0., 0., 0., 0., 0., 0., 0., 0., 0., 0., 0.])"
            ]
          },
          "metadata": {},
          "execution_count": 2173
        }
      ]
    },
    {
      "cell_type": "code",
      "source": [
        "EEE # Nuevo error de la salida del perceptron respecto el valor deseado"
      ],
      "metadata": {
        "colab": {
          "base_uri": "https://localhost:8080/"
        },
        "id": "4BzsSoDOzD3k",
        "outputId": "6b591d3d-04c1-4934-b42a-98133d3566c0"
      },
      "execution_count": null,
      "outputs": [
        {
          "output_type": "execute_result",
          "data": {
            "text/plain": [
              "array([0., 0., 0., 0., 0., 0., 0., 0., 0., 0., 0., 0., 0., 0., 0., 0., 0.,\n",
              "       0., 0., 0., 0., 0., 0., 0., 0., 0., 0., 0.])"
            ]
          },
          "metadata": {},
          "execution_count": 2174
        }
      ]
    },
    {
      "cell_type": "code",
      "source": [
        "x=np.array([1,2,3,4,5,6,7,8,9,10,11,12,13,14,15,16,17,18,19,20])"
      ],
      "metadata": {
        "id": "-IT6fCkSXPE5"
      },
      "execution_count": null,
      "outputs": []
    },
    {
      "cell_type": "code",
      "source": [
        "wwc1=ww[...,0]\n",
        "wwc11=wwc1[0:14]\n",
        "wwc12=wwc1[14:28]"
      ],
      "metadata": {
        "id": "Je7cpArzFRP5"
      },
      "execution_count": null,
      "outputs": []
    },
    {
      "cell_type": "code",
      "source": [
        "np.mean(wwc11)"
      ],
      "metadata": {
        "colab": {
          "base_uri": "https://localhost:8080/"
        },
        "id": "SHUHt3GAKgij",
        "outputId": "5620bb14-b252-45e5-bef8-79c2168d174a"
      },
      "execution_count": null,
      "outputs": [
        {
          "output_type": "execute_result",
          "data": {
            "text/plain": [
              "1.084220664125387"
            ]
          },
          "metadata": {},
          "execution_count": 2177
        }
      ]
    },
    {
      "cell_type": "code",
      "source": [
        "wwc12"
      ],
      "metadata": {
        "colab": {
          "base_uri": "https://localhost:8080/"
        },
        "id": "PaJ-PT28K5ZD",
        "outputId": "08a3e1eb-2aa3-411a-b77a-f710d86469c8"
      },
      "execution_count": null,
      "outputs": [
        {
          "output_type": "execute_result",
          "data": {
            "text/plain": [
              "array([-3.95618072e+00, -4.37420743e+00, -1.97877722e-02, -3.52979180e-02,\n",
              "       -4.95400729e+00, -2.94515706e-02, -2.09211793e-02, -7.11563899e-03,\n",
              "       -6.01195631e+00, -3.40858001e-02, -3.30233222e-02, -4.61064193e-02,\n",
              "       -7.18387924e+00, -7.58564801e+00])"
            ]
          },
          "metadata": {},
          "execution_count": 2178
        }
      ]
    },
    {
      "cell_type": "code",
      "source": [
        "np.mean(wwc12)\n"
      ],
      "metadata": {
        "colab": {
          "base_uri": "https://localhost:8080/"
        },
        "id": "nIcW6ULFKvXL",
        "outputId": "b3887758-04cc-4d94-cd95-a92aa1a31131"
      },
      "execution_count": null,
      "outputs": [
        {
          "output_type": "execute_result",
          "data": {
            "text/plain": [
              "-2.449404901739441"
            ]
          },
          "metadata": {},
          "execution_count": 2179
        }
      ]
    },
    {
      "cell_type": "code",
      "source": [
        "zz=[]\n",
        "for i in range (0,14,1):\n",
        "  zz=np.append(zz,(wwc11[i],wwc12[i]))\n",
        "zz"
      ],
      "metadata": {
        "colab": {
          "base_uri": "https://localhost:8080/"
        },
        "id": "WKrpKPJhGPRp",
        "outputId": "6f12ab52-e3dc-4451-ca05-bb4d770a33e6"
      },
      "execution_count": null,
      "outputs": [
        {
          "output_type": "execute_result",
          "data": {
            "text/plain": [
              "array([ 4.31319767e-01, -3.95618072e+00, -1.93970692e-03, -4.37420743e+00,\n",
              "        4.41987973e-02, -1.97877722e-02,  8.35378545e-01, -3.52979180e-02,\n",
              "        1.19296507e+00, -4.95400729e+00, -3.31359697e-02, -2.94515706e-02,\n",
              "        2.70867928e-02, -2.09211793e-02,  2.01308643e+00, -7.11563899e-03,\n",
              "        1.98145468e+00, -6.01195631e+00,  2.35514517e+00, -3.40858001e-02,\n",
              "        2.75022998e+00, -3.30233222e-02, -7.58557404e-03, -4.61064193e-02,\n",
              "        1.82630016e-02, -7.18387924e+00,  3.57262231e+00, -7.58564801e+00])"
            ]
          },
          "metadata": {},
          "execution_count": 2180
        }
      ]
    },
    {
      "cell_type": "code",
      "source": [
        "wwc2=ww[...,1]\n",
        "wwc21=wwc2[0:14]\n",
        "wwc21\n",
        "wwc22=wwc2[14:28]\n",
        "wwc22"
      ],
      "metadata": {
        "colab": {
          "base_uri": "https://localhost:8080/"
        },
        "id": "hW6xYuh2FcVB",
        "outputId": "04f8381d-248e-4071-f2a1-f6224785c3b4"
      },
      "execution_count": null,
      "outputs": [
        {
          "output_type": "execute_result",
          "data": {
            "text/plain": [
              "array([-3.18229542, -0.75062458, -0.03545939, -0.04968449, -3.99698797,\n",
              "        0.02595529, -0.005441  , -0.02817953, -2.35524327, -0.02609519,\n",
              "        0.01681493, -0.04013444, -1.98680136, -1.55138686])"
            ]
          },
          "metadata": {},
          "execution_count": 2181
        }
      ]
    },
    {
      "cell_type": "code",
      "source": [
        "\n",
        "for i in range (0,14,1):\n",
        "  zz=np.append(zz,(wwc11[i],wwc12[i]))\n",
        "zz"
      ],
      "metadata": {
        "colab": {
          "base_uri": "https://localhost:8080/"
        },
        "id": "4ad6YPx_q6ez",
        "outputId": "98441b33-286a-4ef8-ab0c-e90542bb0d77"
      },
      "execution_count": null,
      "outputs": [
        {
          "output_type": "execute_result",
          "data": {
            "text/plain": [
              "array([ 4.31319767e-01, -3.95618072e+00, -1.93970692e-03, -4.37420743e+00,\n",
              "        4.41987973e-02, -1.97877722e-02,  8.35378545e-01, -3.52979180e-02,\n",
              "        1.19296507e+00, -4.95400729e+00, -3.31359697e-02, -2.94515706e-02,\n",
              "        2.70867928e-02, -2.09211793e-02,  2.01308643e+00, -7.11563899e-03,\n",
              "        1.98145468e+00, -6.01195631e+00,  2.35514517e+00, -3.40858001e-02,\n",
              "        2.75022998e+00, -3.30233222e-02, -7.58557404e-03, -4.61064193e-02,\n",
              "        1.82630016e-02, -7.18387924e+00,  3.57262231e+00, -7.58564801e+00,\n",
              "        4.31319767e-01, -3.95618072e+00, -1.93970692e-03, -4.37420743e+00,\n",
              "        4.41987973e-02, -1.97877722e-02,  8.35378545e-01, -3.52979180e-02,\n",
              "        1.19296507e+00, -4.95400729e+00, -3.31359697e-02, -2.94515706e-02,\n",
              "        2.70867928e-02, -2.09211793e-02,  2.01308643e+00, -7.11563899e-03,\n",
              "        1.98145468e+00, -6.01195631e+00,  2.35514517e+00, -3.40858001e-02,\n",
              "        2.75022998e+00, -3.30233222e-02, -7.58557404e-03, -4.61064193e-02,\n",
              "        1.82630016e-02, -7.18387924e+00,  3.57262231e+00, -7.58564801e+00])"
            ]
          },
          "metadata": {},
          "execution_count": 2182
        }
      ]
    },
    {
      "cell_type": "code",
      "source": [
        "np.mean(wwc21)"
      ],
      "metadata": {
        "colab": {
          "base_uri": "https://localhost:8080/"
        },
        "id": "9Qc6lmq8LyBC",
        "outputId": "f6665794-c0d8-40eb-92ad-380943bbae8d"
      },
      "execution_count": null,
      "outputs": [
        {
          "output_type": "execute_result",
          "data": {
            "text/plain": [
              "2.0840443275697296"
            ]
          },
          "metadata": {},
          "execution_count": 2183
        }
      ]
    },
    {
      "cell_type": "code",
      "source": [
        "np.mean(wwc22)"
      ],
      "metadata": {
        "colab": {
          "base_uri": "https://localhost:8080/"
        },
        "id": "R2EnhIBvLyUg",
        "outputId": "d3d9fb21-8d28-4660-8337-1c0197ba74ee"
      },
      "execution_count": null,
      "outputs": [
        {
          "output_type": "execute_result",
          "data": {
            "text/plain": [
              "-0.9975402356428299"
            ]
          },
          "metadata": {},
          "execution_count": 2184
        }
      ]
    },
    {
      "cell_type": "code",
      "source": [
        "zz.shape=(28,2)\n"
      ],
      "metadata": {
        "id": "t5vycennGvJZ"
      },
      "execution_count": null,
      "outputs": []
    },
    {
      "cell_type": "code",
      "source": [
        "zz.shape"
      ],
      "metadata": {
        "colab": {
          "base_uri": "https://localhost:8080/"
        },
        "id": "RILTQDliOiho",
        "outputId": "71210ab7-a1e1-4753-dc44-0a35674914ef"
      },
      "execution_count": null,
      "outputs": [
        {
          "output_type": "execute_result",
          "data": {
            "text/plain": [
              "(28, 2)"
            ]
          },
          "metadata": {},
          "execution_count": 2186
        }
      ]
    },
    {
      "cell_type": "code",
      "source": [
        "zz"
      ],
      "metadata": {
        "colab": {
          "base_uri": "https://localhost:8080/"
        },
        "id": "N2sb1KS1O5Vy",
        "outputId": "fa71c973-04e5-4d8f-b62d-d1e570ca0c48"
      },
      "execution_count": null,
      "outputs": [
        {
          "output_type": "execute_result",
          "data": {
            "text/plain": [
              "array([[ 4.31319767e-01, -3.95618072e+00],\n",
              "       [-1.93970692e-03, -4.37420743e+00],\n",
              "       [ 4.41987973e-02, -1.97877722e-02],\n",
              "       [ 8.35378545e-01, -3.52979180e-02],\n",
              "       [ 1.19296507e+00, -4.95400729e+00],\n",
              "       [-3.31359697e-02, -2.94515706e-02],\n",
              "       [ 2.70867928e-02, -2.09211793e-02],\n",
              "       [ 2.01308643e+00, -7.11563899e-03],\n",
              "       [ 1.98145468e+00, -6.01195631e+00],\n",
              "       [ 2.35514517e+00, -3.40858001e-02],\n",
              "       [ 2.75022998e+00, -3.30233222e-02],\n",
              "       [-7.58557404e-03, -4.61064193e-02],\n",
              "       [ 1.82630016e-02, -7.18387924e+00],\n",
              "       [ 3.57262231e+00, -7.58564801e+00],\n",
              "       [ 4.31319767e-01, -3.95618072e+00],\n",
              "       [-1.93970692e-03, -4.37420743e+00],\n",
              "       [ 4.41987973e-02, -1.97877722e-02],\n",
              "       [ 8.35378545e-01, -3.52979180e-02],\n",
              "       [ 1.19296507e+00, -4.95400729e+00],\n",
              "       [-3.31359697e-02, -2.94515706e-02],\n",
              "       [ 2.70867928e-02, -2.09211793e-02],\n",
              "       [ 2.01308643e+00, -7.11563899e-03],\n",
              "       [ 1.98145468e+00, -6.01195631e+00],\n",
              "       [ 2.35514517e+00, -3.40858001e-02],\n",
              "       [ 2.75022998e+00, -3.30233222e-02],\n",
              "       [-7.58557404e-03, -4.61064193e-02],\n",
              "       [ 1.82630016e-02, -7.18387924e+00],\n",
              "       [ 3.57262231e+00, -7.58564801e+00]])"
            ]
          },
          "metadata": {},
          "execution_count": 2187
        }
      ]
    },
    {
      "cell_type": "code",
      "source": [
        "y=[]\n",
        "for i in zz:\n",
        "  y=np.append(y,(i[0]*x+i[1]))   #Ecuación de la recta\n",
        "y.shape=(28,20)\n",
        "\n",
        "\n",
        "\n",
        "yyy=np.mean(zz[...,0])\n",
        "yyyy=np.mean(zz[...,1])\n",
        "yyy,yyyy"
      ],
      "metadata": {
        "colab": {
          "base_uri": "https://localhost:8080/"
        },
        "id": "mcXpWHNQDlZ7",
        "outputId": "5d5ecfdb-59d8-42be-8dfe-ab5b3dc4347b"
      },
      "execution_count": null,
      "outputs": [
        {
          "output_type": "execute_result",
          "data": {
            "text/plain": [
              "(1.0842206641253873, -2.449404901739441)"
            ]
          },
          "metadata": {},
          "execution_count": 2188
        }
      ]
    },
    {
      "cell_type": "code",
      "source": [
        "Bp"
      ],
      "metadata": {
        "colab": {
          "base_uri": "https://localhost:8080/"
        },
        "id": "2edv5FULJikr",
        "outputId": "244eb2b2-72d7-4420-9b6d-93e1d20cc8cb"
      },
      "execution_count": null,
      "outputs": [
        {
          "output_type": "execute_result",
          "data": {
            "text/plain": [
              "array([[13.,  2.],\n",
              "       [15.,  1.],\n",
              "       [17.,  4.],\n",
              "       [18.,  3.],\n",
              "       [19.,  2.],\n",
              "       [12.,  6.]])"
            ]
          },
          "metadata": {},
          "execution_count": 2189
        }
      ]
    },
    {
      "cell_type": "code",
      "source": [
        "Ap.shape"
      ],
      "metadata": {
        "colab": {
          "base_uri": "https://localhost:8080/"
        },
        "id": "g0gQc9aWKcfG",
        "outputId": "a8908dc5-b498-4568-dd08-c41d7785de51"
      },
      "execution_count": null,
      "outputs": [
        {
          "output_type": "execute_result",
          "data": {
            "text/plain": [
              "(6, 2)"
            ]
          },
          "metadata": {},
          "execution_count": 2190
        }
      ]
    },
    {
      "cell_type": "code",
      "source": [
        "zz"
      ],
      "metadata": {
        "colab": {
          "base_uri": "https://localhost:8080/"
        },
        "id": "ClG12vPuWO8p",
        "outputId": "6441d974-c6d9-4820-d271-05ca08ef9c09"
      },
      "execution_count": null,
      "outputs": [
        {
          "output_type": "execute_result",
          "data": {
            "text/plain": [
              "array([[ 4.31319767e-01, -3.95618072e+00],\n",
              "       [-1.93970692e-03, -4.37420743e+00],\n",
              "       [ 4.41987973e-02, -1.97877722e-02],\n",
              "       [ 8.35378545e-01, -3.52979180e-02],\n",
              "       [ 1.19296507e+00, -4.95400729e+00],\n",
              "       [-3.31359697e-02, -2.94515706e-02],\n",
              "       [ 2.70867928e-02, -2.09211793e-02],\n",
              "       [ 2.01308643e+00, -7.11563899e-03],\n",
              "       [ 1.98145468e+00, -6.01195631e+00],\n",
              "       [ 2.35514517e+00, -3.40858001e-02],\n",
              "       [ 2.75022998e+00, -3.30233222e-02],\n",
              "       [-7.58557404e-03, -4.61064193e-02],\n",
              "       [ 1.82630016e-02, -7.18387924e+00],\n",
              "       [ 3.57262231e+00, -7.58564801e+00],\n",
              "       [ 4.31319767e-01, -3.95618072e+00],\n",
              "       [-1.93970692e-03, -4.37420743e+00],\n",
              "       [ 4.41987973e-02, -1.97877722e-02],\n",
              "       [ 8.35378545e-01, -3.52979180e-02],\n",
              "       [ 1.19296507e+00, -4.95400729e+00],\n",
              "       [-3.31359697e-02, -2.94515706e-02],\n",
              "       [ 2.70867928e-02, -2.09211793e-02],\n",
              "       [ 2.01308643e+00, -7.11563899e-03],\n",
              "       [ 1.98145468e+00, -6.01195631e+00],\n",
              "       [ 2.35514517e+00, -3.40858001e-02],\n",
              "       [ 2.75022998e+00, -3.30233222e-02],\n",
              "       [-7.58557404e-03, -4.61064193e-02],\n",
              "       [ 1.82630016e-02, -7.18387924e+00],\n",
              "       [ 3.57262231e+00, -7.58564801e+00]])"
            ]
          },
          "metadata": {},
          "execution_count": 2191
        }
      ]
    },
    {
      "cell_type": "code",
      "source": [
        "plt.plot(x,yyy*x+yyyy, color='orange')\n",
        "plt.ylim((0,13))\n",
        "PAll()"
      ],
      "metadata": {
        "colab": {
          "base_uri": "https://localhost:8080/",
          "height": 368
        },
        "id": "6lxhJUUIFPE_",
        "outputId": "ddaaca63-af62-4b8b-cd61-f33d64f2c2bd"
      },
      "execution_count": null,
      "outputs": [
        {
          "output_type": "execute_result",
          "data": {
            "text/plain": [
              "([<matplotlib.lines.Line2D at 0x7f3ab5f26290>],\n",
              " [<matplotlib.lines.Line2D at 0x7f3ab5f26450>],\n",
              " [<matplotlib.lines.Line2D at 0x7f3ab59592d0>],\n",
              " [<matplotlib.lines.Line2D at 0x7f3ab5959d90>])"
            ]
          },
          "metadata": {},
          "execution_count": 2192
        },
        {
          "output_type": "display_data",
          "data": {
            "text/plain": [
              "<Figure size 432x288 with 1 Axes>"
            ],
            "image/png": "[encoded data removed]"
          },
          "metadata": {
            "needs_background": "light"
          }
        }
      ]
    },
    {
      "cell_type": "code",
      "source": [
        "h=[]\n",
        "w=[]\n",
        "y_hat=[]\n",
        "\n",
        "for j in Ap : \n",
        "  for i in ww : \n",
        "    perc=Perceptron(j[0],j[1],1) #en este caso la etiqueta no se tendra en cuenta \n",
        "    #w=np.append(w,perc.Pesos(np.random.uniform(-1, 1),np.random.uniform(-1, 1)))\n",
        "    w=np.append(w,perc.Pesos(i[0],i[1]))\n",
        "    h=np.append(h,perc.SumaPonderada())\n",
        "    y_hat=np.append(y_hat,perc.SalidaPerceptron())\n",
        "\n",
        "\n",
        "for j in Bp : \n",
        "  for i in ww : \n",
        "    perc=Perceptron(j[0],j[1],0) #en este paso la etiqueta no se tendra en cuenta \n",
        "    #w=np.append(w,perc.Pesos(np.random.uniform(-1, 1),np.random.uniform(-1, 1)))\n",
        "    w=np.append(w,perc.Pesos(i[0],i[1]))\n",
        "    h=np.append(h,perc.SumaPonderada())\n",
        "    y_hat=np.append(y_hat,perc.SalidaPerceptron())\n",
        "\n",
        "y_hat.shape=(12,28)\n",
        "mean =[]\n",
        "for i in y_hat :\n",
        "  mean=np.append(mean,np.mean(i))\n",
        "mean.shape=(12,1)\n",
        "mean"
      ],
      "metadata": {
        "colab": {
          "base_uri": "https://localhost:8080/"
        },
        "id": "q8plV1h4HHr7",
        "outputId": "a956b795-4413-40cf-97e8-388f4aa84548"
      },
      "execution_count": null,
      "outputs": [
        {
          "output_type": "execute_result",
          "data": {
            "text/plain": [
              "array([[0.57142857],\n",
              "       [0.53571429],\n",
              "       [0.53571429],\n",
              "       [0.57142857],\n",
              "       [0.57142857],\n",
              "       [0.53571429],\n",
              "       [0.39285714],\n",
              "       [0.39285714],\n",
              "       [0.39285714],\n",
              "       [0.39285714],\n",
              "       [0.39285714],\n",
              "       [0.46428571]])"
            ]
          },
          "metadata": {},
          "execution_count": 2193
        }
      ]
    },
    {
      "cell_type": "code",
      "source": [
        "y_hat=y_hat.astype(int)"
      ],
      "metadata": {
        "id": "o5OXxlN6nqC5"
      },
      "execution_count": null,
      "outputs": []
    },
    {
      "cell_type": "code",
      "source": [
        "y_hat[0].shape"
      ],
      "metadata": {
        "colab": {
          "base_uri": "https://localhost:8080/"
        },
        "id": "z-93aYNrlpPf",
        "outputId": "4e3dc740-6225-4312-a78c-06f9d39e5414"
      },
      "execution_count": null,
      "outputs": [
        {
          "output_type": "execute_result",
          "data": {
            "text/plain": [
              "(28,)"
            ]
          },
          "metadata": {},
          "execution_count": 2195
        }
      ]
    },
    {
      "cell_type": "code",
      "source": [
        "y_pred=[]\n",
        "\n",
        "for i in range (0,12,1):\n",
        "  y_pred=np.append(y_pred,np.bincount(y_hat[i]).argmax())\n",
        "\n",
        "y_pred # son las predicciones para el conjunto de prueba completo"
      ],
      "metadata": {
        "colab": {
          "base_uri": "https://localhost:8080/"
        },
        "id": "mG3LzMqzk8KK",
        "outputId": "46ceff98-e393-48ea-f8f6-1f208bd2bf61"
      },
      "execution_count": null,
      "outputs": [
        {
          "output_type": "execute_result",
          "data": {
            "text/plain": [
              "array([1., 1., 1., 1., 1., 1., 0., 0., 0., 0., 0., 0.])"
            ]
          },
          "metadata": {},
          "execution_count": 2196
        }
      ]
    }
  ]
}