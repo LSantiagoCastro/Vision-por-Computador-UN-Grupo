{
  "nbformat": 4,
  "nbformat_minor": 0,
  "metadata": {
    "colab": {
      "name": "Medidas Para Tareas de Regresión ",
      "provenance": []
    },
    "kernelspec": {
      "name": "python3",
      "display_name": "Python 3"
    },
    "language_info": {
      "name": "python"
    }
  },
  "cells": [
    {
      "cell_type": "markdown",
      "source": [
        "#Curva ROC\n",
        "\n",
        "Caracteristica operativa del receptor, es usada en el sector de aprendizaje automático para la comparación de modelos, se usa para generar estadísticos que resumen el rendimiento del clasificador.\n",
        "\n",
        "En clasificación binaria hay cuatro posibles resultados para un clasificador, $VP$ los verdaderos positivos conocidos como los beneficios, $VN$, los verdaderos negativos , $FP$ los falsos positivos conocidos como costos y los $FN$ falsos negativos, con los cuales se organiza la llamada tabla de contingencia  o matriz de confusión. \n",
        "\n",
        "Esta curva es la representación grafica de la relación de verdaderos positivos, $(VPR)$ contra la relación de falsos negativos $(FPR)$, segun se varía un umbral de desición. \n",
        "\n",
        "$VPR$  mide hasta que punto un clasificador es capaz de detectar los casos positivos correctamente.\n",
        "\n",
        "$V P R=\\frac{V P}{V P+F N}$\n",
        "\n",
        "\n",
        "$FPR$ define cuantos resultados positivos incorrectos de entre todos los casos negativos.\n",
        "\n",
        "$F P R=\\frac{F P}{F P+V N}$"
      ],
      "metadata": {
        "id": "hnWc3HQWVg_T"
      }
    },
    {
      "cell_type": "code",
      "execution_count": 2,
      "metadata": {
        "id": "T8uURmnhVX3R"
      },
      "outputs": [],
      "source": [
        "import numpy as np\n",
        "import matplotlib.pyplot as plt"
      ]
    },
    {
      "cell_type": "code",
      "source": [
        "#@markdown marca para reiniciar el algoritmo, luego pusla en \"play\" y desmarca\n",
        "reiniciar = True              #@param {type:\"boolean\"}\n",
        "\n",
        "#@markdown valores de umbral \n",
        "UMBRAL = 0.5    #@param {type:\"slider\", min:0.3, max:0.6, step:0.01}\n",
        "\n",
        "\n",
        "class Metricas:\n",
        "  \"\"\"\n",
        "  Esta clase contiene los atributos:\n",
        "  ROC\n",
        "  \"\"\"\n",
        "  def __init__(self):\n",
        "    #Predicted Probability:\n",
        "    self.PP= np.array([[0.57142857],[0.53571429],[0.53571429],[0.57142857],[0.57142857],[0.53571429],[0.39285714],[0.39285714],[0.39285714],[0.39285714],[0.39285714],[0.46428571]])\n",
        "    self.Etqt=np.array([1.,1.,1.,1.,1.,1.,0.,0.,0.,0.,0.,0.])\n",
        "  def Prediction(self,Umb):\n",
        "    self.Umb=Umb\n",
        "    self.PaT=[]\n",
        "    for i in self.PP :\n",
        "      self.PaT= np.append(self.PaT, (1 if i > self.Umb else 0)) \n",
        "    return self.PaT\n",
        "  def PredTresh(self):\n",
        "    self.PaT1=self.PaT[0:6]\n",
        "    self.PaT2=self.PaT[6:12]\n",
        "    return self.PaT1, self.PaT2\n",
        "  def Etiquetas(self):\n",
        "    self.Etqt1=self.Etqt[0:6]\n",
        "    self.Etqt2=self.Etqt[6:12]\n",
        "    return self.Etqt1, self.Etqt2\n",
        "  def VdPos(self):\n",
        "    self.AAA=[]\n",
        "    for i in range (0,6,1):\n",
        "      self.AAA=np.append(self.AAA,(self.Etqt1[i],self.PaT1[i]))\n",
        "    self.AAA.shape=(6,2)\n",
        "    self.VP=[]\n",
        "    for i in self.AAA :\n",
        "      self.VP=np.append(self.VP,(1 if i[0]==i[1] else 0 ))\n",
        "      self.VPsum=np.sum(self.VP)\n",
        "    return self.VPsum\n",
        "  def VdNeg(self):\n",
        "    self.BBB=[]\n",
        "    for i in range (0,6,1):\n",
        "      self.BBB=np.append(self.BBB,(self.Etqt2[i],self.PaT2[i]))\n",
        "    self.BBB.shape=(6,2)\n",
        "    self.VN=[]\n",
        "    for i in self.BBB :\n",
        "      self.VN=np.append(self.VN,(1 if i[0]==i[1] else 0 ))\n",
        "    self.VNsum=np.sum(self.VN)\n",
        "    return self.VNsum\n",
        "  def FlsPos(self):\n",
        "    self.FP=[]\n",
        "    for i in self.BBB:\n",
        "      self.FP=np.append(self.FP,(0 if i[0]==i[1] else 1 ))\n",
        "    self.FPsum=np.sum(self.FP)\n",
        "    return self.FPsum\n",
        "  def FlsNeg(self):\n",
        "    self.FN=[]\n",
        "    for i in self.AAA:\n",
        "      self.FN=np.append(self.FN, (0 if i[0]==i[1] else 1 ))\n",
        "    self.FNsum=np.sum(self.FN)\n",
        "    return self.FNsum\n",
        "MTR=Metricas()\n",
        "PRD=MTR.Prediction(UMBRAL)\n",
        "PRDTRS=MTR.PredTresh()\n",
        "ETQT=MTR.Etiquetas()\n",
        "VP=MTR.VdPos()\n",
        "VN=MTR.VdNeg()\n",
        "FP=MTR.FlsPos()\n",
        "FN=MTR.FlsNeg()\n",
        "\n",
        "A=np.array([[VP, FP],[FN, VN]])\n",
        "\n",
        "\n",
        "\n",
        "VPR=VP/(VP+FN) \n",
        "\n",
        "FPR=FP/(FP+VN)\n",
        "FPR, VPR\n",
        "\n",
        "\n",
        "import matplotlib.pyplot as plt\n",
        "import pandas as pd\n",
        "class Plot:\n",
        "  def __init__(self):\n",
        "    pass\n",
        "  def MatrizConfusion(self):\n",
        "    A=np.array([[VP, FP],[FN, VN]])\n",
        "\n",
        "    df = pd.DataFrame(A,\n",
        "                  columns=['Positivo', 'Negativo'],\n",
        "                  index=['Positivo', 'Negativo']\n",
        "                  )\n",
        "    MC=plt.imshow(df, cmap=\"YlGnBu\")\n",
        "    plt.title('Confusion Matrix')\n",
        "    plt.ylabel('Predicted')\n",
        "    plt.xlabel('Real')\n",
        "    plt.colorbar()\n",
        "    plt.xticks(range(len(df)),df.columns, rotation=20)\n",
        "    plt.yticks(range(len(df)),df.index)\n",
        "    #plt.show()\n",
        "    return MC\n",
        "\n",
        "  def ROC(self):\n",
        "    X=np.array([1,1,1,1,0.16,0.16,0.16,0.16,0,0,0,0,0])\n",
        "    Y=np.array([1,1,1,1,1,1,1,1,1,1,1,0.5,0])\n",
        "    plt.title('ROC Curve')\n",
        "    plt.ylabel('True Positive Rate')\n",
        "    plt.xlabel('False Positive Rate')\n",
        "    ROC=plt.plot(X,Y, color='blue')\n",
        "    return ROC\n",
        "\n",
        "pt=Plot()\n",
        "MC=pt.MatrizConfusion\n",
        "ROC=pt.ROC\n",
        "\n",
        "fig=plt.figure(figsize=(20,5))\n",
        "\n",
        "ax_1=fig.add_subplot(121)\n",
        "MC()\n",
        "\n",
        "ax_2=fig.add_subplot(122)\n",
        "ROC()\n",
        "\n",
        "\n",
        "fig.suptitle(\"Confusion Matrix for a threshold value and ROC curve for all posible threshold values \")\n",
        "\n",
        "plt.show()"
      ],
      "metadata": {
        "colab": {
          "base_uri": "https://localhost:8080/",
          "height": 384
        },
        "id": "rIGLdjY9V-XN",
        "outputId": "da71ca3e-7a09-4f40-fc2a-d5e99611939b"
      },
      "execution_count": 205,
      "outputs": [
        {
          "output_type": "display_data",
          "data": {
            "text/plain": [
              "<Figure size 1440x360 with 3 Axes>"
            ],
            "image/png": "[encoded data removed]"
          },
          "metadata": {
            "needs_background": "light"
          }
        }
      ]
    },
    {
      "cell_type": "code",
      "source": [
        "plt.imshow(A, cmap='gnuplot',vmin=0, vmax=6)\n",
        "plt.colorbar()\n",
        "plt.title('Confusion Matrix')\n",
        "plt.ylabel('Y')\n",
        "plt.xlabel('X')\n",
        "\n",
        "#plt.xticks(np.arange(2, 0, 1), np.arange(2, 0, 1))\n",
        "#plt.yticks(np.arange(2, 0, 1), np.arange(2, 0, 1))"
      ],
      "metadata": {
        "colab": {
          "base_uri": "https://localhost:8080/",
          "height": 313
        },
        "id": "BUWOSsK7ENJa",
        "outputId": "d969f46d-e4fa-4050-aeb0-d70c4174a1bb"
      },
      "execution_count": 206,
      "outputs": [
        {
          "output_type": "execute_result",
          "data": {
            "text/plain": [
              "Text(0.5, 0, 'X')"
            ]
          },
          "metadata": {},
          "execution_count": 206
        },
        {
          "output_type": "display_data",
          "data": {
            "text/plain": [
              "<Figure size 432x288 with 2 Axes>"
            ],
            "image/png": "[encoded data removed]"
          },
          "metadata": {
            "needs_background": "light"
          }
        }
      ]
    },
    {
      "cell_type": "code",
      "source": [
        "class MetrClase:\n",
        "  \"\"\"\n",
        "  Precisión\n",
        "  Exhaustividad\n",
        "  F1 Score\n",
        "  F1 Ponderado\n",
        "\n",
        "  \"\"\"\n",
        "  def __init__(self):\n",
        "    self.Prec=VP/(VP+FP)\n",
        "    self.Exh= VP/(VP+FN)\n",
        "  def Precision(self):\n",
        "    return self.Prec\n",
        "  def Exhaustividad(self):\n",
        "    return self.Exh\n",
        "  def F1Score(self):\n",
        "    self.F1=2*((self.Prec*self.Exh)/(self.Prec+self.Exh))\n",
        "    return self.F1\n",
        "  def F1Pond(self,beta):\n",
        "    self.beta=beta\n",
        "    self.Fb=(1+(self.beta**2))*((self.Prec*self.Exh)/(((self.beta**2)*self.Prec)+self.Exh))\n",
        "    return self.Fb\n",
        "\n",
        "\n",
        "#@markdown marca para reiniciar el algoritmo, luego pusla en \"play\" y desmarca\n",
        "reiniciar = True              #@param {type:\"boolean\"}\n",
        "\n",
        "#@markdown valores del Parametro Beta que da mayor importancia a la precisión \n",
        "BETA = 0.58    #@param {type:\"slider\", min:0.0, max:1, step:0.01}\n",
        "\n",
        "MtrCls=MetrClase()\n",
        "Prec=MtrCls.Precision()\n",
        "Exh=MtrCls.Exhaustividad()\n",
        "F1=MtrCls.F1Score()\n",
        "Fb=MtrCls.F1Pond(BETA)"
      ],
      "metadata": {
        "id": "oR4fXjxGIY23"
      },
      "execution_count": 211,
      "outputs": []
    },
    {
      "cell_type": "code",
      "source": [
        "F1,Fb"
      ],
      "metadata": {
        "colab": {
          "base_uri": "https://localhost:8080/"
        },
        "id": "zz9XS9TdQFUp",
        "outputId": "de8949d2-154f-4534-cd80-64d611c4472e"
      },
      "execution_count": 212,
      "outputs": [
        {
          "output_type": "execute_result",
          "data": {
            "text/plain": [
              "(1.0, 1.0)"
            ]
          },
          "metadata": {},
          "execution_count": 212
        }
      ]
    },
    {
      "cell_type": "code",
      "source": [
        "PRDTRS # Predicción de acuerdo al umbral"
      ],
      "metadata": {
        "colab": {
          "base_uri": "https://localhost:8080/"
        },
        "id": "PAm-MDJBzv1I",
        "outputId": "209a1a5f-6984-42da-e620-4cd33880778e"
      },
      "execution_count": 213,
      "outputs": [
        {
          "output_type": "execute_result",
          "data": {
            "text/plain": [
              "(array([1., 1., 1., 1., 1., 1.]), array([0., 0., 0., 0., 0., 0.]))"
            ]
          },
          "metadata": {},
          "execution_count": 213
        }
      ]
    },
    {
      "cell_type": "code",
      "source": [
        "ETQT # Etiquetas"
      ],
      "metadata": {
        "colab": {
          "base_uri": "https://localhost:8080/"
        },
        "id": "uX1H2L5Izzau",
        "outputId": "f80f88cc-a7fc-44df-8e84-5dee1903d87d"
      },
      "execution_count": 215,
      "outputs": [
        {
          "output_type": "execute_result",
          "data": {
            "text/plain": [
              "(array([1., 1., 1., 1., 1., 1.]), array([0., 0., 0., 0., 0., 0.]))"
            ]
          },
          "metadata": {},
          "execution_count": 215
        }
      ]
    }
  ]
}