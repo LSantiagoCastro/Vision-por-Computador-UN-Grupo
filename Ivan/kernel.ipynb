{
  "nbformat": 4,
  "nbformat_minor": 0,
  "metadata": {
    "colab": {
      "name": "kernel",
      "provenance": [],
      "collapsed_sections": []
    },
    "kernelspec": {
      "name": "python3",
      "display_name": "Python 3"
    },
    "language_info": {
      "name": "python"
    }
  },
  "cells": [
    {
      "cell_type": "markdown",
      "source": [
        "#Kernel Functions"
      ],
      "metadata": {
        "id": "ZhwHGjEY5GSe"
      }
    },
    {
      "cell_type": "code",
      "source": [
        "import numpy as np\n",
        "import matplotlib.pyplot as plt\n",
        "import matplotlib.pyplot as plt\n",
        "\n",
        "%matplotlib inline"
      ],
      "metadata": {
        "id": "h0RaDZMX9N1Y"
      },
      "execution_count": null,
      "outputs": []
    },
    {
      "cell_type": "code",
      "source": [
        "class KernelFunctions : #crear clase\n",
        "  \"\"\"\n",
        "  linear kernel\n",
        "  polinomial kernel\n",
        "  gaussian Kernel\n",
        "  exponential kernel\n",
        "  laplacian kernel\n",
        "  Anova kernel\n",
        "  Hyperbolic Tangent (Sgmoid) K\n",
        "  Rational Quadratic Kernel\n",
        "  Multiquadric Kernel\n",
        "  Inverse Multiquadric Kernel\n",
        "  \"\"\"\n",
        "  def __init__(self):\n",
        "    pass\n",
        "\n",
        "  def linear():\n",
        "    x=np.asarray([2,3.7,0.5,4.3,4])\n",
        "    y=np.asarray([0.5, 2.5, 8.3,-3.5,2])\n",
        "    c=5\n",
        "\n",
        "    x.shape=(5,1)\n",
        "    return x*y+c\n",
        "\n",
        "  def Polinomial():\n",
        "    x=np.asarray([2,3.7,0.5,4.3,4])\n",
        "    y=np.asarray([0.5, 2.5, 8.3,-3.5,2])\n",
        "    x.shape=(5,1)\n",
        "\n",
        "    alpha=5\n",
        "    c=0.5 \n",
        "\n",
        "    d=2\n",
        "    k=(alpha*x*y+c)**d\n",
        "    f = np.round(k, 2)\n",
        "    return f\n",
        "\n",
        "  def Gaussian():\n",
        "    sigma = 1e-1\n",
        "    N = 10\n",
        "    P = 1\n",
        "\n",
        "    X = np.random.randn(N,P)\n",
        "    X_ = np.random.randn(N,P)\n",
        "\n",
        "    OUT = np.zeros((N,N))\n",
        "\n",
        "    for i in range(N):\n",
        "      resta = X[i,...] - X_ # R{NXP}\n",
        "      norm = np.linalg.norm(resta, ord=2, axis=1) #R{N}\n",
        "      norm = norm**2 #R{N}\n",
        "      div = -1*(norm/(2*sigma**2)) #R{N}\n",
        "      k = np.exp(div) #R{N}\n",
        "      OUT[i, ...] = k\n",
        "\n",
        "    return OUT\n",
        "\n",
        "  def Exponential():\n",
        "    sigma = 1e-1\n",
        "    N = 10\n",
        "    P = 1\n",
        "\n",
        "    X = np.random.randn(N,P)\n",
        "    X_ = np.random.randn(N,P)\n",
        "\n",
        "    OUT = np.zeros((N,N))\n",
        "\n",
        "    for i in range(N):\n",
        "      resta = X[i,...] - X_ # R{NXP}\n",
        "      norm = np.linalg.norm(resta, ord=2, axis=1) #R{N}\n",
        "      #norm = norm**2 #R{N}\n",
        "      div = -1*(norm/(2*sigma**2)) #R{N}\n",
        "      k = np.exp(div) #R{N}\n",
        "      OUT[i, ...] = k\n",
        "\n",
        "    return OUT\n",
        "\n",
        "  def Laplacian():\n",
        "\n",
        "    sigma = 1e-1\n",
        "    N = 10\n",
        "    P = 1\n",
        "\n",
        "    X = np.random.randn(N,P)\n",
        "    X_ = np.random.randn(N,P)\n",
        "\n",
        "    OUT = np.zeros((N,N))\n",
        "\n",
        "    for i in range(N):\n",
        "      resta = X[i,...] - X_ # R{NXP}\n",
        "      norm = np.linalg.norm(resta, ord=2, axis=1) #R{N}\n",
        "      #norm = norm**2 #R{N}\n",
        "      div = -1*(norm/(sigma)) #R{N}\n",
        "      k = np.exp(div) #R{N}\n",
        "      OUT[i, ...] = k\n",
        "\n",
        "    return OUT\n",
        "\n",
        "  def ANOVA():\n",
        "    sigma = 1e-1\n",
        "\n",
        "    d=2\n",
        "\n",
        "    X = np.random.randn(1,10)\n",
        "    Y= np.random.randn(1,10)\n",
        "    X_ = Y.reshape(10,1)\n",
        "\n",
        "    #OUT = np.zeros((N,N))\n",
        "\n",
        "    for i in range (10) :\n",
        "      resta = X**i - X_**i # R{NXP}\n",
        "      sum=resta+resta\n",
        "    k = np.exp(div) #R{N}\n",
        "\n",
        "\n",
        "\n",
        "    return k \n",
        "    \n",
        "  def  HyperbolicTangent():\n",
        "    x=np.asarray([2,3.7,0.5,4.3,4])\n",
        "    y=np.asarray([0.5, 2.5, 8.3,-3.5,2])\n",
        "    x.shape=(5,1)\n",
        "\n",
        "    alpha=5\n",
        "    c=0.5 \n",
        "\n",
        "    d=2\n",
        "    k= np.tanh(alpha*x*y+c)\n",
        "    return k\n",
        "\n",
        "     \n",
        "  def  RationalQuadratic():\n",
        "    sigma = 1e-1\n",
        "    N = 10\n",
        "    P = 1\n",
        "    c=0\n",
        "\n",
        "    X = np.random.randn(N,P)\n",
        "    X_ = np.random.randn(N,P)\n",
        "\n",
        "    OUT = np.zeros((N,N))\n",
        "\n",
        "    for i in range(N):\n",
        "      resta = X[i,...] - X_ # R{NXP}\n",
        "      norm = np.linalg.norm(resta, ord=2, axis=1) #R{N}\n",
        "      norm = norm**2 #R{N}\n",
        "      div = 1-(norm/(norm+c)) #R{N}\n",
        "      k = np.exp(div) #R{N}\n",
        "      OUT[i, ...] = k\n",
        "\n",
        "    return OUT\n",
        "\n",
        "\n",
        "  def  MultilQuadratic():\n",
        "    sigma = 1e-1\n",
        "    N = 10\n",
        "    P = 1\n",
        "    c=0.5\n",
        "\n",
        "    X = np.random.randn(N,P)\n",
        "    X_ = np.random.randn(N,P)\n",
        "\n",
        "    OUT = np.zeros((N,N))\n",
        "\n",
        "    for i in range(N):\n",
        "      resta = X[i,...] - X_ # R{NXP}\n",
        "      norm = np.linalg.norm(resta, ord=2, axis=1) #R{N}\n",
        "      norm = norm**2 #R{N}\n",
        "      div = np.sqrt(norm+c**2)\n",
        "      k = np.exp(div) #R{N}\n",
        "      OUT[i, ...] = k\n",
        "\n",
        "    return OUT\n",
        "\n",
        "\n",
        "  def  InverseMultilQuadratic():\n",
        "    sigma = 1e-1\n",
        "    N = 10\n",
        "    P = 1\n",
        "    c=0.5\n",
        "\n",
        "    X = np.random.randn(N,P)\n",
        "    X_ = np.random.randn(N,P)\n",
        "\n",
        "    OUT = np.zeros((N,N))\n",
        "\n",
        "    for i in range(N):\n",
        "      resta = X[i,...] - X_ # R{NXP}\n",
        "      norm = np.linalg.norm(resta, ord=2, axis=1) #R{N}\n",
        "      norm = norm**2 #R{N}\n",
        "      div = 1/(norm+c**2) #R{N}\n",
        "      k = np.exp(div) #R{N}\n",
        "      OUT[i, ...] = k\n",
        "\n",
        "    return OUT\n",
        "\n"
      ],
      "metadata": {
        "id": "wAxH5wRZIheb"
      },
      "execution_count": null,
      "outputs": []
    },
    {
      "cell_type": "code",
      "source": [
        "operacion=KernelFunctions # instanciar el objeto"
      ],
      "metadata": {
        "id": "nOYEVfMgLW36"
      },
      "execution_count": null,
      "outputs": []
    },
    {
      "cell_type": "code",
      "source": [
        "resultado1=operacion.linear"
      ],
      "metadata": {
        "id": "VyNW1nIHLdKo"
      },
      "execution_count": null,
      "outputs": []
    },
    {
      "cell_type": "code",
      "source": [
        "resultado2=operacion.Polinomial"
      ],
      "metadata": {
        "id": "fxKAUfDSOVEk"
      },
      "execution_count": null,
      "outputs": []
    },
    {
      "cell_type": "code",
      "source": [
        "resultado3=operacion.Gaussian"
      ],
      "metadata": {
        "id": "S_QJUUluZRlM"
      },
      "execution_count": null,
      "outputs": []
    },
    {
      "cell_type": "code",
      "source": [
        "resultado4=operacion.Exponential"
      ],
      "metadata": {
        "id": "dxrLNYvzdD2K"
      },
      "execution_count": null,
      "outputs": []
    },
    {
      "cell_type": "code",
      "source": [
        "resultado5=operacion.Laplacian"
      ],
      "metadata": {
        "id": "t-s-I5ykvfQJ"
      },
      "execution_count": null,
      "outputs": []
    },
    {
      "cell_type": "code",
      "source": [
        "resultado6=operacion.ANOVA"
      ],
      "metadata": {
        "id": "6ykB4WinGyUT"
      },
      "execution_count": null,
      "outputs": []
    },
    {
      "cell_type": "code",
      "source": [
        "resultado7=operacion.HyperbolicTangent"
      ],
      "metadata": {
        "id": "WN5hRJxZG0qa"
      },
      "execution_count": null,
      "outputs": []
    },
    {
      "cell_type": "code",
      "source": [
        "resultado8=operacion.RationalQuadratic"
      ],
      "metadata": {
        "id": "neoHq9ZaG1Ua"
      },
      "execution_count": null,
      "outputs": []
    },
    {
      "cell_type": "code",
      "source": [
        "resultado9=operacion.InverseMultilQuadratic"
      ],
      "metadata": {
        "id": "mS__ldnQG1j6"
      },
      "execution_count": null,
      "outputs": []
    },
    {
      "cell_type": "code",
      "source": [
        "resultado0=operacion.MultilQuadratic"
      ],
      "metadata": {
        "id": "734xjybtG1x6"
      },
      "execution_count": null,
      "outputs": []
    },
    {
      "cell_type": "code",
      "source": [
        "resultado0()"
      ],
      "metadata": {
        "colab": {
          "base_uri": "https://localhost:8080/"
        },
        "id": "A_8-pK5kH9BD",
        "outputId": "cc84e761-35e2-4515-fa2b-9797531e9f1a"
      },
      "execution_count": null,
      "outputs": [
        {
          "output_type": "execute_result",
          "data": {
            "text/plain": [
              "array([[ 1.7291878 ,  2.60824431,  2.43710102,  2.80464708, 10.71464755,\n",
              "         1.65245599, 10.06562483,  8.21855134,  2.28978964,  8.23413869],\n",
              "       [ 9.05700959,  3.36206247,  3.62014394,  3.11602316,  1.89197401,\n",
              "         6.96243585,  1.82217095,  1.67370746, 13.8895757 ,  1.67449666],\n",
              "       [ 1.81312995,  2.40024522,  2.24931703,  2.57472754,  9.72540118,\n",
              "         1.65310107,  9.1375058 ,  7.46459145,  2.48314453,  7.47870736],\n",
              "       [45.98602953, 16.43097701, 17.78964071, 15.128221  ,  3.85675548,\n",
              "        35.15548843,  4.09365454,  4.98160201, 70.95934771,  4.97237755],\n",
              "       [ 4.75889059,  1.94178582,  2.05289286,  1.84349311,  3.2402376 ,\n",
              "         3.69193876,  3.05899989,  2.55115356,  7.23587054,  2.55536607],\n",
              "       [ 2.44086983,  1.79368101,  1.72787622,  1.8810495 ,  6.49270558,\n",
              "         1.98356763,  6.10510036,  5.00334919,  3.58984724,  5.01263495],\n",
              "       [ 1.73041095,  2.60440361,  2.43362021,  2.80041347, 10.69656841,\n",
              "         1.6521902 , 10.04866249,  8.20477057,  2.29294749,  8.22033105],\n",
              "       [15.47501969,  5.6171685 ,  6.06920565,  5.1841782 ,  1.68613512,\n",
              "        11.86059048,  1.72363556,  1.92572703, 23.80793336,  1.92330387],\n",
              "       [ 3.91641758,  1.73310439,  1.80058062,  1.6830026 ,  3.92043686,\n",
              "         3.05682148,  3.69465661,  3.05693496,  5.92483562,  3.062273  ],\n",
              "       [ 2.33600363,  1.84734945,  1.76958538,  1.94641816,  6.83762825,\n",
              "         1.91440671,  6.42858143,  5.26561811,  3.41748564,  5.27542213]])"
            ]
          },
          "metadata": {},
          "execution_count": 43
        }
      ]
    }
  ]
}