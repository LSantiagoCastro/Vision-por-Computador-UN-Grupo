{
  "nbformat": 4,
  "nbformat_minor": 0,
  "metadata": {
    "colab": {
      "name": "PerceptrónSimple",
      "provenance": []
    },
    "kernelspec": {
      "name": "python3",
      "display_name": "Python 3"
    },
    "language_info": {
      "name": "python"
    }
  },
  "cells": [
    {
      "cell_type": "markdown",
      "source": [
        "#Perceptrón Simple\n",
        "<img src=\"https://drive.google.com/uc?export=view&id=1ZPeYXzwqlSu1nR-wI-VtV0lhSaFh-Igt\" width=\"50%\" height=\"35%\"/>\n",
        "\n",
        "Es un algoritmo basado en el comportamiento de la neurona, en él hay multiples entradas que se multiplican por sus respectivos  pesos y en el nucleo se realiza la suma ponderada de las entradas por los pesos.\n",
        "\n",
        "Tiene la siguiente interpretación matematica:\n",
        "\n",
        "$\\mathbf{x}=\\left[\\begin{array}{c}x_1 \\\\ x_2 \\\\ \\vdots \\\\ x_i\\end{array}\\right]$, es el vector de entrada $\\mathbf{x} \\in \\mathbb{R}^{i}$ \n",
        "\n",
        "$\\mathbf{w}=\\left[\\begin{array}{c}w_1 \\\\ w_2 \\\\ \\vdots \\\\ w_i\\end{array}\\right]$,es el vetor de pesos $\\mathbf{w} \\in \\mathbb{R}^{i}$  \n",
        "\n",
        "$\\mathbf{h}=\\mathbf{x} \\mathbf{w}^{T} + \\mathbf{b}$, es la suma ponderada de las entradas por los pesos $\\mathbf{h} \\in \\mathbb{R}$ \n",
        "\n",
        "$y$, es una etiqueta\n",
        "\n",
        "$\\hat{y} \\in \\mathbb{R}^{(0,1)}$ es la salida del perceptrón  \n",
        "\n",
        "$\\hat{y}=f\\left(\\mathbf{x} \\mathbf{w}^{T}+\\mathbf{b}\\right)$\n",
        "\n",
        "\n"
      ],
      "metadata": {
        "id": "1YIhuLS51li1"
      }
    },
    {
      "cell_type": "markdown",
      "source": [
        "Para entrenar el perceptrón se ha seguido el siguiente procedimiento\n",
        "\n",
        "1. calcular la salida\n",
        "\n",
        "$\\widehat{y}=f(h)$\n",
        "\n",
        "$h=w_1x_1 + w_2x_2 + b$\n",
        "\n",
        "$f(h) = \\frac{1}{1+e^{-h}}$\n",
        "\n",
        "2. Determinar el error\n",
        "\n",
        "$ E= -y\\cdot log(\\widehat{y}) $\n",
        "\n",
        "3. modificar los pesos \n",
        "\n",
        "$\\frac{\\partial E }{\\partial w_i}=\\frac{\\partial E }{\\partial \\widehat{y}}\\cdot \\frac{\\partial \\widehat{y} }{\\partial h}\\cdot \\frac{\\partial h }{\\partial x_i}$\n",
        "\n",
        "4. Declarar un termino de error \n",
        "\n",
        "${f}'(h)=f(h)(1-f(h))$\n",
        "\n",
        "$\\delta = \\frac{y}{\\hat{y}}\\cdot {f}'(h)$\n",
        "\n",
        "5. Determinar el incremeto\n",
        "\n",
        "$\\Delta w_i = \\eta \\delta x_i$ ,  $\\eta$ es el learning rate\n",
        "\n",
        "6. Actualizar los pesos\n",
        "\n",
        "$w_i=w_i-(-\\Delta w_i)$\n",
        "\n",
        "7. Repetir el Procedimiento con los nuevos pesos hasta converger\n",
        "\n",
        "\n",
        "\n",
        "\n"
      ],
      "metadata": {
        "id": "jzRZqxOBQ7YQ"
      }
    },
    {
      "cell_type": "code",
      "execution_count": 2,
      "metadata": {
        "id": "_5WZXF-pgWLx"
      },
      "outputs": [],
      "source": [
        "import numpy as np\n",
        "import matplotlib.pyplot as plt"
      ]
    },
    {
      "cell_type": "code",
      "source": [
        ""
      ],
      "metadata": {
        "id": "ht2hNcQvLNu_"
      },
      "execution_count": 2,
      "outputs": []
    },
    {
      "cell_type": "code",
      "source": [
        "class Perceptron:\n",
        "  \"\"\"\n",
        "  f_h  =  y_hat  =  xw^T + b\n",
        "  x:vector de entrada\n",
        "  w:vector de pesos\n",
        "  b=bias\n",
        "  f_h=salida del perceptron\n",
        "\n",
        "  interpetación del perceptrón siguiendo los pasos:\n",
        "  1.Determinar el Forward Pass\n",
        "  2.Determinar el error respecto a la etiqueta \n",
        "  3.Modificar los pesos\n",
        "  4.Termino de error\n",
        "  5.Determinar el incremento\n",
        "  6.Actualizar los pesos \n",
        "\n",
        "  \"\"\"\n",
        "  def __init__(self, x1,x2):\n",
        "    self.x1=x1\n",
        "    self.x2=x2\n",
        "    self.x=np.array([self.x1,self.x2])\n",
        "\n",
        "    self.y = 0.6 #Este valor es la etiqueta \n",
        "    self.n = 0.4\n",
        "  \n",
        "  def Pesos(self,w1,w2):\n",
        "    self.w1=w1\n",
        "    self.w2=w2\n",
        "    #self.w1=random.uniform (-1, 1)\n",
        "    #self.w2=random.uniform (-1, 1)\n",
        "    self.w=np.array([self.w1,self.w2])\n",
        "\n",
        "  def SumaPonderada(self):\n",
        "    h = np.dot(self.x,self.w) #hhhhhhhhhhhhhhhhhhhh\n",
        "    return h  \n",
        "  #Forward pass:\n",
        "  def SalidaPerceptron(self): \n",
        "    h = np.dot(self.x,self.w) #hhhhhhhhhhhhhhhhhhhh\n",
        "    f_h =1 / (1 + np.exp(-h)) #f_hf_hf_hf_hf_hf_h\n",
        "    return f_h\n",
        "  #Loss  \n",
        "  def Error(self):\n",
        "    h = np.dot(self.x,self.w) #hhhhhhhhhhhhhhhhhhhh\n",
        "    f_h =1 / (1 + np.exp(-h)) #f_hf_hf_hf_hf_hf_h\n",
        "    E1 = -1*self.y*np.log(f_h)\n",
        "    E2 = (self.y - f_h)*(self.y - f_h)\n",
        "    return E1,E2\n",
        "  #Modificar los pesos\n",
        "  def TerminoDeError1(self):\n",
        "    h = np.dot(self.x,self.w) #hhhhhhhhhhhhhhhhhhhh\n",
        "    f_h =1 / (1 + np.exp(-h)) #f_hf_hf_hf_hf_hf_h\n",
        "    \n",
        "    dE1df =-1*(self.y - f_h)\n",
        "    dfdh=f_h*(1-f_h)\n",
        "    dhdw=self.x\n",
        "\n",
        "    dE1dw=dE1df*dfdh*dhdw\n",
        "\n",
        "    delta=(self.y - f_h)*dfdh\n",
        "\n",
        "    return delta\n",
        "  ## termino de error\n",
        "  def TerminoDeError2(self):\n",
        "    h = np.dot(self.x,self.w) #hhhhhhhhhhhhhhhhhhhh\n",
        "    f_h =1 / (1 + np.exp(-h)) #f_hf_hf_hf_hf_hf_h\n",
        "    \n",
        "    dE2df =self.y / f_h\n",
        "    dfdh=f_h*(1-f_h)\n",
        "    dhdw=self.x\n",
        "\n",
        "    dE2dw=dE2df*dfdh*dhdw\n",
        "\n",
        "    delta=dE2df*dfdh\n",
        "\n",
        "    return delta\n",
        "\n",
        "  def Incremento(self):\n",
        "    h = np.dot(self.x,self.w) #hhhhhhhhhhhhhhhhhhhh\n",
        "    f_h =1 / (1 + np.exp(-h)) #f_hf_hf_hf_hf_hf_h\n",
        "   \n",
        "    dE1df =-1*(self.y - f_h)\n",
        "    dE2df =self.y / f_h\n",
        "    \n",
        "    dfdh=f_h*(1-f_h)\n",
        "    dhdw=self.x\n",
        "\n",
        "    dE1dw=dE1df*dfdh*dhdw\n",
        "    dE2dw=dE2df*dfdh*dhdw\n",
        "\n",
        "    delta2=dE2df*dfdh\n",
        "    delta1=-1*dE1df*dfdh\n",
        "\n",
        "    deltaw11=self.n*delta1*self.x1   #incremento de w1 para el termino de error 1\n",
        "    deltaw12=self.n*delta1*self.x2   #incremento de w2 para el termino de error 1\n",
        "    \n",
        "    deltaw21=self.n*delta1*self.x1   #incremento de w1 para el termino de error 2\n",
        "    deltaw22=self.n*delta1*self.x2   #incremento de w2 para el termino de error 2\n",
        "\n",
        "    return deltaw11,deltaw12\n",
        "\n",
        "  def Actualizar(self):\n",
        "    h = np.dot(self.x,self.w) #hhhhhhhhhhhhhhhhhhhh\n",
        "    f_h =1 / (1 + np.exp(-h)) #f_hf_hf_hf_hf_hf_h\n",
        "   \n",
        "    dE1df =-1*(self.y - f_h)\n",
        "    dE2df =self.y / f_h\n",
        "    \n",
        "    dfdh=f_h*(1-f_h)\n",
        "    dhdw=self.x\n",
        "\n",
        "    dE1dw=dE1df*dfdh*dhdw\n",
        "    dE2dw=dE2df*dfdh*dhdw\n",
        "\n",
        "    delta2=dE2df*dfdh\n",
        "    delta1=-1*dE1df*dfdh\n",
        "\n",
        "    deltaw11=self.n*delta1*self.x1   #incremento de w1 para el termino de error 1\n",
        "    deltaw12=self.n*delta1*self.x2   #incremento de w2 para el termino de error 1\n",
        "    \n",
        "    deltaw21=self.n*delta1*self.x1   #incremento de w1 para el termino de error 2\n",
        "    deltaw22=self.n*delta1*self.x2   #incremento de w2 para el termino de error 2\n",
        "######################################################################################\n",
        "    \n",
        "    #omega1 = self.w1 + deltaw21\n",
        "    #omega2 = self.w2 + deltaw22\n",
        "\n",
        "    omega1 = self.w1 + deltaw11 #nuevo peso w1\n",
        "    omega2 = self.w2 + deltaw12 #nuevo peso w2\n",
        "\n",
        "    return omega1, omega2"
      ],
      "metadata": {
        "id": "JrQR5hPPiRDT"
      },
      "execution_count": 3,
      "outputs": []
    },
    {
      "cell_type": "code",
      "source": [
        "perc=Perceptron(2,1)\n",
        "p=perc.Pesos(-0.5,0.5)\n",
        "x=perc.SumaPonderada()\n",
        "z=perc.Error()\n",
        "y=perc.SalidaPerceptron()\n",
        "w=perc.TerminoDeError1()\n",
        "a=perc.TerminoDeError2()\n",
        "b=perc.Incremento()\n",
        "c=perc.Actualizar()\n",
        "c=np.array(c)\n",
        "xxx=[]\n",
        "# perceptron training\n",
        "for i in range(1,40):\n",
        "  p=perc.Pesos(c[0],c[1])\n",
        "  x=perc.SumaPonderada()\n",
        "  z=perc.Error()\n",
        "  y=perc.SalidaPerceptron()\n",
        "  w=perc.TerminoDeError1()\n",
        "  a=perc.TerminoDeError2()\n",
        "  b=perc.Incremento()\n",
        "  c=perc.Actualizar()\n",
        "  c=np.array(c)\n",
        "  xxx.append(c)\n",
        "\n",
        "plt.plot(xxx)\n",
        "plt.title('Actualización de pesos VS iteraciones')\n",
        "plt.ylabel('Pesos')\n",
        "plt.xlabel('Iteraciones')\n",
        "plt.show"
      ],
      "metadata": {
        "colab": {
          "base_uri": "https://localhost:8080/",
          "height": 313
        },
        "id": "U4LE1AC-jity",
        "outputId": "7ae7b98a-b824-417f-881f-cb80d4f09df9"
      },
      "execution_count": 12,
      "outputs": [
        {
          "output_type": "execute_result",
          "data": {
            "text/plain": [
              "<function matplotlib.pyplot.show>"
            ]
          },
          "metadata": {},
          "execution_count": 12
        },
        {
          "output_type": "display_data",
          "data": {
            "text/plain": [
              "<Figure size 432x288 with 1 Axes>"
            ],
            "image/png": "[encoded data removed]"
          },
          "metadata": {
            "needs_background": "light"
          }
        }
      ]
    },
    {
      "cell_type": "code",
      "source": [
        "c"
      ],
      "metadata": {
        "colab": {
          "base_uri": "https://localhost:8080/"
        },
        "id": "dRJdqtrqz775",
        "outputId": "30a23544-78d5-440d-eb03-8fe09bf90a2a"
      },
      "execution_count": 11,
      "outputs": [
        {
          "output_type": "execute_result",
          "data": {
            "text/plain": [
              "array([-0.14016658,  0.67991671])"
            ]
          },
          "metadata": {},
          "execution_count": 11
        }
      ]
    },
    {
      "cell_type": "markdown",
      "source": [
        "Referencias:\n",
        "\n",
        "https://es.wikipedia.org/wiki/Perceptr%C3%B3n\n",
        "\n",
        "https://www.youtube.com/watch?v=IHZwWFHWa-w\n",
        "\n",
        "https://www.youtube.com/watch?v=uiJiZ3JDafY"
      ],
      "metadata": {
        "id": "ISypdwVjihHh"
      }
    }
  ]
}